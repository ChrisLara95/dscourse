{
 "cells": [
  {
   "cell_type": "markdown",
   "id": "accepting-university",
   "metadata": {},
   "source": [
    "# Lab 0: Repaso de Programación y `Python`\n",
    "\n",
    "\n",
    "**MDS7202: Laboratorio de Programación Científica para Ciencia de Datos**\n"
   ]
  },
  {
   "cell_type": "markdown",
   "id": "collective-springer",
   "metadata": {},
   "source": [
    "## Introducción a Python\n",
    "\n",
    "<img src=./resources/python_logo.png width=400/>\n",
    "\n",
    "\n",
    "`Python` es un lenguaje de programación multipropósito, diseñado para preservar legibilidad y simpleza sintáctica.\n",
    "Sus características y principios lo convierten en un lenguaje poderoso y fácil de aprender.\n",
    "\n",
    "\n",
    "\n",
    "\n",
    "Es ampliamente utilizado en ámbitos tales como: \n",
    "\n",
    "- Desarrollo Web, \n",
    "- Data Science, \n",
    "- Scripting\n",
    "- Software de escritorio,\n",
    "- etc...\n",
    "\n",
    "> **Pregunta ❓**: ¿En qué han utilizado `Python` con anterioridad?"
   ]
  },
  {
   "cell_type": "markdown",
   "id": "824c0067",
   "metadata": {},
   "source": [
    "## ¿Por qué usamos `Python` en Data Science?\n",
    "\n",
    "Este lenguaje juega un rol importante dentro de la ciencia de los datos / aprendizaje automático. Debido a su simpleza, la comunidad la ha preferido para desarrollar un diversas librerías abiertas enfocadas en resolver problemas de ciencias de los datos. A esto comunmente se le conoce como *ecosistema de librerías*.\n",
    "\n",
    "Nos centraremos en los elementos más relacionados de este lenguaje con la práctica en ciencia de datos. "
   ]
  },
  {
   "cell_type": "code",
   "execution_count": null,
   "id": "arbitrary-contribution",
   "metadata": {
    "ExecuteTime": {
     "end_time": "2021-03-22T19:21:20.238432Z",
     "start_time": "2021-03-22T19:21:20.217433Z"
    },
    "scrolled": false
   },
   "outputs": [],
   "source": [
    "# Pueden ver los principios de python ejecutando la siguiente celda:\n",
    "import this"
   ]
  },
  {
   "cell_type": "markdown",
   "id": "champion-dubai",
   "metadata": {},
   "source": [
    "---\n",
    "\n",
    "### Variables\n",
    "\n",
    "Las variables son un bloque fundamental en la programación: Son el medio que nos permite vincular un identificador/variable con valores/datos.\n",
    "En Python se definen por medio de una **sentencia de asignación** usando el operador ` = `.\n",
    "\n",
    "**Nota**: Una sentencia es una instrucción que el intérprete de Python puede ejecutar\n",
    "\n",
    "**Ejemplo:**"
   ]
  },
  {
   "cell_type": "code",
   "execution_count": null,
   "id": "extensive-basis",
   "metadata": {
    "ExecuteTime": {
     "end_time": "2021-03-22T19:22:38.821644Z",
     "start_time": "2021-03-22T19:22:38.817644Z"
    }
   },
   "outputs": [],
   "source": [
    "variable = 9"
   ]
  },
  {
   "cell_type": "markdown",
   "id": "atlantic-insight",
   "metadata": {},
   "source": [
    "Pueden imprimir el valor que tiene una variable con la función `print(identificador)` \n",
    "\n",
    "**Nota**: Todas las funciones en python se ejecutan como `nombre_funcion(argumento_1, argumento_2, ...)`"
   ]
  },
  {
   "cell_type": "code",
   "execution_count": null,
   "id": "eleven-austria",
   "metadata": {
    "ExecuteTime": {
     "end_time": "2021-03-22T19:23:23.900022Z",
     "start_time": "2021-03-22T19:23:23.887023Z"
    },
    "scrolled": false
   },
   "outputs": [],
   "source": [
    "print(variable)"
   ]
  },
  {
   "cell_type": "markdown",
   "id": "prepared-collector",
   "metadata": {},
   "source": [
    "O cuando estén ejecutando un Jupyter Notebook, pueden ver el valor de la variable poniendo esta al final de una celda."
   ]
  },
  {
   "cell_type": "code",
   "execution_count": null,
   "id": "gentle-illinois",
   "metadata": {
    "ExecuteTime": {
     "end_time": "2021-03-22T19:24:03.318890Z",
     "start_time": "2021-03-22T19:24:03.311841Z"
    },
    "scrolled": true
   },
   "outputs": [],
   "source": [
    "# esto es una variable\n",
    "variable"
   ]
  },
  {
   "cell_type": "markdown",
   "id": "damaged-louis",
   "metadata": {},
   "source": [
    "> **Nota 🗒️:** Pueden escribir comentarios (lineas que no se ejecutarán) usando #:\n",
    "\n",
    "```python\n",
    "# esto es un comentario.\n",
    "variable = 2\n",
    "```"
   ]
  },
  {
   "cell_type": "markdown",
   "id": "egyptian-sharp",
   "metadata": {},
   "source": [
    "## Tipos de Datos Básicos\n",
    "\n",
    "A continuación veremos los tipos de datos básicos o literales: **datos en bruto** que se asignan a variables.\n",
    "\n",
    "\n",
    "**Strings**: Corresponden a \"cadenas\" que contienen un texto. Estos pueden ser definidos usando comillas simples ``` ' '``` o dobles ``` \" \"```."
   ]
  },
  {
   "cell_type": "code",
   "execution_count": null,
   "id": "inside-departure",
   "metadata": {
    "ExecuteTime": {
     "end_time": "2021-03-22T19:27:24.309550Z",
     "start_time": "2021-03-22T19:27:24.305543Z"
    }
   },
   "outputs": [],
   "source": [
    "nombre = 'Juan'\n",
    "nombre = ''\n",
    "nombre"
   ]
  },
  {
   "cell_type": "markdown",
   "id": "jewish-documentation",
   "metadata": {},
   "source": [
    "**Integers**: Números enteros creados sin parte compleja ni posiciones decimales. En este tipo de de dato es posible realizar las operaciones de división entera."
   ]
  },
  {
   "cell_type": "code",
   "execution_count": null,
   "id": "julian-tennessee",
   "metadata": {
    "ExecuteTime": {
     "end_time": "2021-03-22T19:25:31.129685Z",
     "start_time": "2021-03-22T19:25:31.110685Z"
    }
   },
   "outputs": [],
   "source": [
    "entero = 9\n",
    "entero"
   ]
  },
  {
   "cell_type": "markdown",
   "id": "extreme-oxide",
   "metadata": {},
   "source": [
    "**Floats**: Valores numéricos de punto flotante, pueden ser creados agregando posiciones decimales ej: ```0.87```"
   ]
  },
  {
   "cell_type": "code",
   "execution_count": null,
   "id": "square-jones",
   "metadata": {
    "ExecuteTime": {
     "end_time": "2021-03-22T19:25:47.489212Z",
     "start_time": "2021-03-22T19:25:47.480216Z"
    }
   },
   "outputs": [],
   "source": [
    "numero_flotante = 9.2344\n",
    "numero_flotante"
   ]
  },
  {
   "cell_type": "markdown",
   "id": "periodic-characterization",
   "metadata": {},
   "source": [
    "**Complex**: Números complejos, se pueden crear utilizando la notación ```a + bj``` donde ```a``` es la parte real y ```b``` es la parte compleja."
   ]
  },
  {
   "cell_type": "code",
   "execution_count": null,
   "id": "printable-mining",
   "metadata": {
    "ExecuteTime": {
     "end_time": "2021-03-22T19:25:52.849207Z",
     "start_time": "2021-03-22T19:25:52.841207Z"
    },
    "scrolled": true
   },
   "outputs": [],
   "source": [
    "numero_complejo = 10 + 1j\n",
    "numero_complejo"
   ]
  },
  {
   "cell_type": "markdown",
   "id": "affecting-session",
   "metadata": {},
   "source": [
    "**Booleans/Bools**: `True` o `False`."
   ]
  },
  {
   "cell_type": "code",
   "execution_count": null,
   "id": "super-affair",
   "metadata": {
    "ExecuteTime": {
     "end_time": "2021-03-22T19:26:29.515577Z",
     "start_time": "2021-03-22T19:26:29.500546Z"
    }
   },
   "outputs": [],
   "source": [
    "booleano = False\n",
    "booleano"
   ]
  },
  {
   "cell_type": "markdown",
   "id": "suburban-radar",
   "metadata": {
    "ExecuteTime": {
     "end_time": "2021-03-22T15:21:25.296930Z",
     "start_time": "2021-03-22T15:21:25.278931Z"
    }
   },
   "source": [
    "**None**: Tipo especial (pronunciado *nan*)"
   ]
  },
  {
   "cell_type": "code",
   "execution_count": null,
   "id": "committed-citizen",
   "metadata": {
    "ExecuteTime": {
     "end_time": "2021-03-22T19:11:41.641505Z",
     "start_time": "2021-03-22T19:11:41.627508Z"
    }
   },
   "outputs": [],
   "source": [
    "variable_sin_ningún_valor = None\n",
    "variable_sin_ningún_valor"
   ]
  },
  {
   "cell_type": "code",
   "execution_count": null,
   "id": "accredited-objective",
   "metadata": {
    "ExecuteTime": {
     "end_time": "2021-03-22T19:27:31.586122Z",
     "start_time": "2021-03-22T19:27:31.569122Z"
    }
   },
   "outputs": [],
   "source": [
    "esto_lo_voy_a_ocupar = None"
   ]
  },
  {
   "cell_type": "markdown",
   "id": "unlimited-diameter",
   "metadata": {
    "ExecuteTime": {
     "end_time": "2021-03-22T14:17:09.464686Z",
     "start_time": "2021-03-22T14:17:09.444669Z"
    }
   },
   "source": [
    "### Saber el tipo de dato con el que estamos trabajando con `type`\n",
    "\n",
    "Podemos usar la función `type(identificador)`"
   ]
  },
  {
   "cell_type": "code",
   "execution_count": null,
   "id": "dental-filling",
   "metadata": {
    "ExecuteTime": {
     "end_time": "2021-03-22T19:28:13.717955Z",
     "start_time": "2021-03-22T19:28:13.708955Z"
    },
    "scrolled": true
   },
   "outputs": [],
   "source": [
    "print(type(nombre))"
   ]
  },
  {
   "cell_type": "code",
   "execution_count": null,
   "id": "unauthorized-oregon",
   "metadata": {
    "ExecuteTime": {
     "end_time": "2021-03-22T19:28:19.987131Z",
     "start_time": "2021-03-22T19:28:19.972132Z"
    },
    "scrolled": true
   },
   "outputs": [],
   "source": [
    "print(type(entero))"
   ]
  },
  {
   "cell_type": "markdown",
   "id": "37b317a4",
   "metadata": {},
   "source": [
    "### Verificar el tipo de dato con `isinstance`"
   ]
  },
  {
   "cell_type": "code",
   "execution_count": null,
   "id": "37608041",
   "metadata": {},
   "outputs": [],
   "source": [
    "isinstance(nombre, str)"
   ]
  },
  {
   "cell_type": "code",
   "execution_count": null,
   "id": "72a330ef",
   "metadata": {},
   "outputs": [],
   "source": [
    "isinstance(nombre, int)"
   ]
  },
  {
   "cell_type": "markdown",
   "id": "lesser-accountability",
   "metadata": {},
   "source": [
    "### Tipado Dinámico"
   ]
  },
  {
   "cell_type": "markdown",
   "id": "abroad-dance",
   "metadata": {},
   "source": [
    "Vale considerar que el **valor de una variable posee un tipo de dato** mas no se tiene la relación reciproca. Es decir, **una variable no posee un tipo de datos asociado**. \n",
    "\n",
    "Lo anterior permite definir el concepto de **Tipado Dinámico** es decir, se puede reutilizar la misma variable apuntando a un tipo de dato distinto. (variables como \"nombres\")"
   ]
  },
  {
   "cell_type": "code",
   "execution_count": null,
   "id": "measured-palestine",
   "metadata": {
    "ExecuteTime": {
     "end_time": "2021-03-22T19:29:17.307289Z",
     "start_time": "2021-03-22T19:29:17.296292Z"
    }
   },
   "outputs": [],
   "source": [
    "entero = 100\n",
    "entero"
   ]
  },
  {
   "cell_type": "code",
   "execution_count": null,
   "id": "widespread-singles",
   "metadata": {
    "ExecuteTime": {
     "end_time": "2021-03-22T19:11:41.705018Z",
     "start_time": "2021-03-22T19:11:41.692020Z"
    }
   },
   "outputs": [],
   "source": [
    "print(type(entero))"
   ]
  },
  {
   "cell_type": "code",
   "execution_count": null,
   "id": "operating-sustainability",
   "metadata": {
    "ExecuteTime": {
     "end_time": "2021-03-22T19:29:49.984338Z",
     "start_time": "2021-03-22T19:29:49.964338Z"
    }
   },
   "outputs": [],
   "source": [
    "# Redefinimos entero:\n",
    "\n",
    "entero = 3 -1j\n",
    "entero"
   ]
  },
  {
   "cell_type": "code",
   "execution_count": null,
   "id": "informed-warner",
   "metadata": {
    "ExecuteTime": {
     "end_time": "2021-03-22T19:29:51.422847Z",
     "start_time": "2021-03-22T19:29:51.412841Z"
    }
   },
   "outputs": [],
   "source": [
    "print(type(entero))"
   ]
  },
  {
   "cell_type": "markdown",
   "id": "consecutive-linux",
   "metadata": {},
   "source": [
    "La flexibilidad en la declaración de variables, no implica flexibilidad en el manejo de tipos de datos.\n",
    "\n",
    "Es decir, hay operaciones no permitidas entre tipos de datos distintos (por ejemplo, elevar un string al cuadrado). En Python existe la conversión de datos, esta consiste en cambiar el tipo de dato asociado a cierta variable para realizar las operación que busquemos."
   ]
  },
  {
   "cell_type": "markdown",
   "id": "demographic-vietnam",
   "metadata": {
    "ExecuteTime": {
     "end_time": "2021-03-22T14:32:19.114508Z",
     "start_time": "2021-03-22T14:32:19.100507Z"
    }
   },
   "source": [
    "## Convenciones Básicas Para Nombrar Variables\n",
    "\n",
    "Estas son las convenciones que se ocupan normalmente en `python` al escribir código y que **utilizaremos en el curso**.\n",
    "\n",
    "- Variables y funciones:\n",
    "\n",
    "```python\n",
    "entero = 10\n",
    "entero_mas_grande = 100\n",
    "cadena_2 = 10\n",
    "```\n",
    "\n",
    "- Constantes (identificadores que no deberían cambiar a futuro): \n",
    "```python\n",
    "PI = 3.14\n",
    "GRAVEDAD_EN_MARTE = 3.711\n",
    "```\n",
    "\n",
    "> **Pregunta ❓**: ¿Pueden cambiar los valores de las constantes?\n"
   ]
  },
  {
   "cell_type": "markdown",
   "id": "polish-plasma",
   "metadata": {},
   "source": [
    "## Operaciones entre datos"
   ]
  },
  {
   "cell_type": "markdown",
   "id": "fiscal-encounter",
   "metadata": {},
   "source": [
    "Los operadores en python son **símbolos y keywords** especiales que permiten llevar a cabo operaciones aritméticas o lógicas entre datos.\n",
    "\n",
    "Aritméticas:\n",
    "\n",
    "- `+` \n",
    "- `-` \n",
    "- `*`\n",
    "- `/`\n",
    "- `//` (división entera)\n",
    "- `%` (módulo) \n",
    "\n",
    "Comparación e igualdad:\n",
    "\n",
    "- `>` y `>=`\n",
    "- `<` y `<=`\n",
    "- `==`\n",
    "\n",
    "Lógicas:\n",
    "\n",
    "- `and`\n",
    "- `or`\n",
    "- `not`\n",
    "- `is`\n",
    "- `in`\n",
    "- `not in`"
   ]
  },
  {
   "cell_type": "markdown",
   "id": "thorough-milan",
   "metadata": {},
   "source": [
    "### Expresión\n",
    "\n",
    "Una expresión es una combinación de valores, variables y operadores que pueden ser evaluadas por el interprete.\n",
    "\n",
    "> **Nota 🗒️**: Python es interpretado. Esto quiere decir que existe un *interprete* que convierte el código a `bytecode` (código que el procesador es capaz de entender y ejecutar) en el momento en que el código se ejecuta. Otro paradigma: Lenguajes Compilados."
   ]
  },
  {
   "cell_type": "markdown",
   "id": "stuck-dollar",
   "metadata": {
    "ExecuteTime": {
     "end_time": "2021-03-22T15:06:13.576207Z",
     "start_time": "2021-03-22T15:06:13.565203Z"
    }
   },
   "source": [
    "### Expresiones con Operadores Aritméticos y de Comparación e Igualdad"
   ]
  },
  {
   "cell_type": "code",
   "execution_count": null,
   "id": "joined-deviation",
   "metadata": {
    "ExecuteTime": {
     "end_time": "2021-03-22T19:35:19.329013Z",
     "start_time": "2021-03-22T19:35:19.320006Z"
    }
   },
   "outputs": [],
   "source": [
    "5 + 2"
   ]
  },
  {
   "cell_type": "code",
   "execution_count": null,
   "id": "joined-interface",
   "metadata": {
    "ExecuteTime": {
     "end_time": "2021-03-22T19:35:21.891720Z",
     "start_time": "2021-03-22T19:35:21.876721Z"
    }
   },
   "outputs": [],
   "source": [
    "5 * 2"
   ]
  },
  {
   "cell_type": "code",
   "execution_count": null,
   "id": "ordered-religious",
   "metadata": {
    "ExecuteTime": {
     "end_time": "2021-03-22T19:35:22.736640Z",
     "start_time": "2021-03-22T19:35:22.725640Z"
    }
   },
   "outputs": [],
   "source": [
    "5 / 2"
   ]
  },
  {
   "cell_type": "code",
   "execution_count": null,
   "id": "correct-romantic",
   "metadata": {
    "ExecuteTime": {
     "end_time": "2021-03-22T19:35:24.591066Z",
     "start_time": "2021-03-22T19:35:24.571007Z"
    }
   },
   "outputs": [],
   "source": [
    "5 // 2"
   ]
  },
  {
   "cell_type": "code",
   "execution_count": null,
   "id": "martial-bonus",
   "metadata": {
    "ExecuteTime": {
     "end_time": "2021-03-22T19:35:27.157300Z",
     "start_time": "2021-03-22T19:35:27.139301Z"
    },
    "scrolled": true
   },
   "outputs": [],
   "source": [
    "5 % 2"
   ]
  },
  {
   "cell_type": "code",
   "execution_count": null,
   "id": "after-running",
   "metadata": {
    "ExecuteTime": {
     "end_time": "2021-03-22T19:35:38.945904Z",
     "start_time": "2021-03-22T19:35:38.934865Z"
    }
   },
   "outputs": [],
   "source": [
    "# Noten esta función:\n",
    "divmod(11, 2)"
   ]
  },
  {
   "cell_type": "code",
   "execution_count": null,
   "id": "narrow-salmon",
   "metadata": {
    "ExecuteTime": {
     "end_time": "2021-03-22T19:35:48.238020Z",
     "start_time": "2021-03-22T19:35:48.220022Z"
    }
   },
   "outputs": [],
   "source": [
    "2 ** 3"
   ]
  },
  {
   "cell_type": "markdown",
   "id": "according-cabin",
   "metadata": {},
   "source": [
    "> **Pregunta**: ¿Qué sucede con `//` con al operarlos con datos de tipo `float`?"
   ]
  },
  {
   "cell_type": "code",
   "execution_count": null,
   "id": "coral-satin",
   "metadata": {
    "ExecuteTime": {
     "end_time": "2021-03-22T19:36:41.810644Z",
     "start_time": "2021-03-22T19:36:41.789647Z"
    }
   },
   "outputs": [],
   "source": [
    "2.5 / 2.0"
   ]
  },
  {
   "cell_type": "code",
   "execution_count": null,
   "id": "former-bermuda",
   "metadata": {
    "ExecuteTime": {
     "end_time": "2021-03-22T19:36:57.964286Z",
     "start_time": "2021-03-22T19:36:57.946286Z"
    },
    "scrolled": true
   },
   "outputs": [],
   "source": [
    "2.5 // 2.0"
   ]
  },
  {
   "cell_type": "markdown",
   "id": "starting-timeline",
   "metadata": {
    "ExecuteTime": {
     "end_time": "2021-03-22T16:35:35.923564Z",
     "start_time": "2021-03-22T16:35:35.905524Z"
    }
   },
   "source": [
    "Comparaciones e Igualdades:"
   ]
  },
  {
   "cell_type": "code",
   "execution_count": null,
   "id": "noticed-facility",
   "metadata": {
    "ExecuteTime": {
     "end_time": "2021-03-22T19:37:45.602649Z",
     "start_time": "2021-03-22T19:37:45.583649Z"
    }
   },
   "outputs": [],
   "source": [
    "2 == 4"
   ]
  },
  {
   "cell_type": "code",
   "execution_count": null,
   "id": "crazy-lighting",
   "metadata": {
    "ExecuteTime": {
     "end_time": "2021-03-22T19:38:19.828468Z",
     "start_time": "2021-03-22T19:38:19.808466Z"
    }
   },
   "outputs": [],
   "source": [
    "2 == 2.0"
   ]
  },
  {
   "cell_type": "code",
   "execution_count": null,
   "id": "invisible-snake",
   "metadata": {
    "ExecuteTime": {
     "end_time": "2021-03-22T19:38:48.700702Z",
     "start_time": "2021-03-22T19:38:48.683700Z"
    }
   },
   "outputs": [],
   "source": [
    "2 > 3"
   ]
  },
  {
   "cell_type": "code",
   "execution_count": null,
   "id": "checked-baker",
   "metadata": {
    "ExecuteTime": {
     "end_time": "2021-03-22T19:39:52.016912Z",
     "start_time": "2021-03-22T19:39:51.989914Z"
    },
    "scrolled": true
   },
   "outputs": [],
   "source": [
    "3 >= 2.0 + 1j"
   ]
  },
  {
   "cell_type": "markdown",
   "id": "twenty-customer",
   "metadata": {},
   "source": [
    "### Expresiones con operadores de Strings"
   ]
  },
  {
   "cell_type": "markdown",
   "id": "funky-details",
   "metadata": {
    "ExecuteTime": {
     "end_time": "2021-03-22T15:01:19.639137Z",
     "start_time": "2021-03-22T15:01:19.631136Z"
    }
   },
   "source": [
    "> **Pregunta**: ¿Qué sucede con las operaciones aritméticas al usar strings?"
   ]
  },
  {
   "cell_type": "code",
   "execution_count": null,
   "id": "detailed-saver",
   "metadata": {
    "ExecuteTime": {
     "end_time": "2021-03-22T19:40:31.963073Z",
     "start_time": "2021-03-22T19:40:31.949079Z"
    }
   },
   "outputs": [],
   "source": [
    "pregunta = '¿quieres un '\n",
    "\n",
    "a = 'tecito?'\n",
    "b = 'cafecito?'"
   ]
  },
  {
   "cell_type": "code",
   "execution_count": null,
   "id": "regional-trauma",
   "metadata": {
    "ExecuteTime": {
     "end_time": "2021-03-22T19:40:32.799073Z",
     "start_time": "2021-03-22T19:40:32.785072Z"
    },
    "scrolled": true
   },
   "outputs": [],
   "source": [
    "pregunta + a"
   ]
  },
  {
   "cell_type": "markdown",
   "id": "speaking-replica",
   "metadata": {},
   "source": [
    "### Formateo de strings"
   ]
  },
  {
   "cell_type": "code",
   "execution_count": null,
   "id": "certified-teaching",
   "metadata": {
    "ExecuteTime": {
     "end_time": "2021-03-22T19:42:01.101964Z",
     "start_time": "2021-03-22T19:42:01.088959Z"
    }
   },
   "outputs": [],
   "source": [
    "pregunta_completa = \"¿quieres un {}.\".format(a)\n",
    "pregunta_completa"
   ]
  },
  {
   "cell_type": "code",
   "execution_count": null,
   "id": "mounted-transaction",
   "metadata": {
    "ExecuteTime": {
     "end_time": "2021-03-22T19:42:28.638229Z",
     "start_time": "2021-03-22T19:42:28.616228Z"
    }
   },
   "outputs": [],
   "source": [
    "# O mas reducido\n",
    "\n",
    "pregunta_completa = f\"¿quieres un {b}\"\n",
    "pregunta_completa"
   ]
  },
  {
   "cell_type": "markdown",
   "id": "known-future",
   "metadata": {
    "ExecuteTime": {
     "end_time": "2021-03-22T15:05:38.301074Z",
     "start_time": "2021-03-22T15:05:38.285103Z"
    }
   },
   "source": [
    "### Otras operaciones de strings"
   ]
  },
  {
   "cell_type": "code",
   "execution_count": null,
   "id": "accessory-pulse",
   "metadata": {
    "ExecuteTime": {
     "end_time": "2021-03-22T19:44:30.723837Z",
     "start_time": "2021-03-22T19:44:30.717836Z"
    },
    "scrolled": true
   },
   "outputs": [],
   "source": [
    "a * 10"
   ]
  },
  {
   "cell_type": "markdown",
   "id": "patent-trance",
   "metadata": {
    "ExecuteTime": {
     "end_time": "2021-03-22T15:05:16.889531Z",
     "start_time": "2021-03-22T15:05:16.869533Z"
    }
   },
   "source": [
    "> **Pregunta** : ¿ `a / 10` ? ¿ `a // 10` ? "
   ]
  },
  {
   "cell_type": "code",
   "execution_count": null,
   "id": "lasting-courage",
   "metadata": {
    "ExecuteTime": {
     "end_time": "2021-03-22T19:44:42.074505Z",
     "start_time": "2021-03-22T19:44:42.061506Z"
    }
   },
   "outputs": [],
   "source": [
    "a / 10"
   ]
  },
  {
   "cell_type": "code",
   "execution_count": null,
   "id": "disciplinary-clock",
   "metadata": {
    "ExecuteTime": {
     "end_time": "2021-03-22T19:45:43.393616Z",
     "start_time": "2021-03-22T19:45:43.384616Z"
    }
   },
   "outputs": [],
   "source": [
    "b = 'cafecito?'\n",
    "\n",
    "'te' in b"
   ]
  },
  {
   "cell_type": "code",
   "execution_count": null,
   "id": "corrected-shade",
   "metadata": {
    "ExecuteTime": {
     "end_time": "2021-03-22T19:45:46.932781Z",
     "start_time": "2021-03-22T19:45:46.912751Z"
    },
    "scrolled": true
   },
   "outputs": [],
   "source": [
    "'cafe' in b"
   ]
  },
  {
   "cell_type": "code",
   "execution_count": null,
   "id": "specific-kazakhstan",
   "metadata": {
    "ExecuteTime": {
     "end_time": "2021-03-22T19:45:55.867701Z",
     "start_time": "2021-03-22T19:45:55.847673Z"
    }
   },
   "outputs": [],
   "source": [
    "'?' not in b"
   ]
  },
  {
   "cell_type": "code",
   "execution_count": null,
   "id": "satellite-volume",
   "metadata": {
    "ExecuteTime": {
     "end_time": "2021-03-22T19:46:07.738762Z",
     "start_time": "2021-03-22T19:46:07.724763Z"
    }
   },
   "outputs": [],
   "source": [
    "# Mas operaciones interesantes:\n",
    "print(pregunta_completa.lower())\n",
    "print(pregunta_completa.upper())\n",
    "print(pregunta_completa.title())\n",
    "print(pregunta_completa.replace('cafecito', 'tecito'))"
   ]
  },
  {
   "cell_type": "markdown",
   "id": "distinguished-basin",
   "metadata": {},
   "source": [
    "Más información: \n",
    "    \n",
    "https://www.programiz.com/python-programming/string"
   ]
  },
  {
   "cell_type": "markdown",
   "id": "diagnostic-doctrine",
   "metadata": {},
   "source": [
    "### Operadores con booleanos"
   ]
  },
  {
   "cell_type": "markdown",
   "id": "physical-gathering",
   "metadata": {},
   "source": [
    "#### Operador `and`\n",
    "\n",
    "| A     \t| B     \t| A and B \t|\n",
    "|-------\t|-------\t|---------\t|\n",
    "| True  \t| True  \t| True    \t|\n",
    "| True  \t| False \t| False   \t|\n",
    "| False \t| True  \t| False   \t|\n",
    "| False \t| False \t| False   \t|"
   ]
  },
  {
   "cell_type": "code",
   "execution_count": null,
   "id": "empty-episode",
   "metadata": {
    "ExecuteTime": {
     "end_time": "2021-03-22T19:47:25.648406Z",
     "start_time": "2021-03-22T19:47:25.636406Z"
    }
   },
   "outputs": [],
   "source": [
    "print('Bool1 and Bool2:  Resultado\\n')\n",
    "print('True  and True : ', True and True)\n",
    "print('False and True : ', False and True)\n",
    "print('True  and False: ', True and False)\n",
    "print('False and False: ', False and False)"
   ]
  },
  {
   "cell_type": "markdown",
   "id": "olympic-louisville",
   "metadata": {},
   "source": [
    "#### Operador `or`\n",
    "\n",
    "| A     \t| B     \t| A and B \t|\n",
    "|-------\t|-------\t|---------\t|\n",
    "| True  \t| True  \t| True    \t|\n",
    "| True  \t| False \t| False   \t|\n",
    "| False \t| True  \t| False   \t|\n",
    "| False \t| False \t| False   \t|"
   ]
  },
  {
   "cell_type": "code",
   "execution_count": null,
   "id": "played-breakfast",
   "metadata": {
    "ExecuteTime": {
     "end_time": "2021-03-22T19:47:40.866246Z",
     "start_time": "2021-03-22T19:47:40.858245Z"
    }
   },
   "outputs": [],
   "source": [
    "print('Bool1 or Bool2:  Resultado\\n')\n",
    "print('True  or True : ', True or True)\n",
    "print('False or True : ', False or True)\n",
    "print('True  or False: ', True or False)\n",
    "print('False or False: ', False or False)"
   ]
  },
  {
   "cell_type": "markdown",
   "id": "grateful-atlas",
   "metadata": {},
   "source": [
    "#### Operador `not`\n",
    "\n",
    "| A    \t| not A \t|\n",
    "|------\t|-------\t|\n",
    "| True \t| False \t|\n",
    "| True \t| True  \t|"
   ]
  },
  {
   "cell_type": "code",
   "execution_count": null,
   "id": "convenient-fitting",
   "metadata": {
    "ExecuteTime": {
     "end_time": "2021-03-23T14:13:41.520954Z",
     "start_time": "2021-03-23T14:13:41.510953Z"
    }
   },
   "outputs": [],
   "source": [
    "print('not True: ', not True)\n",
    "print('not False: ', not False)"
   ]
  },
  {
   "cell_type": "markdown",
   "id": "polar-worst",
   "metadata": {},
   "source": [
    "#### Comparaciones e igualdades"
   ]
  },
  {
   "cell_type": "code",
   "execution_count": null,
   "id": "innocent-drive",
   "metadata": {
    "ExecuteTime": {
     "end_time": "2021-03-22T19:47:59.571799Z",
     "start_time": "2021-03-22T19:47:59.565834Z"
    }
   },
   "outputs": [],
   "source": [
    "verdadero = True\n",
    "falso = False"
   ]
  },
  {
   "cell_type": "code",
   "execution_count": null,
   "id": "accredited-transformation",
   "metadata": {
    "ExecuteTime": {
     "end_time": "2021-03-22T19:48:18.959655Z",
     "start_time": "2021-03-22T19:48:18.949651Z"
    }
   },
   "outputs": [],
   "source": [
    "verdadero is True"
   ]
  },
  {
   "cell_type": "code",
   "execution_count": null,
   "id": "acquired-lambda",
   "metadata": {
    "ExecuteTime": {
     "end_time": "2021-03-22T19:48:24.654775Z",
     "start_time": "2021-03-22T19:48:24.645776Z"
    }
   },
   "outputs": [],
   "source": [
    "verdadero == True"
   ]
  },
  {
   "cell_type": "code",
   "execution_count": null,
   "id": "hispanic-nepal",
   "metadata": {
    "ExecuteTime": {
     "end_time": "2021-03-22T19:48:36.192735Z",
     "start_time": "2021-03-22T19:48:36.186741Z"
    }
   },
   "outputs": [],
   "source": [
    "falso is True"
   ]
  },
  {
   "cell_type": "code",
   "execution_count": null,
   "id": "fallen-premiere",
   "metadata": {
    "ExecuteTime": {
     "end_time": "2021-03-22T19:48:57.432556Z",
     "start_time": "2021-03-22T19:48:57.413570Z"
    },
    "scrolled": true
   },
   "outputs": [],
   "source": [
    "falso is False"
   ]
  },
  {
   "cell_type": "code",
   "execution_count": null,
   "id": "treated-statement",
   "metadata": {
    "ExecuteTime": {
     "end_time": "2021-03-22T19:49:00.019225Z",
     "start_time": "2021-03-22T19:49:00.004243Z"
    }
   },
   "outputs": [],
   "source": [
    "falso == False"
   ]
  },
  {
   "cell_type": "markdown",
   "id": "little-instrumentation",
   "metadata": {
    "ExecuteTime": {
     "end_time": "2021-03-22T15:16:11.183686Z",
     "start_time": "2021-03-22T15:16:11.173687Z"
    }
   },
   "source": [
    "> **Pregunta:** ¿Qué sucede con los operadores `&` y `|`?¿Existen `&&` y `||`?"
   ]
  },
  {
   "cell_type": "markdown",
   "id": "electric-justice",
   "metadata": {},
   "source": [
    "### Transformación de Un Tipo de Datos a Otro\n",
    "\n",
    "Podemos usar las funciones \n",
    "\n",
    "- int()\n",
    "- float()\n",
    "- str()\n",
    "- etc...\n",
    "\n",
    "para transformar un dato de un tipo determinado en otro."
   ]
  },
  {
   "cell_type": "code",
   "execution_count": null,
   "id": "cognitive-processor",
   "metadata": {
    "ExecuteTime": {
     "end_time": "2021-03-22T19:50:37.609745Z",
     "start_time": "2021-03-22T19:50:37.594744Z"
    },
    "scrolled": true
   },
   "outputs": [],
   "source": [
    "int(3.14)"
   ]
  },
  {
   "cell_type": "code",
   "execution_count": null,
   "id": "pressing-canberra",
   "metadata": {
    "ExecuteTime": {
     "end_time": "2021-03-22T19:50:49.771248Z",
     "start_time": "2021-03-22T19:50:49.754221Z"
    }
   },
   "outputs": [],
   "source": [
    "float(3)"
   ]
  },
  {
   "cell_type": "markdown",
   "id": "pressed-latex",
   "metadata": {},
   "source": [
    "Casi todos los datos pueden ser convertidos a string.\n"
   ]
  },
  {
   "cell_type": "code",
   "execution_count": null,
   "id": "flush-personal",
   "metadata": {
    "ExecuteTime": {
     "end_time": "2021-03-22T19:50:59.858741Z",
     "start_time": "2021-03-22T19:50:59.838753Z"
    }
   },
   "outputs": [],
   "source": [
    "str(3.14)"
   ]
  },
  {
   "cell_type": "markdown",
   "id": "unauthorized-blackjack",
   "metadata": {
    "ExecuteTime": {
     "end_time": "2021-03-22T15:19:06.000262Z",
     "start_time": "2021-03-22T15:19:05.983263Z"
    }
   },
   "source": [
    "Pero hay que tener mucho cuidado con la operación al revés, ya que python intentará convertirlo o \"*morira en el intento*\""
   ]
  },
  {
   "cell_type": "code",
   "execution_count": null,
   "id": "honey-liquid",
   "metadata": {
    "ExecuteTime": {
     "end_time": "2021-03-22T19:51:36.544668Z",
     "start_time": "2021-03-22T19:51:36.528668Z"
    }
   },
   "outputs": [],
   "source": [
    "float('3.14')"
   ]
  },
  {
   "cell_type": "code",
   "execution_count": null,
   "id": "divided-climate",
   "metadata": {
    "ExecuteTime": {
     "end_time": "2021-03-22T19:51:26.767713Z",
     "start_time": "2021-03-22T19:51:26.748704Z"
    }
   },
   "outputs": [],
   "source": [
    "float('3.13aa')"
   ]
  },
  {
   "cell_type": "markdown",
   "id": "greater-internship",
   "metadata": {},
   "source": [
    "## Control de Flujo"
   ]
  },
  {
   "cell_type": "markdown",
   "id": "ordinary-navigation",
   "metadata": {},
   "source": [
    "Los booleanos nos permiten hacer **control de flujo** o *branching*. Este tipo de estructura nos permite decidir si ejecutar o no un determinado segmento de código según una expresión o variable booleana:\n",
    "\n",
    "\n",
    "```python\n",
    "if Expresion_Booleana_0:\n",
    "    Accion_0  #(si Expresion_Booleana_0 es `True`)\n",
    "elif Expresion_Booleana_1:\n",
    "    Accion_1  #(si Expresion_Booleana_1 es `True` y Expresion_Booleana_0 es `False`) \n",
    "else:\n",
    "    Accion_2  #(si Expresion_Booleana_0 y Expresion_Booleana_1 son `False`)\n",
    "```\n",
    "\n",
    "- **Nota 1:** Puede usarse ```elif``` tantas veces como sea necesario. \n",
    "- **Nota 2:**: La keyword ```else``` finaliza el el flujo y es opcional. Es decir, se puede hacer\n",
    "un control de flujo sin utilizar ```elif``` no ```else```.\n"
   ]
  },
  {
   "cell_type": "markdown",
   "id": "infrared-crossing",
   "metadata": {},
   "source": [
    "### Bloque Indentado\n",
    "\n",
    "\n",
    "Es posible observar que bajo cada expresión ```if```, ```elif``` o ```else```, se ejecutan las acciones correspondientes según un **bloque indentado**. En Python, cada linea de código pertenece a un *bloque*, cada bloque posee un nivel de jerarquía: en el caso del control de flujo, cada keyword define un bloque bajo ella, cada uno de esos bloques, por separado, tiene la misma jerarquía. Sin embargo, están a un nivel de jerarquía distinto que el bloque donde se escribe la keyword ```if``` por si misma. Los bloques de código deben indentarse (según el estándar [PEP-8](https://www.python.org/dev/peps/pep-0008/), esto significa utilizar 4 espacios de profundidad según la profundidad del bloque). \n"
   ]
  },
  {
   "cell_type": "code",
   "execution_count": null,
   "id": "working-garden",
   "metadata": {
    "ExecuteTime": {
     "end_time": "2021-03-22T19:55:30.847496Z",
     "start_time": "2021-03-22T19:55:30.831497Z"
    }
   },
   "outputs": [],
   "source": [
    "variable_booleana = False\n",
    "\n",
    "if variable_booleana is True:\n",
    "    print('Ejecuté el primer código')\n",
    "else:\n",
    "    print('Ejecuté el segundo código')\n",
    "\n",
    "print('chao')"
   ]
  },
  {
   "cell_type": "code",
   "execution_count": null,
   "id": "psychological-aging",
   "metadata": {
    "ExecuteTime": {
     "end_time": "2021-03-22T19:54:32.308902Z",
     "start_time": "2021-03-22T19:54:32.292928Z"
    }
   },
   "outputs": [],
   "source": [
    "entero = 1001\n",
    "\n",
    "if entero <= 100:\n",
    "    print(f'Numero mas pequeño o igual que 100: {entero}')\n",
    "elif entero > 100 and entero <= 1000:\n",
    "    print(f'Numero entre 100 y 1000 (incluido): {entero}')\n",
    "else:\n",
    "    print(f'Número gigante {entero}')"
   ]
  },
  {
   "cell_type": "markdown",
   "id": "homeless-hardware",
   "metadata": {},
   "source": [
    "> **Pregunta ❓**: ¿Switch/Case en python?"
   ]
  },
  {
   "cell_type": "markdown",
   "id": "digital-incentive",
   "metadata": {},
   "source": [
    "## Colecciones\n",
    "\n",
    "Una **colección** es una estructura que permite almacenar datos y operarlos. Algunas de las posibles operaciones son:\n",
    "- Ordenación\n",
    "- Mapeos (aplicar una función a cada elemento)\n",
    "- Filtros\n",
    "- Reducción (agregar todos los elementos según alguna función, por ejemplo la suma)\n",
    "- Etc... \n",
    "\n",
    "\n",
    "A su vez, pueden ser: \n",
    "\n",
    "1. **Mutables** (listas, conjuntos), que en palabras simples, permiten adición, eliminación y modificación de sus elementos. \n",
    "\n",
    "2. **Inmutables** (tuplas). No se pueden modificar sus elementos,\n",
    "\n",
    "Finalmente, es posible **iterar** (*(Realizar cierta acción varias veces)*) sobre estas estructuras y calcular operaciones de reducción sobre estas (promedios, medianas, sumas, etc ...).\n",
    "\n",
    "Por tal motivo, *los contenedores están íntimamente relacionados con la programación en Python para el análisis de datos*."
   ]
  },
  {
   "cell_type": "markdown",
   "id": "dynamic-dragon",
   "metadata": {},
   "source": [
    "## Listas\n",
    "\n",
    "Creamos las listas usando los brackets ([]). "
   ]
  },
  {
   "cell_type": "code",
   "execution_count": null,
   "id": "racial-optimum",
   "metadata": {
    "ExecuteTime": {
     "end_time": "2021-03-22T19:57:50.566059Z",
     "start_time": "2021-03-22T19:57:50.551060Z"
    }
   },
   "outputs": [],
   "source": [
    "# Lista sin elementos pero inicializada.\n",
    "lista_vacia = []\n",
    "lista_vacia"
   ]
  },
  {
   "cell_type": "code",
   "execution_count": null,
   "id": "amateur-morocco",
   "metadata": {
    "scrolled": true
   },
   "outputs": [],
   "source": [
    "# Lista con literales\n",
    "lista_1 = [1, 2, 3]\n",
    "lista_1"
   ]
  },
  {
   "cell_type": "markdown",
   "id": "discrete-filter",
   "metadata": {},
   "source": [
    "También podemos crear una lista con distintos tipos de datos (incluyendo otras colecciones)"
   ]
  },
  {
   "cell_type": "code",
   "execution_count": null,
   "id": "collaborative-rescue",
   "metadata": {
    "ExecuteTime": {
     "end_time": "2021-03-22T19:58:06.077336Z",
     "start_time": "2021-03-22T19:58:06.062335Z"
    }
   },
   "outputs": [],
   "source": [
    "lista_2 = [1, 2, 10.0, 'hola', True, [0, 1, 2]]\n",
    "lista_2"
   ]
  },
  {
   "cell_type": "markdown",
   "id": "compound-civilization",
   "metadata": {},
   "source": [
    "Y podemos acceder a la cantidad de elementos de la lista usando la función `len(variable_lista)`"
   ]
  },
  {
   "cell_type": "code",
   "execution_count": null,
   "id": "adapted-failing",
   "metadata": {
    "ExecuteTime": {
     "end_time": "2021-03-23T13:47:49.256063Z",
     "start_time": "2021-03-23T13:47:49.006052Z"
    }
   },
   "outputs": [],
   "source": [
    "# Largo de la lista = Cantidad de elementos dentro de la lista.\n",
    "len(lista_2)"
   ]
  },
  {
   "cell_type": "markdown",
   "id": "orange-operation",
   "metadata": {},
   "source": [
    "### Operaciones con listas"
   ]
  },
  {
   "cell_type": "markdown",
   "id": "cleared-mattress",
   "metadata": {},
   "source": [
    "#### Indexado: Cómo acceder a ciertos elementos de la lista\n",
    "\n",
    "\n",
    "Cada elemento de una lista va asociado a un indice, el cual identifica la posición del elemnto dentro de la lista.\n",
    "```python\n",
    "lista   =  [1, 2, 10.0, 100]\n",
    "indices -> [0, 1, 2,    3] # Ojo que parten desde el 0!!\n",
    "```\n",
    "\n",
    "Podemos acceder a cierto elemento de la lista  usando la sintaxis \n",
    "\n",
    "```python\n",
    "lista[indice]\n",
    "```\n",
    "\n"
   ]
  },
  {
   "cell_type": "code",
   "execution_count": null,
   "id": "crucial-adaptation",
   "metadata": {
    "ExecuteTime": {
     "end_time": "2021-03-22T19:59:05.476354Z",
     "start_time": "2021-03-22T19:59:05.461354Z"
    }
   },
   "outputs": [],
   "source": [
    "lista = [1, 2, 10.0, 100]"
   ]
  },
  {
   "cell_type": "code",
   "execution_count": null,
   "id": "premium-contribution",
   "metadata": {},
   "outputs": [],
   "source": [
    "lista[0]"
   ]
  },
  {
   "cell_type": "code",
   "execution_count": null,
   "id": "younger-harbor",
   "metadata": {
    "ExecuteTime": {
     "end_time": "2021-03-22T19:59:13.168055Z",
     "start_time": "2021-03-22T19:59:13.158028Z"
    }
   },
   "outputs": [],
   "source": [
    "lista[1]"
   ]
  },
  {
   "cell_type": "code",
   "execution_count": null,
   "id": "beautiful-prayer",
   "metadata": {
    "ExecuteTime": {
     "end_time": "2021-03-22T19:59:30.685686Z",
     "start_time": "2021-03-22T19:59:30.673688Z"
    }
   },
   "outputs": [],
   "source": [
    "# Indexado negativo nos permite partir desde el último elemento hasta el primero\n",
    "lista[-1]"
   ]
  },
  {
   "cell_type": "code",
   "execution_count": null,
   "id": "competitive-valuation",
   "metadata": {
    "ExecuteTime": {
     "end_time": "2021-03-22T20:01:32.006964Z",
     "start_time": "2021-03-22T20:01:31.991966Z"
    }
   },
   "outputs": [],
   "source": [
    "# El código anterior es equivalente a algo similar a esto:\n",
    "lista[len(lista) - 1]\n",
    "\n",
    "# Idea: Indices parten de cero. El largo de la lista parte contando desde 1, ya que existe por lo menos un elemento en la lista. Entonces, para sacar el elemento i, tenemos que restale 1."
   ]
  },
  {
   "cell_type": "code",
   "execution_count": null,
   "id": "determined-olympus",
   "metadata": {
    "ExecuteTime": {
     "end_time": "2021-03-22T20:01:41.166890Z",
     "start_time": "2021-03-22T20:01:41.153886Z"
    }
   },
   "outputs": [],
   "source": [
    "lista[-1]"
   ]
  },
  {
   "cell_type": "markdown",
   "id": "widespread-serbia",
   "metadata": {},
   "source": [
    "Podemos mutar un valor de una lista usando \n",
    "\n",
    "```python\n",
    "lista[indice] = nuevo_valor\n",
    "```"
   ]
  },
  {
   "cell_type": "code",
   "execution_count": null,
   "id": "defined-allergy",
   "metadata": {},
   "outputs": [],
   "source": [
    "lista"
   ]
  },
  {
   "cell_type": "code",
   "execution_count": null,
   "id": "threatened-channel",
   "metadata": {},
   "outputs": [],
   "source": [
    "lista[0] = 1000  # Modificamos el índice 0 por 1000.\n",
    "lista"
   ]
  },
  {
   "cell_type": "markdown",
   "id": "tracked-quality",
   "metadata": {},
   "source": [
    "Nota: Podemos simular las matrices a través de listas de listas"
   ]
  },
  {
   "cell_type": "code",
   "execution_count": null,
   "id": "driven-vacuum",
   "metadata": {
    "ExecuteTime": {
     "end_time": "2021-03-22T20:02:01.976235Z",
     "start_time": "2021-03-22T20:02:01.959238Z"
    }
   },
   "outputs": [],
   "source": [
    "matriz = [[1, 2, 3], [4, 5, 6], [7, 8, 9]]\n",
    "\n",
    "matriz[2]  # i = Tercera fila"
   ]
  },
  {
   "cell_type": "code",
   "execution_count": null,
   "id": "english-missile",
   "metadata": {
    "ExecuteTime": {
     "end_time": "2021-03-22T20:02:26.495024Z",
     "start_time": "2021-03-22T20:02:26.487026Z"
    },
    "scrolled": true
   },
   "outputs": [],
   "source": [
    "# Para acceder a un elemento de la matriz, podemos usar un doble indexado.\n",
    "\n",
    "matriz[2][0]  # i = Tercera fila, j = primera columna"
   ]
  },
  {
   "cell_type": "markdown",
   "id": "respected-principal",
   "metadata": {},
   "source": [
    "#### Slice: Seleccionar una sublista a partir ciertos indices\n",
    "\n",
    "Notar que esta operación retorna una nueva lista con referencias a los datos de la lista original (no los copia)."
   ]
  },
  {
   "cell_type": "code",
   "execution_count": null,
   "id": "different-uzbekistan",
   "metadata": {
    "ExecuteTime": {
     "end_time": "2021-03-22T20:02:49.919181Z",
     "start_time": "2021-03-22T20:02:49.901179Z"
    }
   },
   "outputs": [],
   "source": [
    "lista_3 = [1, 2, 10.0, 'hola', True, [0, 1, 2]]\n",
    "\n",
    "lista_3[1:4]"
   ]
  },
  {
   "cell_type": "markdown",
   "id": "mighty-first",
   "metadata": {},
   "source": [
    "#### Append: Agrega un elemento al final de la lista."
   ]
  },
  {
   "cell_type": "code",
   "execution_count": null,
   "id": "banner-cowboy",
   "metadata": {
    "ExecuteTime": {
     "end_time": "2021-03-22T20:06:11.031940Z",
     "start_time": "2021-03-22T20:06:11.021910Z"
    }
   },
   "outputs": [],
   "source": [
    "lista = [1, 2, 10.0, 100]\n",
    "\n",
    "lista.append(400)\n",
    "lista"
   ]
  },
  {
   "cell_type": "markdown",
   "id": "functioning-header",
   "metadata": {
    "ExecuteTime": {
     "end_time": "2021-03-22T17:22:38.838554Z",
     "start_time": "2021-03-22T17:22:38.823544Z"
    }
   },
   "source": [
    "> **Pregunta**: ¿Qué pasa si lo ejecutamos nuevamente?"
   ]
  },
  {
   "cell_type": "code",
   "execution_count": null,
   "id": "amino-commodity",
   "metadata": {
    "ExecuteTime": {
     "end_time": "2021-03-22T20:06:24.586145Z",
     "start_time": "2021-03-22T20:06:24.575142Z"
    }
   },
   "outputs": [],
   "source": [
    "lista.append(400)\n",
    "lista"
   ]
  },
  {
   "cell_type": "markdown",
   "id": "handy-mineral",
   "metadata": {},
   "source": [
    "#### Extend: Extiende la lista con otra colección\n",
    "\n",
    "Al igual que el caso anterior, esta función muta la lista de origen."
   ]
  },
  {
   "cell_type": "code",
   "execution_count": null,
   "id": "bored-composer",
   "metadata": {
    "ExecuteTime": {
     "end_time": "2021-03-22T20:07:52.025002Z",
     "start_time": "2021-03-22T20:07:52.019003Z"
    }
   },
   "outputs": [],
   "source": [
    "lista.extend([5, 6, 7])\n",
    "lista"
   ]
  },
  {
   "cell_type": "markdown",
   "id": "proof-vaccine",
   "metadata": {
    "ExecuteTime": {
     "end_time": "2021-03-22T17:25:28.562746Z",
     "start_time": "2021-03-22T17:25:28.552750Z"
    }
   },
   "source": [
    "####  Concatenación de listas\n",
    "\n",
    "También se pueden concatenar listas. Estas rentornan una **nueva lista** en vez de mutar la de origen."
   ]
  },
  {
   "cell_type": "code",
   "execution_count": null,
   "id": "copyrighted-schema",
   "metadata": {
    "ExecuteTime": {
     "end_time": "2021-03-23T13:48:20.670219Z",
     "start_time": "2021-03-23T13:48:20.651210Z"
    }
   },
   "outputs": [],
   "source": [
    "# Limpiamos a lista anterior a la original que teníamos.\n",
    "lista = [1, 2, 10.0, 100]\n",
    "\n",
    "# Concatenamos\n",
    "nueva_lista = lista + [5, 6, 7]\n",
    "nueva_lista"
   ]
  },
  {
   "cell_type": "markdown",
   "id": "identified-terrorist",
   "metadata": {},
   "source": [
    "#### Pop: Quita de la lista el elemento indicado por cierto índice  (y lo retorna)\n",
    "\n",
    "Observación: Si no encuentra un elemento en el índice indicado, levanta una excepción y corta la ejecución del programa."
   ]
  },
  {
   "cell_type": "code",
   "execution_count": null,
   "id": "threaded-future",
   "metadata": {
    "ExecuteTime": {
     "end_time": "2021-03-23T13:48:26.935898Z",
     "start_time": "2021-03-23T13:48:26.915897Z"
    }
   },
   "outputs": [],
   "source": [
    "lista.pop(1)"
   ]
  },
  {
   "cell_type": "code",
   "execution_count": null,
   "id": "monetary-theater",
   "metadata": {
    "ExecuteTime": {
     "end_time": "2021-03-23T13:48:27.708582Z",
     "start_time": "2021-03-23T13:48:27.698582Z"
    }
   },
   "outputs": [],
   "source": [
    "lista.pop(100)"
   ]
  },
  {
   "cell_type": "markdown",
   "id": "behavioral-master",
   "metadata": {
    "ExecuteTime": {
     "end_time": "2021-03-22T18:06:52.967997Z",
     "start_time": "2021-03-22T18:06:52.953004Z"
    }
   },
   "source": [
    "#### Sort: Ordena \n",
    "\n",
    "Nota: Ordena según como se define >= para los datos."
   ]
  },
  {
   "cell_type": "code",
   "execution_count": null,
   "id": "persistent-stretch",
   "metadata": {
    "ExecuteTime": {
     "end_time": "2021-03-23T13:48:32.069063Z",
     "start_time": "2021-03-23T13:48:32.052063Z"
    }
   },
   "outputs": [],
   "source": [
    "# Orden numérico.\n",
    "lista_desordenada = [10, 3, 2, -8, 1, 0, 0, -3]\n",
    "lista_desordenada.sort()\n",
    "lista_desordenada"
   ]
  },
  {
   "cell_type": "code",
   "execution_count": null,
   "id": "aggressive-production",
   "metadata": {
    "ExecuteTime": {
     "end_time": "2021-03-23T13:48:32.845205Z",
     "start_time": "2021-03-23T13:48:32.829250Z"
    }
   },
   "outputs": [],
   "source": [
    "# Usando listas con strings se hace con orden lexicográfico.\n",
    "lista_desordenada_2 = ['pan', 'con', 'tomate', ',', 'palta', 'y', 'mayo']\n",
    "lista_desordenada_2.sort()\n",
    "lista_desordenada_2"
   ]
  },
  {
   "cell_type": "markdown",
   "id": "through-index",
   "metadata": {},
   "source": [
    "Mas info del orden lexicográfico: \n",
    "    \n",
    "https://es.wikipedia.org/wiki/Orden_lexicogr%C3%A1fico"
   ]
  },
  {
   "cell_type": "markdown",
   "id": "metropolitan-nashville",
   "metadata": {},
   "source": [
    "#### Index: Busca el elemento entregado en la lista y retorna su índice"
   ]
  },
  {
   "cell_type": "code",
   "execution_count": null,
   "id": "modular-maximum",
   "metadata": {
    "ExecuteTime": {
     "end_time": "2021-03-23T13:49:32.322633Z",
     "start_time": "2021-03-23T13:49:32.302594Z"
    }
   },
   "outputs": [],
   "source": [
    "# Recordamos que había en lista\n",
    "lista = [1, 2, 10.0, 100]\n",
    "lista"
   ]
  },
  {
   "cell_type": "code",
   "execution_count": null,
   "id": "allied-coral",
   "metadata": {
    "ExecuteTime": {
     "end_time": "2021-03-23T13:49:33.304645Z",
     "start_time": "2021-03-23T13:49:33.291629Z"
    },
    "scrolled": true
   },
   "outputs": [],
   "source": [
    "lista.index(2)"
   ]
  },
  {
   "cell_type": "code",
   "execution_count": null,
   "id": "planned-square",
   "metadata": {
    "ExecuteTime": {
     "end_time": "2021-03-23T13:49:34.276089Z",
     "start_time": "2021-03-23T13:49:34.267080Z"
    }
   },
   "outputs": [],
   "source": [
    "lista.index(100)"
   ]
  },
  {
   "cell_type": "code",
   "execution_count": null,
   "id": "amended-congress",
   "metadata": {
    "ExecuteTime": {
     "end_time": "2021-03-23T13:49:36.762155Z",
     "start_time": "2021-03-23T13:49:36.746124Z"
    }
   },
   "outputs": [],
   "source": [
    "lista.index(-1)"
   ]
  },
  {
   "cell_type": "markdown",
   "id": "graduate-alignment",
   "metadata": {},
   "source": [
    "Pueden encontrar una completa guía aquí de todos los métodos (funciones) que pueden ejecutar con una lista:\n",
    "    \n",
    "https://www.programiz.com/python-programming/list"
   ]
  },
  {
   "cell_type": "markdown",
   "id": "advanced-administrator",
   "metadata": {
    "ExecuteTime": {
     "end_time": "2021-03-22T18:01:08.375069Z",
     "start_time": "2021-03-22T18:01:08.362071Z"
    }
   },
   "source": [
    "### Paréntesis: Strings.\n",
    "\n",
    "Los strings son un tipo especial de lista que no es mutable, pero que se puede indexar."
   ]
  },
  {
   "cell_type": "code",
   "execution_count": null,
   "id": "derived-identifier",
   "metadata": {
    "ExecuteTime": {
     "end_time": "2021-03-22T20:03:15.091952Z",
     "start_time": "2021-03-22T20:03:15.076952Z"
    }
   },
   "outputs": [],
   "source": [
    "nombre = 'Juan'\n",
    "nombre[2:4]"
   ]
  },
  {
   "cell_type": "markdown",
   "id": "final-nicaragua",
   "metadata": {},
   "source": [
    "También se pueden convertir a string"
   ]
  },
  {
   "cell_type": "code",
   "execution_count": null,
   "id": "olive-meeting",
   "metadata": {
    "ExecuteTime": {
     "end_time": "2021-03-22T20:03:39.934091Z",
     "start_time": "2021-03-22T20:03:39.916065Z"
    }
   },
   "outputs": [],
   "source": [
    "list(nombre)"
   ]
  },
  {
   "cell_type": "code",
   "execution_count": null,
   "id": "immune-endorsement",
   "metadata": {
    "ExecuteTime": {
     "end_time": "2021-03-22T20:03:54.221041Z",
     "start_time": "2021-03-22T20:03:54.207054Z"
    }
   },
   "outputs": [],
   "source": [
    "str(['j', 'u', 'a', 'n'])"
   ]
  },
  {
   "cell_type": "markdown",
   "id": "organic-strap",
   "metadata": {},
   "source": [
    "Y podemos separarlos/juntarlos según algun carácter"
   ]
  },
  {
   "cell_type": "code",
   "execution_count": null,
   "id": "australian-summer",
   "metadata": {
    "ExecuteTime": {
     "end_time": "2021-03-22T20:04:50.394800Z",
     "start_time": "2021-03-22T20:04:50.386782Z"
    }
   },
   "outputs": [],
   "source": [
    "'Juan come verduras'.split(' ')"
   ]
  },
  {
   "cell_type": "code",
   "execution_count": null,
   "id": "sonic-meaning",
   "metadata": {
    "ExecuteTime": {
     "end_time": "2021-03-22T20:05:39.326724Z",
     "start_time": "2021-03-22T20:05:39.315728Z"
    }
   },
   "outputs": [],
   "source": [
    "# El string que pongan antes del join será el que unirá los strings del arreglo. En este caso, se uniran con '-'\n",
    "'-'.join(['Juan', 'come', 'verduras'])"
   ]
  },
  {
   "cell_type": "markdown",
   "id": "experimental-store",
   "metadata": {
    "ExecuteTime": {
     "end_time": "2021-03-22T18:13:21.155383Z",
     "start_time": "2021-03-22T18:13:21.138410Z"
    }
   },
   "source": [
    "## Tuplas\n",
    "\n",
    "Las tuplas siguen el mismo principio de las listas en cuanto a almacenar datos, no obstante, a diferencia de las listas, las tuplas son **inmutables**. Una ventaja sobre las listas, es que **son más eficientes computacionalmente y son más ligeras**. "
   ]
  },
  {
   "cell_type": "code",
   "execution_count": null,
   "id": "incorporated-coffee",
   "metadata": {
    "ExecuteTime": {
     "end_time": "2021-03-23T13:49:58.837087Z",
     "start_time": "2021-03-23T13:49:58.819087Z"
    }
   },
   "outputs": [],
   "source": [
    "# Se utilizan 'parentesis' para crearlas\n",
    "\n",
    "tupla = (1, 2, 3)"
   ]
  },
  {
   "cell_type": "markdown",
   "id": "textile-table",
   "metadata": {},
   "source": [
    "Al igual que las listas, sus elementos pueden ser accedidos a través del indexado (que parte desde 0!)."
   ]
  },
  {
   "cell_type": "code",
   "execution_count": null,
   "id": "unlimited-candidate",
   "metadata": {
    "ExecuteTime": {
     "end_time": "2021-03-23T13:50:00.583597Z",
     "start_time": "2021-03-23T13:50:00.564640Z"
    }
   },
   "outputs": [],
   "source": [
    "tupla[0]"
   ]
  },
  {
   "cell_type": "code",
   "execution_count": null,
   "id": "decent-partition",
   "metadata": {
    "ExecuteTime": {
     "end_time": "2021-03-23T13:50:01.245933Z",
     "start_time": "2021-03-23T13:50:01.227906Z"
    }
   },
   "outputs": [],
   "source": [
    "tupla[-1]"
   ]
  },
  {
   "cell_type": "code",
   "execution_count": null,
   "id": "standard-birmingham",
   "metadata": {
    "ExecuteTime": {
     "end_time": "2021-03-23T13:50:01.811887Z",
     "start_time": "2021-03-23T13:50:01.803886Z"
    }
   },
   "outputs": [],
   "source": [
    "tupla[0:2]"
   ]
  },
  {
   "cell_type": "markdown",
   "id": "medium-mining",
   "metadata": {},
   "source": [
    "> **Pregunta**: ¿Qué sucede si intentamos cambiar unm valor de una tupla?"
   ]
  },
  {
   "cell_type": "code",
   "execution_count": null,
   "id": "primary-doctrine",
   "metadata": {
    "ExecuteTime": {
     "end_time": "2021-03-22T20:10:48.920390Z",
     "start_time": "2021-03-22T20:10:48.909387Z"
    }
   },
   "outputs": [],
   "source": [
    "tupla[0] = 1"
   ]
  },
  {
   "cell_type": "markdown",
   "id": "verbal-pocket",
   "metadata": {},
   "source": [
    "#### Unpacking\n",
    "\n",
    "Tuplas y listas comparten el acceso a sus elementos por medio de la sintaxis ```[*]```. Tanto tuplas como las listas se pueden \"desempacar\", el termino *pythonico* es **unpacking**. Ejemplo:"
   ]
  },
  {
   "cell_type": "code",
   "execution_count": null,
   "id": "pregnant-stamp",
   "metadata": {
    "ExecuteTime": {
     "end_time": "2021-03-23T13:50:04.356386Z",
     "start_time": "2021-03-23T13:50:04.348385Z"
    }
   },
   "outputs": [],
   "source": [
    "# Unpacking de tuplas\n",
    "a, b = ('e_1', 'e_2')\n",
    "print('a y b desempacados:', a, ' ', b)"
   ]
  },
  {
   "cell_type": "code",
   "execution_count": null,
   "id": "anticipated-seeking",
   "metadata": {
    "ExecuteTime": {
     "end_time": "2021-03-23T13:50:04.949324Z",
     "start_time": "2021-03-23T13:50:04.931285Z"
    }
   },
   "outputs": [],
   "source": [
    "a"
   ]
  },
  {
   "cell_type": "code",
   "execution_count": null,
   "id": "charitable-hotel",
   "metadata": {
    "ExecuteTime": {
     "end_time": "2021-03-23T13:50:05.473217Z",
     "start_time": "2021-03-23T13:50:05.458188Z"
    },
    "scrolled": true
   },
   "outputs": [],
   "source": [
    "b"
   ]
  },
  {
   "cell_type": "markdown",
   "id": "electric-hands",
   "metadata": {},
   "source": [
    "## Conjuntos\n",
    "\n",
    "Los conjuntos o **sets** son contenedores mutables, no ordenadas de objetos. Están diseñados para comportarse como sus contrapartes matemáticas. Un `frozenset` posee las mismas propiedades, solo que es inmutable."
   ]
  },
  {
   "cell_type": "code",
   "execution_count": null,
   "id": "closed-austria",
   "metadata": {
    "ExecuteTime": {
     "end_time": "2021-03-22T20:12:05.870376Z",
     "start_time": "2021-03-22T20:12:05.858361Z"
    }
   },
   "outputs": [],
   "source": [
    "set_0 = {1, 2, 3, 4, 5, 10}\n",
    "set_0"
   ]
  },
  {
   "cell_type": "code",
   "execution_count": null,
   "id": "common-laser",
   "metadata": {
    "ExecuteTime": {
     "end_time": "2021-03-23T13:50:08.385114Z",
     "start_time": "2021-03-23T13:50:08.371104Z"
    },
    "scrolled": true
   },
   "outputs": [],
   "source": [
    "set_1 = set([10, 20, 30, 5, 5]) # Noten que repetimos el 5\n",
    "set_1"
   ]
  },
  {
   "cell_type": "markdown",
   "id": "iraqi-luther",
   "metadata": {},
   "source": [
    "### Operaciones de conjuntos\n",
    "\n",
    "#### Unión\n",
    "\n",
    "Dados dos conjuntos $A$ y $B$, su unión $A \\cup B$ se puede ver representada por:\n",
    "\n",
    "<center>\n",
    "<img src=\"./resources/union.png\" alt=\"Unión de conjuntos A y B\" width=300/>\n",
    "</center>\n",
    "\n",
    "<center>\n",
    "Fuente: https://en.wikipedia.org/wiki/Union_(set_theory) \n",
    "</center>\n",
    "\n",
    "\n"
   ]
  },
  {
   "cell_type": "code",
   "execution_count": null,
   "id": "precise-investigation",
   "metadata": {
    "ExecuteTime": {
     "end_time": "2021-03-22T20:12:38.241216Z",
     "start_time": "2021-03-22T20:12:38.229249Z"
    }
   },
   "outputs": [],
   "source": [
    "set_0.union(set_1)"
   ]
  },
  {
   "cell_type": "code",
   "execution_count": null,
   "id": "editorial-proportion",
   "metadata": {
    "ExecuteTime": {
     "end_time": "2021-03-22T19:12:29.588217Z",
     "start_time": "2021-03-22T19:12:29.575221Z"
    }
   },
   "outputs": [],
   "source": [
    "set_0 | set_1  # Sintaxis reducida"
   ]
  },
  {
   "cell_type": "markdown",
   "id": "historical-philip",
   "metadata": {},
   "source": [
    "#### Intersección\n",
    "\n",
    "\n",
    "Dados dos conjuntos $A$ y $B$, su intersección $A \\cap B$ se puede ver representada por:\n",
    "\n",
    "<center>\n",
    "<img src=\"./resources/intersection.jpg\" alt=\"Intersección de conjuntos A y B\" width=300/>\n",
    "</center>\n",
    "\n",
    "<center>\n",
    "Fuente: https://en.wikipedia.org/wiki/Intersection_(set_theory)\n",
    "</center>\n",
    "\n",
    "\n"
   ]
  },
  {
   "cell_type": "code",
   "execution_count": null,
   "id": "dangerous-tolerance",
   "metadata": {
    "ExecuteTime": {
     "end_time": "2021-03-22T19:12:29.604218Z",
     "start_time": "2021-03-22T19:12:29.590219Z"
    }
   },
   "outputs": [],
   "source": [
    "set_0.intersection(set_1)"
   ]
  },
  {
   "cell_type": "code",
   "execution_count": null,
   "id": "systematic-separate",
   "metadata": {
    "ExecuteTime": {
     "end_time": "2021-03-22T19:12:29.620219Z",
     "start_time": "2021-03-22T19:12:29.606219Z"
    }
   },
   "outputs": [],
   "source": [
    "set_0 & set_1"
   ]
  },
  {
   "cell_type": "markdown",
   "id": "caring-dallas",
   "metadata": {},
   "source": [
    "#### Diferencia o Complemento\n",
    "\n",
    "\n",
    "Dados dos conjuntos $A$ y $B$, la diferencia entre $A - B$ se puede ver representada por:\n",
    "\n",
    "<center>\n",
    "<img src=\"./resources/SetDifferenceA.svg.png\" alt=\"Diferencia A y B\" width=300/>\n",
    "</center>\n",
    "\n",
    "Y la diferencia entre $B - A$ se puede ver representada por:\n",
    "\n",
    "<center>\n",
    "<img src=\"./resources/SetDifferenceB.svg.png\" alt=\"Diferencia B y A\" width=300/>\n",
    "</center>\n",
    "\n",
    "<center>\n",
    "Fuente: https://en.wikipedia.org/wiki/Union_(set_theory)\n",
    "</center>\n",
    "\n",
    "\n",
    "\n",
    "\n",
    "Recuerden que esta operación no es simétrica!"
   ]
  },
  {
   "cell_type": "code",
   "execution_count": null,
   "id": "complex-recycling",
   "metadata": {
    "ExecuteTime": {
     "end_time": "2021-03-22T19:12:29.635217Z",
     "start_time": "2021-03-22T19:12:29.623219Z"
    }
   },
   "outputs": [],
   "source": [
    "set_0.difference(set_1)"
   ]
  },
  {
   "cell_type": "code",
   "execution_count": null,
   "id": "occupied-column",
   "metadata": {
    "ExecuteTime": {
     "end_time": "2021-03-22T19:12:29.650217Z",
     "start_time": "2021-03-22T19:12:29.638220Z"
    }
   },
   "outputs": [],
   "source": [
    "set_0 - set_1"
   ]
  },
  {
   "cell_type": "code",
   "execution_count": null,
   "id": "herbal-essex",
   "metadata": {
    "ExecuteTime": {
     "end_time": "2021-03-22T19:12:29.665218Z",
     "start_time": "2021-03-22T19:12:29.652220Z"
    }
   },
   "outputs": [],
   "source": [
    "set_1 - set_0"
   ]
  },
  {
   "cell_type": "markdown",
   "id": "brilliant-hungarian",
   "metadata": {},
   "source": [
    "## Diccionarios\n",
    "\n",
    "Un diccionario corresponde a la implementación pythonica de una aplicación del tipo \"llave - valor\".\n",
    "Permite crear estructuras que nos permitan representar de una forma más natural los datos.\n",
    "\n",
    "**Ejemplo**:"
   ]
  },
  {
   "cell_type": "code",
   "execution_count": null,
   "id": "deadly-lloyd",
   "metadata": {
    "ExecuteTime": {
     "end_time": "2021-03-23T13:50:12.556210Z",
     "start_time": "2021-03-23T13:50:12.547228Z"
    }
   },
   "outputs": [],
   "source": [
    "d = {'nombre': 'Juan', 'edad': 29, 'peso': 70.3}\n",
    "d"
   ]
  },
  {
   "cell_type": "markdown",
   "id": "centered-cursor",
   "metadata": {},
   "source": [
    "Los datos presentes en un diccionario pueden ser accedidos mediante la sintaxis ```diccionario[llave]```."
   ]
  },
  {
   "cell_type": "code",
   "execution_count": null,
   "id": "tropical-trinity",
   "metadata": {
    "ExecuteTime": {
     "end_time": "2021-03-23T13:50:14.083270Z",
     "start_time": "2021-03-23T13:50:14.064275Z"
    }
   },
   "outputs": [],
   "source": [
    "d['nombre']"
   ]
  },
  {
   "cell_type": "markdown",
   "id": "successful-buffer",
   "metadata": {},
   "source": [
    "> **Pregunta**: ¿Qué sucede si intentamos acceder a una llave que no existe en el diccionario?"
   ]
  },
  {
   "cell_type": "code",
   "execution_count": null,
   "id": "creative-institute",
   "metadata": {
    "ExecuteTime": {
     "end_time": "2021-03-23T13:50:15.397944Z",
     "start_time": "2021-03-23T13:50:15.386966Z"
    }
   },
   "outputs": [],
   "source": [
    "d['apellido']"
   ]
  },
  {
   "cell_type": "markdown",
   "id": "architectural-thesaurus",
   "metadata": {},
   "source": [
    "Podemos verificar si una llave existe en el diccionario usando el operador `in`"
   ]
  },
  {
   "cell_type": "code",
   "execution_count": null,
   "id": "amino-mortgage",
   "metadata": {
    "ExecuteTime": {
     "end_time": "2021-03-23T13:50:16.641522Z",
     "start_time": "2021-03-23T13:50:16.634521Z"
    }
   },
   "outputs": [],
   "source": [
    "'apellido' in d"
   ]
  },
  {
   "cell_type": "markdown",
   "id": "laden-burlington",
   "metadata": {},
   "source": [
    "#### Mutar Diccionario\n",
    "\n",
    "Podemos modifcar un valores presente en el diccionario similar a como lo hacíamos con listas, pero cambiando el índice por la llave:"
   ]
  },
  {
   "cell_type": "code",
   "execution_count": null,
   "id": "future-asthma",
   "metadata": {
    "ExecuteTime": {
     "end_time": "2021-03-22T20:16:08.234933Z",
     "start_time": "2021-03-22T20:16:08.211924Z"
    }
   },
   "outputs": [],
   "source": [
    "d['peso'] = 73.2\n",
    "d"
   ]
  },
  {
   "cell_type": "markdown",
   "id": "alert-water",
   "metadata": {},
   "source": [
    "Se pueden eliminar elementos del diccionario usando el operador `del`"
   ]
  },
  {
   "cell_type": "code",
   "execution_count": null,
   "id": "blank-wednesday",
   "metadata": {
    "ExecuteTime": {
     "end_time": "2021-03-22T20:16:58.312264Z",
     "start_time": "2021-03-22T20:16:58.302264Z"
    }
   },
   "outputs": [],
   "source": [
    "del d['peso']\n",
    "d"
   ]
  },
  {
   "cell_type": "markdown",
   "id": "arctic-antarctica",
   "metadata": {},
   "source": [
    "#### Acceder a *colecciones* con los elementos de los diccionarios"
   ]
  },
  {
   "cell_type": "markdown",
   "id": "massive-revelation",
   "metadata": {},
   "source": [
    "Para obtener las llaves de un diccionario se puede hacer uso del método ```.keys()```. \n"
   ]
  },
  {
   "cell_type": "code",
   "execution_count": null,
   "id": "extensive-royal",
   "metadata": {
    "ExecuteTime": {
     "end_time": "2021-03-22T20:16:50.035215Z",
     "start_time": "2021-03-22T20:16:50.029208Z"
    }
   },
   "outputs": [],
   "source": [
    "# Redefinimos el diccionario al original para el siguiente ejemplo\n",
    "d = {'nombre': 'Juan', 'edad': 29, 'peso': 70.3}"
   ]
  },
  {
   "cell_type": "code",
   "execution_count": null,
   "id": "sophisticated-praise",
   "metadata": {
    "ExecuteTime": {
     "end_time": "2021-03-22T20:16:24.765298Z",
     "start_time": "2021-03-22T20:16:24.753298Z"
    }
   },
   "outputs": [],
   "source": [
    "d.keys()  # Ojo que no es una lista!"
   ]
  },
  {
   "cell_type": "markdown",
   "id": "opponent-palmer",
   "metadata": {},
   "source": [
    "Para obtener los elementos podemos usar el método `.values()`"
   ]
  },
  {
   "cell_type": "code",
   "execution_count": null,
   "id": "three-insider",
   "metadata": {
    "ExecuteTime": {
     "end_time": "2021-03-22T20:16:40.046254Z",
     "start_time": "2021-03-22T20:16:40.032232Z"
    }
   },
   "outputs": [],
   "source": [
    "d.values()"
   ]
  },
  {
   "cell_type": "markdown",
   "id": "controlled-theology",
   "metadata": {},
   "source": [
    "Y se pueden obtener tuplas indicando todas las `(llaves, valor)` del diccionario"
   ]
  },
  {
   "cell_type": "code",
   "execution_count": null,
   "id": "about-toolbox",
   "metadata": {},
   "outputs": [],
   "source": [
    "d.items()"
   ]
  },
  {
   "cell_type": "markdown",
   "id": "magnetic-gambling",
   "metadata": {},
   "source": [
    "## Iteradores"
   ]
  },
  {
   "cell_type": "markdown",
   "id": "emerging-storm",
   "metadata": {},
   "source": [
    "Los iteradores permiten recorrer cada elemento de una secuencia.\n",
    "\n",
    "Existen varios tipos:\n",
    "\n",
    "### Ciclo While\n",
    "\n",
    "\n",
    "**While:** un ciclo ```while``` permite realizar una ```acción``` en función del valor de verdad de una ```condicion```, su estructura es:\n",
    "\n",
    "```\n",
    "while condicion: # Condición booleana\n",
    "    acción # Bloque indentado\n",
    "```"
   ]
  },
  {
   "cell_type": "code",
   "execution_count": null,
   "id": "wanted-maker",
   "metadata": {
    "ExecuteTime": {
     "end_time": "2021-03-23T13:50:19.897248Z",
     "start_time": "2021-03-23T13:50:19.875247Z"
    }
   },
   "outputs": [],
   "source": [
    "contador = 0\n",
    "lista = [10, 20, 30, 40, 50, 60, 70, 80, 90, 100]\n",
    "\n",
    "while contador < len(lista):\n",
    "    print(contador, lista[contador])\n",
    "    contador += 1"
   ]
  },
  {
   "cell_type": "markdown",
   "id": "gothic-concern",
   "metadata": {},
   "source": [
    "### Ciclo For\n",
    "\n",
    "**for**: un ciclo ```for``` permite repetir realizar una```acción``` en función de los elementos de un *iterator*. (realiza acciones mientras \"itera\" sobre un objeto)\n",
    "\n",
    "Su estructura sigue el estándar de indentación y corresponde a:\n",
    "\n",
    "```python\n",
    "for var in iterator: \n",
    "    acción # Bloque indentado, acciones, pueden ser acciones en función de var\n",
    "\n",
    "```\n",
    "\n",
    "en este caso ```var``` corresponde a una variable que toma, secuencialmente, los valores del iterator. \n",
    "\n",
    "**Ejemplo**"
   ]
  },
  {
   "cell_type": "code",
   "execution_count": null,
   "id": "alleged-mercy",
   "metadata": {
    "ExecuteTime": {
     "end_time": "2021-03-23T13:50:21.833277Z",
     "start_time": "2021-03-23T13:50:21.818239Z"
    }
   },
   "outputs": [],
   "source": [
    "lista"
   ]
  },
  {
   "cell_type": "code",
   "execution_count": null,
   "id": "smoking-secret",
   "metadata": {
    "ExecuteTime": {
     "end_time": "2021-03-23T13:50:22.476165Z",
     "start_time": "2021-03-23T13:50:22.459150Z"
    }
   },
   "outputs": [],
   "source": [
    "for elemento in lista:\n",
    "    print(elemento)"
   ]
  },
  {
   "cell_type": "code",
   "execution_count": null,
   "id": "removable-samoa",
   "metadata": {
    "ExecuteTime": {
     "end_time": "2021-03-22T20:21:32.486346Z",
     "start_time": "2021-03-22T20:21:32.475326Z"
    }
   },
   "outputs": [],
   "source": [
    "d.items()"
   ]
  },
  {
   "cell_type": "code",
   "execution_count": null,
   "id": "amateur-stewart",
   "metadata": {
    "ExecuteTime": {
     "end_time": "2021-03-22T20:21:39.879297Z",
     "start_time": "2021-03-22T20:21:39.859296Z"
    }
   },
   "outputs": [],
   "source": [
    "d = {'nombre': 'Juan', 'edad': 29, 'peso': 70.3}\n",
    "\n",
    "for elemento in d.items():\n",
    "    print(elemento)"
   ]
  },
  {
   "cell_type": "code",
   "execution_count": null,
   "id": "guilty-effects",
   "metadata": {
    "ExecuteTime": {
     "end_time": "2021-03-22T20:22:17.080653Z",
     "start_time": "2021-03-22T20:22:17.073658Z"
    }
   },
   "outputs": [],
   "source": [
    "# Noten que items nos entregaba una estructura similar a una lista [(llave_1, valor_1), ...]\n",
    "# Como cada elemento es una tupla, podemos desempacarla en llave, valor en el mismo ciclo.\n",
    "\n",
    "for llave, valor in d.items():\n",
    "    print(f'Llave: {llave} | Valor: {valor}')"
   ]
  },
  {
   "cell_type": "markdown",
   "id": "computational-norman",
   "metadata": {},
   "source": [
    "### Funciones utilirarias para la iteración"
   ]
  },
  {
   "cell_type": "markdown",
   "id": "corporate-message",
   "metadata": {},
   "source": [
    "#### Enumerador\n",
    "\n",
    "Permite tener el índice del elemento al cual estamos accediendo. Para esto, usar la función `enumerate(lista)`"
   ]
  },
  {
   "cell_type": "code",
   "execution_count": null,
   "id": "elect-adelaide",
   "metadata": {
    "ExecuteTime": {
     "end_time": "2021-03-22T20:22:27.345116Z",
     "start_time": "2021-03-22T20:22:27.325122Z"
    }
   },
   "outputs": [],
   "source": [
    "for indice, elemento in enumerate(lista):\n",
    "    print(f'Indice: {indice} | Elemento: {elemento}')"
   ]
  },
  {
   "cell_type": "markdown",
   "id": "ecological-halloween",
   "metadata": {},
   "source": [
    "#### Range\n",
    "\n",
    "Genera una secuencia de números. No es una lista como tal, si no que un generador.Sintaxis: \n",
    " \n",
    "```python\n",
    "range(inicio, fin, salto)\n",
    "```"
   ]
  },
  {
   "cell_type": "code",
   "execution_count": null,
   "id": "moved-century",
   "metadata": {
    "ExecuteTime": {
     "end_time": "2021-03-23T14:00:50.184140Z",
     "start_time": "2021-03-23T14:00:50.165117Z"
    }
   },
   "outputs": [],
   "source": [
    "for elemento in range(0, 5, 1):\n",
    "    print(elemento)"
   ]
  },
  {
   "cell_type": "code",
   "execution_count": null,
   "id": "casual-recycling",
   "metadata": {
    "ExecuteTime": {
     "end_time": "2021-03-23T14:02:11.120715Z",
     "start_time": "2021-03-23T14:02:11.109702Z"
    }
   },
   "outputs": [],
   "source": [
    "# Podemos darle además un salto, es decir, cuanto saltaremos entre un elemento y otro.\n",
    "for elemento in range(0, 10, 3):\n",
    "    print(elemento)"
   ]
  },
  {
   "cell_type": "markdown",
   "id": "corrected-ballet",
   "metadata": {},
   "source": [
    "#### Zip\n",
    "\n",
    "Permite iterar entre dos o mas secuencias al mismo tiempo. Para esto, genera tuplas con ambos valores."
   ]
  },
  {
   "cell_type": "code",
   "execution_count": null,
   "id": "sixth-communication",
   "metadata": {
    "ExecuteTime": {
     "end_time": "2021-03-23T13:58:54.552693Z",
     "start_time": "2021-03-23T13:58:54.542693Z"
    }
   },
   "outputs": [],
   "source": [
    "preguntas = ['nombre', 'edad', 'peso']\n",
    "respuestas = ['Juan', '27', '70']\n",
    "\n",
    "for pregunta, respuesta in zip(preguntas, respuestas):\n",
    "\n",
    "    print(f'Cuál es tu {pregunta}?  Es {respuesta}.')"
   ]
  },
  {
   "cell_type": "markdown",
   "id": "practical-protection",
   "metadata": {},
   "source": [
    "#### Reverse\n",
    "\n",
    "Invierte el orden de la colección:"
   ]
  },
  {
   "cell_type": "code",
   "execution_count": null,
   "id": "fitting-firewall",
   "metadata": {
    "ExecuteTime": {
     "end_time": "2021-03-23T13:59:47.139452Z",
     "start_time": "2021-03-23T13:59:47.133466Z"
    }
   },
   "outputs": [],
   "source": [
    "for i in reversed([1, 2, 3, 4]):\n",
    "    print(i)"
   ]
  },
  {
   "cell_type": "markdown",
   "id": "fifth-recording",
   "metadata": {},
   "source": [
    "### List Comprehensions\n",
    "\n",
    "Es una forma *elegante* de crear colecciones.\n",
    "\n",
    "Supongamos que queremos crear una lista con todas las letras de la palabra `cuaderno`."
   ]
  },
  {
   "cell_type": "code",
   "execution_count": null,
   "id": "registered-sword",
   "metadata": {
    "ExecuteTime": {
     "end_time": "2021-03-22T20:23:14.764115Z",
     "start_time": "2021-03-22T20:23:14.751130Z"
    }
   },
   "outputs": [],
   "source": [
    "letras = []\n",
    "palabra = 'cuaderno'\n",
    "\n",
    "for letra in palabra:\n",
    "    letras.append(letra)\n",
    "    print(f'Agregué: {letra}')\n",
    "\n",
    "letras"
   ]
  },
  {
   "cell_type": "markdown",
   "id": "illegal-meaning",
   "metadata": {},
   "source": [
    "Podemos reemplazar este ciclo `for` por una sintaxis mas compacta:"
   ]
  },
  {
   "cell_type": "code",
   "execution_count": null,
   "id": "formal-reset",
   "metadata": {
    "ExecuteTime": {
     "end_time": "2021-03-22T20:23:58.748825Z",
     "start_time": "2021-03-22T20:23:58.740827Z"
    }
   },
   "outputs": [],
   "source": [
    "letras = [letra for letra in palabra]\n",
    "letras"
   ]
  },
  {
   "cell_type": "markdown",
   "id": "severe-artwork",
   "metadata": {
    "ExecuteTime": {
     "end_time": "2021-03-22T19:02:53.523752Z",
     "start_time": "2021-03-22T19:02:53.515781Z"
    }
   },
   "source": [
    "Esto se le conoce como **List Comprehension**"
   ]
  },
  {
   "cell_type": "markdown",
   "id": "distributed-vision",
   "metadata": {},
   "source": [
    "Supongamos ahora que generamos una lista con los 10 primeros números enteros y de estos queremos solo los pares.\n",
    "Un código usando `for` se vería como:"
   ]
  },
  {
   "cell_type": "code",
   "execution_count": null,
   "id": "rough-toner",
   "metadata": {
    "ExecuteTime": {
     "end_time": "2021-03-22T20:24:21.286110Z",
     "start_time": "2021-03-22T20:24:21.276108Z"
    }
   },
   "outputs": [],
   "source": [
    "numeros_pares = []\n",
    "for numero in range(10):\n",
    "    if numero % 2 == 0:\n",
    "        numeros_pares.append(numero)\n",
    "\n",
    "numeros_pares"
   ]
  },
  {
   "cell_type": "markdown",
   "id": "completed-check",
   "metadata": {},
   "source": [
    "Usando **List Comprehension**:"
   ]
  },
  {
   "cell_type": "code",
   "execution_count": null,
   "id": "prostate-information",
   "metadata": {
    "ExecuteTime": {
     "end_time": "2021-03-22T20:25:13.348291Z",
     "start_time": "2021-03-22T20:25:13.341291Z"
    }
   },
   "outputs": [],
   "source": [
    "numeros_pares = [numero for numero in range(10) if numero % 2 == 0]\n",
    "numeros_pares"
   ]
  },
  {
   "cell_type": "code",
   "execution_count": null,
   "id": "subsequent-wright",
   "metadata": {
    "ExecuteTime": {
     "end_time": "2021-03-22T20:25:25.368603Z",
     "start_time": "2021-03-22T20:25:25.352606Z"
    }
   },
   "outputs": [],
   "source": [
    "numeros_pares = ['Par' if numero % 2 == 0 else 'Impar' for numero in range(10)]\n",
    "numeros_pares"
   ]
  },
  {
   "cell_type": "markdown",
   "id": "transsexual-color",
   "metadata": {},
   "source": [
    "> Pregunta: ¿Se puede crear usando esta notación diccionarios?"
   ]
  },
  {
   "cell_type": "markdown",
   "id": "finnish-swimming",
   "metadata": {},
   "source": [
    "## Otras referencias"
   ]
  },
  {
   "cell_type": "markdown",
   "id": "dimensional-cyprus",
   "metadata": {},
   "source": [
    "Un excelente tutorial de Python:\n",
    "    \n",
    "https://www.programiz.com/python-programming\n",
    "\n",
    "Y el tutorial oficial: \n",
    "\n",
    "https://docs.python.org/es/3/tutorial/\n"
   ]
  }
 ],
 "metadata": {
  "kernelspec": {
   "display_name": "Python 3",
   "language": "python",
   "name": "python3"
  },
  "language_info": {
   "codemirror_mode": {
    "name": "ipython",
    "version": 3
   },
   "file_extension": ".py",
   "mimetype": "text/x-python",
   "name": "python",
   "nbconvert_exporter": "python",
   "pygments_lexer": "ipython3",
   "version": "3.9.5"
  },
  "toc": {
   "base_numbering": 1,
   "nav_menu": {},
   "number_sections": true,
   "sideBar": true,
   "skip_h1_title": false,
   "title_cell": "Table of Contents",
   "title_sidebar": "Contents",
   "toc_cell": false,
   "toc_position": {
    "height": "calc(100% - 180px)",
    "left": "10px",
    "top": "150px",
    "width": "294.233px"
   },
   "toc_section_display": true,
   "toc_window_display": true
  },
  "varInspector": {
   "cols": {
    "lenName": 16,
    "lenType": 16,
    "lenVar": 40
   },
   "kernels_config": {
    "python": {
     "delete_cmd_postfix": "",
     "delete_cmd_prefix": "del ",
     "library": "var_list.py",
     "varRefreshCmd": "print(var_dic_list())"
    },
    "r": {
     "delete_cmd_postfix": ") ",
     "delete_cmd_prefix": "rm(",
     "library": "var_list.r",
     "varRefreshCmd": "cat(var_dic_list()) "
    }
   },
   "types_to_exclude": [
    "module",
    "function",
    "builtin_function_or_method",
    "instance",
    "_Feature"
   ],
   "window_display": false
  }
 },
 "nbformat": 4,
 "nbformat_minor": 5
}
