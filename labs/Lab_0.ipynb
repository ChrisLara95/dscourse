{
 "cells": [
  {
   "cell_type": "markdown",
   "metadata": {},
   "source": [
    "# Lab 0 - Ejercicios en Python\n",
    "\n",
    "**MDS7202: Laboratorio de Programación Científica para Ciencia de Datos**\n",
    "\n",
    "---"
   ]
  },
  {
   "cell_type": "markdown",
   "metadata": {
    "ExecuteTime": {
     "end_time": "2021-03-26T13:06:09.406152Z",
     "start_time": "2021-03-26T13:06:07.099095Z"
    }
   },
   "source": [
    "## Función input"
   ]
  },
  {
   "cell_type": "code",
   "execution_count": 3,
   "metadata": {
    "ExecuteTime": {
     "end_time": "2021-03-26T19:38:26.229230Z",
     "start_time": "2021-03-26T19:38:10.881357Z"
    },
    "scrolled": true
   },
   "outputs": [
    {
     "name": "stdout",
     "output_type": "stream",
     "text": [
      "Escribe algo\n",
      "fdsjkafdhjlkasdhjlasdljk\n"
     ]
    },
    {
     "data": {
      "text/plain": [
       "'fdsjkafdhjlkasdhjlasdljk'"
      ]
     },
     "execution_count": 3,
     "metadata": {},
     "output_type": "execute_result"
    }
   ],
   "source": [
    "a = input('Escribe algo\\n')"
   ]
  },
  {
   "cell_type": "code",
   "execution_count": null,
   "metadata": {},
   "outputs": [],
   "source": [
    "bd.insert({'a':1})"
   ]
  },
  {
   "cell_type": "code",
   "execution_count": 95,
   "metadata": {
    "ExecuteTime": {
     "end_time": "2021-03-26T20:39:38.439152Z",
     "start_time": "2021-03-26T20:39:38.432134Z"
    }
   },
   "outputs": [
    {
     "data": {
      "text/plain": [
       "100"
      ]
     },
     "execution_count": 95,
     "metadata": {},
     "output_type": "execute_result"
    }
   ],
   "source": [
    "{\n",
    "    'img' :b'dlkjhwegtw498pfqudjklsrbj'\n",
    "}"
   ]
  },
  {
   "cell_type": "code",
   "execution_count": null,
   "metadata": {},
   "outputs": [],
   "source": [
    "{\n",
    "    'correcto': True,\n",
    "    'elementos_id': ['fhodos']\n",
    "}"
   ]
  },
  {
   "cell_type": "markdown",
   "metadata": {},
   "source": [
    "## Problemas con Listas y Strings\n",
    "\n",
    "Por cada uno de estos problemas, elabore una función que los resuelva:"
   ]
  },
  {
   "cell_type": "markdown",
   "metadata": {},
   "source": [
    "1. Dada una lista de $n$ elementos, no necesariamente ordenada, defina funciones que busquen:\n",
    "- El elemento menor.\n",
    "- El elemento mayor.\n",
    "- El promedio de los elementos en la lista.\n",
    "\n",
    "Ejemplo:\n",
    "```python\n",
    "listaN = [12,4,34,1,2,52,1,54,98,5,235,76,57,87,123,32,32]\n",
    "menor = 1\n",
    "mayor = 235\n",
    "```\n",
    "\n",
    "Además, implemente un par de test que verifiquen la correctitud de las funciones.\n",
    "\n",
    "**Nota**: Idealmente se hacen tests sobre los casos bordes. ¿Qué casos bordes tendríamos aquí?\n"
   ]
  },
  {
   "cell_type": "code",
   "execution_count": 22,
   "metadata": {
    "ExecuteTime": {
     "end_time": "2021-03-26T19:49:45.250326Z",
     "start_time": "2021-03-26T19:49:45.233311Z"
    }
   },
   "outputs": [],
   "source": [
    "def menor(lista):\n",
    "    minimo = float('inf')\n",
    "    for elemento in lista:\n",
    "        if minimo > elemento:\n",
    "            minimo = elemento\n",
    "\n",
    "    return minimo\n",
    "\n",
    "\n",
    "lista_n = [12, 4, 34, 1, 2, 52, 1, 54, 98, 5, 235, 76, 57, 87, 123, 32, 32]\n",
    "\n",
    "assert menor(lista_n) == 1\n",
    "\n",
    "\n",
    "def mayor(lista):\n",
    "    minimo = -float('inf')\n",
    "    for elemento in lista:\n",
    "        if minimo < elemento:\n",
    "            minimo = elemento\n",
    "\n",
    "    return minimo\n",
    "\n",
    "\n",
    "assert mayor(lista_n) == 235\n",
    "\n",
    "\n",
    "def promedio(lista):\n",
    "    suma_total = sum(lista)\n",
    "    largo = len(lista)\n",
    "    return suma_total / largo\n",
    "\n",
    "\n",
    "assert promedio([1, 2, 3, 4, 5, 6, 7, 8, 9]) == 5"
   ]
  },
  {
   "cell_type": "code",
   "execution_count": 23,
   "metadata": {
    "ExecuteTime": {
     "end_time": "2021-03-26T19:50:32.369952Z",
     "start_time": "2021-03-26T19:50:32.353952Z"
    }
   },
   "outputs": [],
   "source": [
    "from functools import reduce"
   ]
  },
  {
   "cell_type": "code",
   "execution_count": 24,
   "metadata": {
    "ExecuteTime": {
     "end_time": "2021-03-26T19:51:57.089675Z",
     "start_time": "2021-03-26T19:51:57.082676Z"
    }
   },
   "outputs": [],
   "source": [
    "def promedio_reduce(lista):\n",
    "    suma_total = reduce(lambda x,y: x+y, lista)\n",
    "    largo = len(lista)\n",
    "    return suma_total / largo\n",
    "\n",
    "assert promedio_reduce([1, 2, 3, 4, 5, 6, 7, 8, 9]) == 5"
   ]
  },
  {
   "cell_type": "markdown",
   "metadata": {},
   "source": [
    "2. Dada una lista de n números, no ordenados, ordene la lista de mayor a menor."
   ]
  },
  {
   "cell_type": "code",
   "execution_count": 25,
   "metadata": {
    "ExecuteTime": {
     "end_time": "2021-03-26T19:53:05.435748Z",
     "start_time": "2021-03-26T19:53:05.419747Z"
    }
   },
   "outputs": [
    {
     "name": "stdout",
     "output_type": "stream",
     "text": [
      "Help on class list in module builtins:\n",
      "\n",
      "class list(object)\n",
      " |  list(iterable=(), /)\n",
      " |  \n",
      " |  Built-in mutable sequence.\n",
      " |  \n",
      " |  If no argument is given, the constructor creates a new empty list.\n",
      " |  The argument must be an iterable if specified.\n",
      " |  \n",
      " |  Methods defined here:\n",
      " |  \n",
      " |  __add__(self, value, /)\n",
      " |      Return self+value.\n",
      " |  \n",
      " |  __contains__(self, key, /)\n",
      " |      Return key in self.\n",
      " |  \n",
      " |  __delitem__(self, key, /)\n",
      " |      Delete self[key].\n",
      " |  \n",
      " |  __eq__(self, value, /)\n",
      " |      Return self==value.\n",
      " |  \n",
      " |  __ge__(self, value, /)\n",
      " |      Return self>=value.\n",
      " |  \n",
      " |  __getattribute__(self, name, /)\n",
      " |      Return getattr(self, name).\n",
      " |  \n",
      " |  __getitem__(...)\n",
      " |      x.__getitem__(y) <==> x[y]\n",
      " |  \n",
      " |  __gt__(self, value, /)\n",
      " |      Return self>value.\n",
      " |  \n",
      " |  __iadd__(self, value, /)\n",
      " |      Implement self+=value.\n",
      " |  \n",
      " |  __imul__(self, value, /)\n",
      " |      Implement self*=value.\n",
      " |  \n",
      " |  __init__(self, /, *args, **kwargs)\n",
      " |      Initialize self.  See help(type(self)) for accurate signature.\n",
      " |  \n",
      " |  __iter__(self, /)\n",
      " |      Implement iter(self).\n",
      " |  \n",
      " |  __le__(self, value, /)\n",
      " |      Return self<=value.\n",
      " |  \n",
      " |  __len__(self, /)\n",
      " |      Return len(self).\n",
      " |  \n",
      " |  __lt__(self, value, /)\n",
      " |      Return self<value.\n",
      " |  \n",
      " |  __mul__(self, value, /)\n",
      " |      Return self*value.\n",
      " |  \n",
      " |  __ne__(self, value, /)\n",
      " |      Return self!=value.\n",
      " |  \n",
      " |  __repr__(self, /)\n",
      " |      Return repr(self).\n",
      " |  \n",
      " |  __reversed__(self, /)\n",
      " |      Return a reverse iterator over the list.\n",
      " |  \n",
      " |  __rmul__(self, value, /)\n",
      " |      Return value*self.\n",
      " |  \n",
      " |  __setitem__(self, key, value, /)\n",
      " |      Set self[key] to value.\n",
      " |  \n",
      " |  __sizeof__(self, /)\n",
      " |      Return the size of the list in memory, in bytes.\n",
      " |  \n",
      " |  append(self, object, /)\n",
      " |      Append object to the end of the list.\n",
      " |  \n",
      " |  clear(self, /)\n",
      " |      Remove all items from list.\n",
      " |  \n",
      " |  copy(self, /)\n",
      " |      Return a shallow copy of the list.\n",
      " |  \n",
      " |  count(self, value, /)\n",
      " |      Return number of occurrences of value.\n",
      " |  \n",
      " |  extend(self, iterable, /)\n",
      " |      Extend list by appending elements from the iterable.\n",
      " |  \n",
      " |  index(self, value, start=0, stop=9223372036854775807, /)\n",
      " |      Return first index of value.\n",
      " |      \n",
      " |      Raises ValueError if the value is not present.\n",
      " |  \n",
      " |  insert(self, index, object, /)\n",
      " |      Insert object before index.\n",
      " |  \n",
      " |  pop(self, index=-1, /)\n",
      " |      Remove and return item at index (default last).\n",
      " |      \n",
      " |      Raises IndexError if list is empty or index is out of range.\n",
      " |  \n",
      " |  remove(self, value, /)\n",
      " |      Remove first occurrence of value.\n",
      " |      \n",
      " |      Raises ValueError if the value is not present.\n",
      " |  \n",
      " |  reverse(self, /)\n",
      " |      Reverse *IN PLACE*.\n",
      " |  \n",
      " |  sort(self, /, *, key=None, reverse=False)\n",
      " |      Sort the list in ascending order and return None.\n",
      " |      \n",
      " |      The sort is in-place (i.e. the list itself is modified) and stable (i.e. the\n",
      " |      order of two equal elements is maintained).\n",
      " |      \n",
      " |      If a key function is given, apply it once to each list item and sort them,\n",
      " |      ascending or descending, according to their function values.\n",
      " |      \n",
      " |      The reverse flag can be set to sort in descending order.\n",
      " |  \n",
      " |  ----------------------------------------------------------------------\n",
      " |  Static methods defined here:\n",
      " |  \n",
      " |  __new__(*args, **kwargs) from builtins.type\n",
      " |      Create and return a new object.  See help(type) for accurate signature.\n",
      " |  \n",
      " |  ----------------------------------------------------------------------\n",
      " |  Data and other attributes defined here:\n",
      " |  \n",
      " |  __hash__ = None\n",
      "\n"
     ]
    }
   ],
   "source": [
    "help(list)"
   ]
  },
  {
   "cell_type": "code",
   "execution_count": 26,
   "metadata": {
    "ExecuteTime": {
     "end_time": "2021-03-26T19:54:33.143575Z",
     "start_time": "2021-03-26T19:54:33.134572Z"
    }
   },
   "outputs": [],
   "source": [
    "from copy import deepcopy\n",
    "\n",
    "nueva_lista = deepcopy(lista_n)"
   ]
  },
  {
   "cell_type": "code",
   "execution_count": 27,
   "metadata": {
    "ExecuteTime": {
     "end_time": "2021-03-26T19:54:46.084496Z",
     "start_time": "2021-03-26T19:54:46.068501Z"
    }
   },
   "outputs": [],
   "source": [
    "nueva_lista.sort()"
   ]
  },
  {
   "cell_type": "code",
   "execution_count": 28,
   "metadata": {
    "ExecuteTime": {
     "end_time": "2021-03-26T19:54:50.881606Z",
     "start_time": "2021-03-26T19:54:50.874601Z"
    }
   },
   "outputs": [
    {
     "data": {
      "text/plain": [
       "[1, 1, 2, 4, 5, 12, 32, 32, 34, 52, 54, 57, 76, 87, 98, 123, 235]"
      ]
     },
     "execution_count": 28,
     "metadata": {},
     "output_type": "execute_result"
    }
   ],
   "source": [
    "nueva_lista"
   ]
  },
  {
   "cell_type": "markdown",
   "metadata": {},
   "source": [
    "3. Obtenga la moda de una lista. Idea: Usar diccionarios."
   ]
  },
  {
   "cell_type": "code",
   "execution_count": 37,
   "metadata": {
    "ExecuteTime": {
     "end_time": "2021-03-26T19:56:58.991545Z",
     "start_time": "2021-03-26T19:56:58.975545Z"
    }
   },
   "outputs": [
    {
     "data": {
      "text/plain": [
       "100"
      ]
     },
     "execution_count": 37,
     "metadata": {},
     "output_type": "execute_result"
    }
   ],
   "source": [
    "a = 10\n",
    "\n",
    "a += 2\n",
    "a"
   ]
  },
  {
   "cell_type": "code",
   "execution_count": 33,
   "metadata": {
    "ExecuteTime": {
     "end_time": "2021-03-26T19:56:43.638802Z",
     "start_time": "2021-03-26T19:56:43.632809Z"
    }
   },
   "outputs": [
    {
     "data": {
      "text/plain": [
       "2"
      ]
     },
     "execution_count": 33,
     "metadata": {},
     "output_type": "execute_result"
    }
   ],
   "source": [
    "a = 10\n",
    "a = a + 2\n",
    "a"
   ]
  },
  {
   "cell_type": "code",
   "execution_count": 44,
   "metadata": {
    "ExecuteTime": {
     "end_time": "2021-03-26T20:00:49.312659Z",
     "start_time": "2021-03-26T20:00:49.299640Z"
    }
   },
   "outputs": [
    {
     "data": {
      "text/plain": [
       "[1, 1, 2, 4, 5, 12, 32, 32, 34, 52, 54, 57, 76, 87, 98, 123, 235, 32, 32]"
      ]
     },
     "execution_count": 44,
     "metadata": {},
     "output_type": "execute_result"
    }
   ],
   "source": [
    "nueva_lista = nueva_lista + [32]\n",
    "nueva_lista"
   ]
  },
  {
   "cell_type": "code",
   "execution_count": null,
   "metadata": {},
   "outputs": [],
   "source": [
    "d = {'elemento': 'cantidad_de_veces_que_aparecio'}"
   ]
  },
  {
   "cell_type": "code",
   "execution_count": 45,
   "metadata": {
    "ExecuteTime": {
     "end_time": "2021-03-26T20:01:17.156432Z",
     "start_time": "2021-03-26T20:01:17.153431Z"
    }
   },
   "outputs": [],
   "source": [
    "d = {}\n",
    "\n",
    "for elemento in nueva_lista:\n",
    "    if elemento in d:\n",
    "        d[elemento] += 1\n",
    "    else:\n",
    "        d[elemento] = 1"
   ]
  },
  {
   "cell_type": "code",
   "execution_count": 46,
   "metadata": {
    "ExecuteTime": {
     "end_time": "2021-03-26T20:01:17.691454Z",
     "start_time": "2021-03-26T20:01:17.673431Z"
    }
   },
   "outputs": [
    {
     "data": {
      "text/plain": [
       "{1: 2,\n",
       " 2: 1,\n",
       " 4: 1,\n",
       " 5: 1,\n",
       " 12: 1,\n",
       " 32: 4,\n",
       " 34: 1,\n",
       " 52: 1,\n",
       " 54: 1,\n",
       " 57: 1,\n",
       " 76: 1,\n",
       " 87: 1,\n",
       " 98: 1,\n",
       " 123: 1,\n",
       " 235: 1}"
      ]
     },
     "execution_count": 46,
     "metadata": {},
     "output_type": "execute_result"
    }
   ],
   "source": [
    "d"
   ]
  },
  {
   "cell_type": "code",
   "execution_count": 47,
   "metadata": {
    "ExecuteTime": {
     "end_time": "2021-03-26T20:02:31.851763Z",
     "start_time": "2021-03-26T20:02:31.824746Z"
    }
   },
   "outputs": [
    {
     "name": "stdout",
     "output_type": "stream",
     "text": [
      "Help on dict object:\n",
      "\n",
      "class dict(object)\n",
      " |  dict() -> new empty dictionary\n",
      " |  dict(mapping) -> new dictionary initialized from a mapping object's\n",
      " |      (key, value) pairs\n",
      " |  dict(iterable) -> new dictionary initialized as if via:\n",
      " |      d = {}\n",
      " |      for k, v in iterable:\n",
      " |          d[k] = v\n",
      " |  dict(**kwargs) -> new dictionary initialized with the name=value pairs\n",
      " |      in the keyword argument list.  For example:  dict(one=1, two=2)\n",
      " |  \n",
      " |  Built-in subclasses:\n",
      " |      StgDict\n",
      " |  \n",
      " |  Methods defined here:\n",
      " |  \n",
      " |  __contains__(self, key, /)\n",
      " |      True if the dictionary has the specified key, else False.\n",
      " |  \n",
      " |  __delitem__(self, key, /)\n",
      " |      Delete self[key].\n",
      " |  \n",
      " |  __eq__(self, value, /)\n",
      " |      Return self==value.\n",
      " |  \n",
      " |  __ge__(self, value, /)\n",
      " |      Return self>=value.\n",
      " |  \n",
      " |  __getattribute__(self, name, /)\n",
      " |      Return getattr(self, name).\n",
      " |  \n",
      " |  __getitem__(...)\n",
      " |      x.__getitem__(y) <==> x[y]\n",
      " |  \n",
      " |  __gt__(self, value, /)\n",
      " |      Return self>value.\n",
      " |  \n",
      " |  __init__(self, /, *args, **kwargs)\n",
      " |      Initialize self.  See help(type(self)) for accurate signature.\n",
      " |  \n",
      " |  __iter__(self, /)\n",
      " |      Implement iter(self).\n",
      " |  \n",
      " |  __le__(self, value, /)\n",
      " |      Return self<=value.\n",
      " |  \n",
      " |  __len__(self, /)\n",
      " |      Return len(self).\n",
      " |  \n",
      " |  __lt__(self, value, /)\n",
      " |      Return self<value.\n",
      " |  \n",
      " |  __ne__(self, value, /)\n",
      " |      Return self!=value.\n",
      " |  \n",
      " |  __repr__(self, /)\n",
      " |      Return repr(self).\n",
      " |  \n",
      " |  __reversed__(self, /)\n",
      " |      Return a reverse iterator over the dict keys.\n",
      " |  \n",
      " |  __setitem__(self, key, value, /)\n",
      " |      Set self[key] to value.\n",
      " |  \n",
      " |  __sizeof__(...)\n",
      " |      D.__sizeof__() -> size of D in memory, in bytes\n",
      " |  \n",
      " |  clear(...)\n",
      " |      D.clear() -> None.  Remove all items from D.\n",
      " |  \n",
      " |  copy(...)\n",
      " |      D.copy() -> a shallow copy of D\n",
      " |  \n",
      " |  get(self, key, default=None, /)\n",
      " |      Return the value for key if key is in the dictionary, else default.\n",
      " |  \n",
      " |  items(...)\n",
      " |      D.items() -> a set-like object providing a view on D's items\n",
      " |  \n",
      " |  keys(...)\n",
      " |      D.keys() -> a set-like object providing a view on D's keys\n",
      " |  \n",
      " |  pop(...)\n",
      " |      D.pop(k[,d]) -> v, remove specified key and return the corresponding value.\n",
      " |      If key is not found, d is returned if given, otherwise KeyError is raised\n",
      " |  \n",
      " |  popitem(self, /)\n",
      " |      Remove and return a (key, value) pair as a 2-tuple.\n",
      " |      \n",
      " |      Pairs are returned in LIFO (last-in, first-out) order.\n",
      " |      Raises KeyError if the dict is empty.\n",
      " |  \n",
      " |  setdefault(self, key, default=None, /)\n",
      " |      Insert key with a value of default if key is not in the dictionary.\n",
      " |      \n",
      " |      Return the value for key if key is in the dictionary, else default.\n",
      " |  \n",
      " |  update(...)\n",
      " |      D.update([E, ]**F) -> None.  Update D from dict/iterable E and F.\n",
      " |      If E is present and has a .keys() method, then does:  for k in E: D[k] = E[k]\n",
      " |      If E is present and lacks a .keys() method, then does:  for k, v in E: D[k] = v\n",
      " |      In either case, this is followed by: for k in F:  D[k] = F[k]\n",
      " |  \n",
      " |  values(...)\n",
      " |      D.values() -> an object providing a view on D's values\n",
      " |  \n",
      " |  ----------------------------------------------------------------------\n",
      " |  Class methods defined here:\n",
      " |  \n",
      " |  fromkeys(iterable, value=None, /) from builtins.type\n",
      " |      Create a new dictionary with keys from iterable and values set to value.\n",
      " |  \n",
      " |  ----------------------------------------------------------------------\n",
      " |  Static methods defined here:\n",
      " |  \n",
      " |  __new__(*args, **kwargs) from builtins.type\n",
      " |      Create and return a new object.  See help(type) for accurate signature.\n",
      " |  \n",
      " |  ----------------------------------------------------------------------\n",
      " |  Data and other attributes defined here:\n",
      " |  \n",
      " |  __hash__ = None\n",
      "\n"
     ]
    }
   ],
   "source": [
    "help(d)"
   ]
  },
  {
   "cell_type": "code",
   "execution_count": 48,
   "metadata": {
    "ExecuteTime": {
     "end_time": "2021-03-26T20:02:55.847568Z",
     "start_time": "2021-03-26T20:02:55.838569Z"
    }
   },
   "outputs": [
    {
     "data": {
      "text/plain": [
       "dict_items([(1, 2), (2, 1), (4, 1), (5, 1), (12, 1), (32, 4), (34, 1), (52, 1), (54, 1), (57, 1), (76, 1), (87, 1), (98, 1), (123, 1), (235, 1)])"
      ]
     },
     "execution_count": 48,
     "metadata": {},
     "output_type": "execute_result"
    }
   ],
   "source": [
    "d.items()"
   ]
  },
  {
   "cell_type": "code",
   "execution_count": 50,
   "metadata": {
    "ExecuteTime": {
     "end_time": "2021-03-26T20:04:27.500846Z",
     "start_time": "2021-03-26T20:04:27.484847Z"
    }
   },
   "outputs": [],
   "source": [
    "moda = None\n",
    "mayor = -float('inf')\n",
    "\n",
    "for numero, cantidad in d.items():\n",
    "    if cantidad > mayor:\n",
    "        moda = numero\n",
    "        mayor = cantidad\n",
    "        \n",
    "    "
   ]
  },
  {
   "cell_type": "code",
   "execution_count": 51,
   "metadata": {
    "ExecuteTime": {
     "end_time": "2021-03-26T20:04:30.733870Z",
     "start_time": "2021-03-26T20:04:30.724871Z"
    }
   },
   "outputs": [
    {
     "data": {
      "text/plain": [
       "32"
      ]
     },
     "execution_count": 51,
     "metadata": {},
     "output_type": "execute_result"
    }
   ],
   "source": [
    "moda"
   ]
  },
  {
   "cell_type": "code",
   "execution_count": 53,
   "metadata": {
    "ExecuteTime": {
     "end_time": "2021-03-26T20:04:41.771083Z",
     "start_time": "2021-03-26T20:04:41.754084Z"
    },
    "scrolled": false
   },
   "outputs": [
    {
     "data": {
      "text/plain": [
       "4"
      ]
     },
     "execution_count": 53,
     "metadata": {},
     "output_type": "execute_result"
    }
   ],
   "source": [
    "mayor"
   ]
  },
  {
   "cell_type": "markdown",
   "metadata": {},
   "source": [
    "4. Vea si un número es palíndromo o no. Los números palíndromos son aquellos que al leerlos al revés y al derecho son iguales, por ejemplo el 123321 o el 98789."
   ]
  },
  {
   "cell_type": "code",
   "execution_count": null,
   "metadata": {},
   "outputs": [],
   "source": []
  },
  {
   "cell_type": "markdown",
   "metadata": {},
   "source": [
    "5. Dado un texto, conviértalo en estilo Camel Case, vea el siguiente ejemplo:\n",
    "\n",
    "    Texto inicial: “Este es un texto de ejemplo para mostrar el Camel Case”.\n",
    "\n",
    "    Texto final: “EsteEsUnTextoDeEjemploParaMostrarElCamelCase”."
   ]
  },
  {
   "cell_type": "code",
   "execution_count": 54,
   "metadata": {
    "ExecuteTime": {
     "end_time": "2021-03-26T20:06:09.930204Z",
     "start_time": "2021-03-26T20:06:09.922203Z"
    }
   },
   "outputs": [],
   "source": [
    "t = \"Este es un texto de ejemplo para mostrar el Camel Case\""
   ]
  },
  {
   "cell_type": "code",
   "execution_count": 70,
   "metadata": {
    "ExecuteTime": {
     "end_time": "2021-03-26T20:12:06.842205Z",
     "start_time": "2021-03-26T20:12:06.826210Z"
    }
   },
   "outputs": [
    {
     "data": {
      "text/plain": [
       "'EsteEsUnTextoDeEjemploParaMostrarElCamelCase'"
      ]
     },
     "execution_count": 70,
     "metadata": {},
     "output_type": "execute_result"
    }
   ],
   "source": [
    "t.title().replace(' ', '')"
   ]
  },
  {
   "cell_type": "code",
   "execution_count": 67,
   "metadata": {
    "ExecuteTime": {
     "end_time": "2021-03-26T20:11:16.572579Z",
     "start_time": "2021-03-26T20:11:16.221003Z"
    }
   },
   "outputs": [
    {
     "name": "stdout",
     "output_type": "stream",
     "text": [
      "The Zen of Python, by Tim Peters\n",
      "\n",
      "Beautiful is better than ugly.\n",
      "Explicit is better than implicit.\n",
      "Simple is better than complex.\n",
      "Complex is better than complicated.\n",
      "Flat is better than nested.\n",
      "Sparse is better than dense.\n",
      "Readability counts.\n",
      "Special cases aren't special enough to break the rules.\n",
      "Although practicality beats purity.\n",
      "Errors should never pass silently.\n",
      "Unless explicitly silenced.\n",
      "In the face of ambiguity, refuse the temptation to guess.\n",
      "There should be one-- and preferably only one --obvious way to do it.\n",
      "Although that way may not be obvious at first unless you're Dutch.\n",
      "Now is better than never.\n",
      "Although never is often better than *right* now.\n",
      "If the implementation is hard to explain, it's a bad idea.\n",
      "If the implementation is easy to explain, it may be a good idea.\n",
      "Namespaces are one honking great idea -- let's do more of those!\n"
     ]
    }
   ],
   "source": [
    "import this"
   ]
  },
  {
   "cell_type": "code",
   "execution_count": 56,
   "metadata": {
    "ExecuteTime": {
     "end_time": "2021-03-26T20:06:28.874960Z",
     "start_time": "2021-03-26T20:06:28.866961Z"
    }
   },
   "outputs": [
    {
     "data": {
      "text/plain": [
       "['Este',\n",
       " 'es',\n",
       " 'un',\n",
       " 'texto',\n",
       " 'de',\n",
       " 'ejemplo',\n",
       " 'para',\n",
       " 'mostrar',\n",
       " 'el',\n",
       " 'Camel',\n",
       " 'Case']"
      ]
     },
     "execution_count": 56,
     "metadata": {},
     "output_type": "execute_result"
    }
   ],
   "source": [
    "oracion_dividida = t.split(' ')\n",
    "oracion_dividida"
   ]
  },
  {
   "cell_type": "code",
   "execution_count": 58,
   "metadata": {
    "ExecuteTime": {
     "end_time": "2021-03-26T20:07:33.961950Z",
     "start_time": "2021-03-26T20:07:33.948948Z"
    }
   },
   "outputs": [
    {
     "data": {
      "text/plain": [
       "['Este',\n",
       " 'Es',\n",
       " 'Un',\n",
       " 'Texto',\n",
       " 'De',\n",
       " 'Ejemplo',\n",
       " 'Para',\n",
       " 'Mostrar',\n",
       " 'El',\n",
       " 'Camel',\n",
       " 'Case']"
      ]
     },
     "execution_count": 58,
     "metadata": {},
     "output_type": "execute_result"
    }
   ],
   "source": [
    "oracion_dividida_mayusculas = list(map(lambda x: x.title(), oracion_dividida))\n",
    "oracion_dividida_mayusculas"
   ]
  },
  {
   "cell_type": "code",
   "execution_count": 59,
   "metadata": {
    "ExecuteTime": {
     "end_time": "2021-03-26T20:08:32.560016Z",
     "start_time": "2021-03-26T20:08:32.549015Z"
    }
   },
   "outputs": [
    {
     "data": {
      "text/plain": [
       "'EsteEsUnTextoDeEjemploParaMostrarElCamelCase'"
      ]
     },
     "execution_count": 59,
     "metadata": {},
     "output_type": "execute_result"
    }
   ],
   "source": [
    "t_f = ''\n",
    "for palabra in oracion_dividida_mayusculas:\n",
    "    t_f += palabra\n",
    "t_f    "
   ]
  },
  {
   "cell_type": "code",
   "execution_count": 61,
   "metadata": {
    "ExecuteTime": {
     "end_time": "2021-03-26T20:09:36.080515Z",
     "start_time": "2021-03-26T20:09:36.067506Z"
    }
   },
   "outputs": [
    {
     "data": {
      "text/plain": [
       "['Este',\n",
       " 'Es',\n",
       " 'Un',\n",
       " 'Texto',\n",
       " 'De',\n",
       " 'Ejemplo',\n",
       " 'Para',\n",
       " 'Mostrar',\n",
       " 'El',\n",
       " 'Camel',\n",
       " 'Case']"
      ]
     },
     "execution_count": 61,
     "metadata": {},
     "output_type": "execute_result"
    }
   ],
   "source": [
    "oracion_dividida_mayusculas"
   ]
  },
  {
   "cell_type": "markdown",
   "metadata": {
    "ExecuteTime": {
     "end_time": "2021-03-26T20:09:48.063565Z",
     "start_time": "2021-03-26T20:09:48.055565Z"
    }
   },
   "source": [
    "list(reduce(lambda x, y: x+y, oracion_dividida_mayusculas))"
   ]
  },
  {
   "cell_type": "code",
   "execution_count": 63,
   "metadata": {
    "ExecuteTime": {
     "end_time": "2021-03-26T20:10:11.581254Z",
     "start_time": "2021-03-26T20:10:11.573282Z"
    }
   },
   "outputs": [
    {
     "data": {
      "text/plain": [
       "['Este',\n",
       " 'Es',\n",
       " 'Un',\n",
       " 'Texto',\n",
       " 'De',\n",
       " 'Ejemplo',\n",
       " 'Para',\n",
       " 'Mostrar',\n",
       " 'El',\n",
       " 'Camel',\n",
       " 'Case']"
      ]
     },
     "execution_count": 63,
     "metadata": {},
     "output_type": "execute_result"
    }
   ],
   "source": [
    "oracion_dividida_mayusculas"
   ]
  },
  {
   "cell_type": "code",
   "execution_count": 64,
   "metadata": {
    "ExecuteTime": {
     "end_time": "2021-03-26T20:10:21.129643Z",
     "start_time": "2021-03-26T20:10:21.112645Z"
    },
    "scrolled": true
   },
   "outputs": [
    {
     "data": {
      "text/plain": [
       "'EsteEsUnTextoDeEjemploParaMostrarElCamelCase'"
      ]
     },
     "execution_count": 64,
     "metadata": {},
     "output_type": "execute_result"
    }
   ],
   "source": [
    "''.join(oracion_dividida_mayusculas)"
   ]
  },
  {
   "cell_type": "markdown",
   "metadata": {},
   "source": [
    "6. Dado un texto y una letra indique cuantas veces se repite la letra dentro del texto, vea el\n",
    "siguiente ejemplo:\n",
    "\n",
    "Texto inicial: “Este es un texto de ejemplo para contar la cantidad de veces que aparece cierta letra”.\n",
    "\n",
    "    Letra a buscar: e\n",
    "    Respuesta: “La letra e aparece 15 veces.\n",
    "    Observación: Las mayúsculas y minúsculas deben ser contadas."
   ]
  },
  {
   "cell_type": "code",
   "execution_count": null,
   "metadata": {},
   "outputs": [],
   "source": []
  },
  {
   "cell_type": "markdown",
   "metadata": {},
   "source": [
    "## Problemas Varios"
   ]
  },
  {
   "cell_type": "markdown",
   "metadata": {
    "ExecuteTime": {
     "end_time": "2021-03-26T14:14:35.180438Z",
     "start_time": "2021-03-26T14:14:35.175467Z"
    }
   },
   "source": [
    "### P1"
   ]
  },
  {
   "cell_type": "markdown",
   "metadata": {},
   "source": [
    "Un monto inicial de dinero (por ejemplo un millón de pesos) se puede depositar en un banco con un interés anual de 5%. Esto significa  que  cumplido  un  año  se  dispondrá  de  \\\\$1.050.000. Si se deposita por dos años, entonces  al  finalizar  el  2º  año se dispondrá de \\\\$1.102.500,  es  decir,  \\\\$1.050.000  reajustado  en  5%.  \n",
    "\n",
    "Al  respecto, si  se  invoca  a  la  función  `calc_capital_final(1000000, 5, 2)`  entrega  el resultado `1050000.0`. \n",
    "\n",
    "Escriba la función `calc_capital_final`\n",
    "\n",
    "$$C_f = C_i(1+i)^n$$\n",
    "\n",
    "- $C_f$ = Capital Final\n",
    "- $C_i$ = Capital Inicial\n",
    "- $i$ = Tasa de interés\n",
    "- $n$ = Periodo del ahorro\n",
    "\n",
    "Además, incluya tests que certifiquen el correcto funcionamiento de la función"
   ]
  },
  {
   "cell_type": "code",
   "execution_count": 81,
   "metadata": {
    "ExecuteTime": {
     "end_time": "2021-03-26T20:16:50.505813Z",
     "start_time": "2021-03-26T20:16:50.493811Z"
    }
   },
   "outputs": [
    {
     "data": {
      "text/plain": [
       "'😃'"
      ]
     },
     "execution_count": 81,
     "metadata": {},
     "output_type": "execute_result"
    }
   ],
   "source": [
    "años = 2\n",
    "\n",
    "anios = '😃'\n",
    "anios\n"
   ]
  },
  {
   "cell_type": "code",
   "execution_count": 90,
   "metadata": {
    "ExecuteTime": {
     "end_time": "2021-03-26T20:20:21.273258Z",
     "start_time": "2021-03-26T20:20:21.259257Z"
    }
   },
   "outputs": [],
   "source": [
    "def calc_capital_final(capital_inicial, tasa_interes, años):\n",
    "    if años < 0:\n",
    "        raise(Exception('No tiene sentido esto.'))\n",
    "    return capital_inicial * (1 + tasa_interes/100)**años"
   ]
  },
  {
   "cell_type": "code",
   "execution_count": 86,
   "metadata": {
    "ExecuteTime": {
     "end_time": "2021-03-26T20:18:40.935321Z",
     "start_time": "2021-03-26T20:18:40.921325Z"
    }
   },
   "outputs": [
    {
     "data": {
      "text/plain": [
       "1102500.0"
      ]
     },
     "execution_count": 86,
     "metadata": {},
     "output_type": "execute_result"
    }
   ],
   "source": [
    "calc_capital_final(1000000, 5, 2)"
   ]
  },
  {
   "cell_type": "code",
   "execution_count": 91,
   "metadata": {
    "ExecuteTime": {
     "end_time": "2021-03-26T20:20:21.956367Z",
     "start_time": "2021-03-26T20:20:21.938403Z"
    }
   },
   "outputs": [
    {
     "ename": "Exception",
     "evalue": "No tiene sentido esto.",
     "output_type": "error",
     "traceback": [
      "\u001b[1;31m---------------------------------------------------------------------------\u001b[0m",
      "\u001b[1;31mException\u001b[0m                                 Traceback (most recent call last)",
      "\u001b[1;32m<ipython-input-91-effb45f024c8>\u001b[0m in \u001b[0;36m<module>\u001b[1;34m\u001b[0m\n\u001b[0;32m      2\u001b[0m \u001b[1;32massert\u001b[0m \u001b[0mcalc_capital_final\u001b[0m\u001b[1;33m(\u001b[0m\u001b[1;36m1000000\u001b[0m\u001b[1;33m,\u001b[0m \u001b[1;36m5\u001b[0m\u001b[1;33m,\u001b[0m \u001b[1;36m2\u001b[0m\u001b[1;33m)\u001b[0m \u001b[1;33m==\u001b[0m \u001b[1;36m1102500.0\u001b[0m\u001b[1;33m\u001b[0m\u001b[1;33m\u001b[0m\u001b[0m\n\u001b[0;32m      3\u001b[0m \u001b[1;32massert\u001b[0m \u001b[0mcalc_capital_final\u001b[0m\u001b[1;33m(\u001b[0m\u001b[1;36m1000000\u001b[0m\u001b[1;33m,\u001b[0m \u001b[1;36m5\u001b[0m\u001b[1;33m,\u001b[0m \u001b[1;36m0\u001b[0m\u001b[1;33m)\u001b[0m \u001b[1;33m==\u001b[0m \u001b[1;36m1000000\u001b[0m\u001b[1;33m\u001b[0m\u001b[1;33m\u001b[0m\u001b[0m\n\u001b[1;32m----> 4\u001b[1;33m \u001b[1;32massert\u001b[0m \u001b[0mcalc_capital_final\u001b[0m\u001b[1;33m(\u001b[0m\u001b[1;36m1000000\u001b[0m\u001b[1;33m,\u001b[0m \u001b[1;36m5\u001b[0m\u001b[1;33m,\u001b[0m \u001b[1;33m-\u001b[0m\u001b[1;36m1\u001b[0m\u001b[1;33m)\u001b[0m \u001b[1;33m==\u001b[0m \u001b[1;36m1000000\u001b[0m\u001b[1;33m\u001b[0m\u001b[1;33m\u001b[0m\u001b[0m\n\u001b[0m\u001b[0;32m      5\u001b[0m \u001b[1;31m# assert calc_capital_final() == ejemplo_2\u001b[0m\u001b[1;33m\u001b[0m\u001b[1;33m\u001b[0m\u001b[1;33m\u001b[0m\u001b[0m\n",
      "\u001b[1;32m<ipython-input-90-9eb56d292f5f>\u001b[0m in \u001b[0;36mcalc_capital_final\u001b[1;34m(capital_inicial, tasa_interes, años)\u001b[0m\n\u001b[0;32m      1\u001b[0m \u001b[1;32mdef\u001b[0m \u001b[0mcalc_capital_final\u001b[0m\u001b[1;33m(\u001b[0m\u001b[0mcapital_inicial\u001b[0m\u001b[1;33m,\u001b[0m \u001b[0mtasa_interes\u001b[0m\u001b[1;33m,\u001b[0m \u001b[0maños\u001b[0m\u001b[1;33m)\u001b[0m\u001b[1;33m:\u001b[0m\u001b[1;33m\u001b[0m\u001b[1;33m\u001b[0m\u001b[0m\n\u001b[0;32m      2\u001b[0m     \u001b[1;32mif\u001b[0m \u001b[0maños\u001b[0m \u001b[1;33m<\u001b[0m \u001b[1;36m0\u001b[0m\u001b[1;33m:\u001b[0m\u001b[1;33m\u001b[0m\u001b[1;33m\u001b[0m\u001b[0m\n\u001b[1;32m----> 3\u001b[1;33m         \u001b[1;32mraise\u001b[0m\u001b[1;33m(\u001b[0m\u001b[0mException\u001b[0m\u001b[1;33m(\u001b[0m\u001b[1;34m'No tiene sentido esto.'\u001b[0m\u001b[1;33m)\u001b[0m\u001b[1;33m)\u001b[0m\u001b[1;33m\u001b[0m\u001b[1;33m\u001b[0m\u001b[0m\n\u001b[0m\u001b[0;32m      4\u001b[0m     \u001b[1;32mreturn\u001b[0m \u001b[0mcapital_inicial\u001b[0m \u001b[1;33m*\u001b[0m \u001b[1;33m(\u001b[0m\u001b[1;36m1\u001b[0m \u001b[1;33m+\u001b[0m \u001b[0mtasa_interes\u001b[0m\u001b[1;33m/\u001b[0m\u001b[1;36m100\u001b[0m\u001b[1;33m)\u001b[0m\u001b[1;33m**\u001b[0m\u001b[0maños\u001b[0m\u001b[1;33m\u001b[0m\u001b[1;33m\u001b[0m\u001b[0m\n",
      "\u001b[1;31mException\u001b[0m: No tiene sentido esto."
     ]
    }
   ],
   "source": [
    "assert calc_capital_final(1000000, 5, 1) == 1050000.0\n",
    "assert calc_capital_final(1000000, 5, 2) == 1102500.0\n",
    "assert calc_capital_final(1000000, 5, 0) == 1000000\n",
    "assert calc_capital_final(1000000, 5, -1) == 1000000\n",
    "# assert calc_capital_final() == ejemplo_2"
   ]
  },
  {
   "cell_type": "code",
   "execution_count": 94,
   "metadata": {
    "ExecuteTime": {
     "end_time": "2021-03-26T20:22:15.152099Z",
     "start_time": "2021-03-26T20:22:15.134100Z"
    }
   },
   "outputs": [
    {
     "name": "stdout",
     "output_type": "stream",
     "text": [
      "Manejamos la excepción y no se terminó el programa: Código del error No tiene sentido esto.\n"
     ]
    }
   ],
   "source": [
    "try: \n",
    "    calc_capital_final(1000000, 5, -1) == 1000000 \n",
    "except Exception as e:\n",
    "    print(f'Manejamos la excepción y no se terminó el programa: Código del error {e}')"
   ]
  },
  {
   "cell_type": "markdown",
   "metadata": {},
   "source": [
    "### P2: \n",
    "\n",
    "Escriba una función que para $x \\ne 0$, calcule  $\\frac{1}{x_0} + \\frac{1}{x_1} + \\frac{1}{x_2} + \\dots + \\frac{1}{x_n}$."
   ]
  },
  {
   "cell_type": "code",
   "execution_count": 15,
   "metadata": {
    "ExecuteTime": {
     "end_time": "2021-03-26T13:05:50.249844Z",
     "start_time": "2021-03-26T13:05:50.234220Z"
    }
   },
   "outputs": [],
   "source": [
    "def sumatoria(x,n):\n",
    "    pass"
   ]
  },
  {
   "cell_type": "markdown",
   "metadata": {},
   "source": [
    "Use la función anterior en un programa que determine si la suma  $\\frac{1}{x_0} + \\frac{1}{x_1} + \\frac{1}{x_2} + \\dots + \\frac{1}{x_n}$ converge o no. \n",
    "\n",
    "- Se considera que la suma converge si la diferencia entre dos sumas sucesivas resulta menor que $10^{-3}$. \n",
    "- Se considera que no converge si para $n=20$ aún no se alcanza el criterio de convergencia. \n",
    "\n",
    "\n",
    "El programa debe utilizarse para varios valores de x, estableciendo el diálogo indicado en el siguiente ejemplo:"
   ]
  },
  {
   "cell_type": "markdown",
   "metadata": {},
   "source": [
    "### P3\n",
    "\n",
    "Un anagrama es una palabra que resulta de la transposición de letras de otra palabra o frase.\n",
    "\n",
    "Por ejemplo, las palabras “caso” y “caos” sonan agramas de “saco”  y las palabras “acaso” y “ocaso” no son anagramas de “caso”. Las anagramas poseen las mismas letras, con la misma cantidad de apariciones, pero en un orden diferente\n",
    "\n",
    "Escriba la función `def anagrama(x,y)` que reciba dos palabras y entregue `True` si son anagramas y `False` si no."
   ]
  },
  {
   "cell_type": "code",
   "execution_count": 22,
   "metadata": {
    "ExecuteTime": {
     "end_time": "2021-03-26T13:16:43.152133Z",
     "start_time": "2021-03-26T13:16:43.121346Z"
    }
   },
   "outputs": [],
   "source": [
    "def anagrama(x,y):\n",
    "    pass"
   ]
  },
  {
   "cell_type": "markdown",
   "metadata": {},
   "source": [
    "Implementelo ahora con diccionarios."
   ]
  },
  {
   "cell_type": "markdown",
   "metadata": {
    "ExecuteTime": {
     "end_time": "2021-03-26T14:17:46.644225Z",
     "start_time": "2021-03-26T14:17:46.636254Z"
    }
   },
   "source": [
    "### P4\n",
    "\n",
    "Programe el juego gato.\n",
    "Para esto:\n",
    "\n",
    "- Cree una matriz inicial (lista de listas) que contenga el estado actual del gato (al inicio).\n",
    "\n",
    "- Cree la función `es_tachable` la cual reciba un par de coordenadas `(i, j)` y que retorne si la posición ingresada se puede tachar (`True`) o ya se encuentra ocupada (`False`).\n",
    "\n",
    "- Cree una función `tachar` que modifiqua el estado del gato para reflejar la marca de uno de los jugadores. Esta debe recibir una coordenada `(i, j)` y el valor de la posicion `v` (solo `'X'` o `'O'`) y debe variar el estado del gato de tal manera que refleje una jugada.  La función debe retornar `True` si fue capaz de o `False` en caso contrario.\n",
    "\n",
    "- Cree la función `existe_ganador` que verifique si luego de una jugada existe algún ganador. Si existe, retorna `True`. `False` en caso contrario.\n",
    "\n",
    "\n",
    "\n",
    "\n",
    "- Implemente un ciclo while que en cada momento no se detenga hasta que exista un jugador ganador. En este ciclo:\n",
    "    - Informa sobre el estado actual del gato y sobre el jugador que le corresponde marcar una casilla.\n",
    "    - Se debe solicitar al jugador que ingrese la coordenada\n",
    "    - Se debe preguntar si la jugada del jugador actual es válida.\n",
    "    - Se debe actualizar el estado del gato\n",
    "    - Se debe cambiar al siguiente jugador.\n"
   ]
  },
  {
   "cell_type": "code",
   "execution_count": 27,
   "metadata": {
    "ExecuteTime": {
     "end_time": "2021-03-26T14:29:58.264542Z",
     "start_time": "2021-03-26T14:29:58.256543Z"
    }
   },
   "outputs": [],
   "source": [
    "GATO = [['', '', ''], \n",
    "        ['', '', ''], \n",
    "        ['', '', '']]"
   ]
  },
  {
   "cell_type": "code",
   "execution_count": 36,
   "metadata": {
    "ExecuteTime": {
     "end_time": "2021-03-26T14:31:46.042560Z",
     "start_time": "2021-03-26T14:31:46.030554Z"
    }
   },
   "outputs": [],
   "source": [
    "def print_gato(gato):\n",
    "    for l in gato:\n",
    "        print(l)"
   ]
  },
  {
   "cell_type": "code",
   "execution_count": null,
   "metadata": {},
   "outputs": [],
   "source": []
  },
  {
   "cell_type": "code",
   "execution_count": null,
   "metadata": {},
   "outputs": [],
   "source": []
  }
 ],
 "metadata": {
  "kernelspec": {
   "display_name": "Python 3",
   "language": "python",
   "name": "python3"
  },
  "language_info": {
   "codemirror_mode": {
    "name": "ipython",
    "version": 3
   },
   "file_extension": ".py",
   "mimetype": "text/x-python",
   "name": "python",
   "nbconvert_exporter": "python",
   "pygments_lexer": "ipython3",
   "version": "3.8.5"
  },
  "toc": {
   "base_numbering": 1,
   "nav_menu": {},
   "number_sections": true,
   "sideBar": true,
   "skip_h1_title": true,
   "title_cell": "Tabla de Contenidos",
   "title_sidebar": "Contenidos",
   "toc_cell": false,
   "toc_position": {},
   "toc_section_display": true,
   "toc_window_display": false
  },
  "varInspector": {
   "cols": {
    "lenName": 16,
    "lenType": 16,
    "lenVar": 40
   },
   "kernels_config": {
    "python": {
     "delete_cmd_postfix": "",
     "delete_cmd_prefix": "del ",
     "library": "var_list.py",
     "varRefreshCmd": "print(var_dic_list())"
    },
    "r": {
     "delete_cmd_postfix": ") ",
     "delete_cmd_prefix": "rm(",
     "library": "var_list.r",
     "varRefreshCmd": "cat(var_dic_list()) "
    }
   },
   "types_to_exclude": [
    "module",
    "function",
    "builtin_function_or_method",
    "instance",
    "_Feature"
   ],
   "window_display": false
  }
 },
 "nbformat": 4,
 "nbformat_minor": 5
}
