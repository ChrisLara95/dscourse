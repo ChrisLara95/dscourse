{
 "cells": [
  {
   "cell_type": "markdown",
   "id": "recreational-medline",
   "metadata": {},
   "source": [
    "# Lab 0 - Ejercicios en Python\n",
    "\n",
    "**MDS7202: Laboratorio de Programación Científica para Ciencia de Datos**\n",
    "\n",
    "---"
   ]
  },
  {
   "cell_type": "markdown",
   "id": "incoming-extension",
   "metadata": {
    "ExecuteTime": {
     "end_time": "2021-03-26T13:06:09.406152Z",
     "start_time": "2021-03-26T13:06:07.099095Z"
    }
   },
   "source": [
    "## Función input"
   ]
  },
  {
   "cell_type": "code",
   "execution_count": 37,
   "id": "published-bedroom",
   "metadata": {
    "ExecuteTime": {
     "end_time": "2021-03-26T15:15:12.496406Z",
     "start_time": "2021-03-26T15:15:10.865550Z"
    },
    "scrolled": true
   },
   "outputs": [
    {
     "name": "stdout",
     "output_type": "stream",
     "text": [
      "Escribe algo\n",
      "\n"
     ]
    },
    {
     "data": {
      "text/plain": [
       "''"
      ]
     },
     "execution_count": 37,
     "metadata": {},
     "output_type": "execute_result"
    }
   ],
   "source": [
    "a = input('Escribe algo\\n')\n",
    "a"
   ]
  },
  {
   "cell_type": "markdown",
   "id": "physical-dimension",
   "metadata": {},
   "source": [
    "## Problemas con Listas y Strings\n",
    "\n",
    "Por cada uno de estos problemas, elabore una función que los resuelva:"
   ]
  },
  {
   "cell_type": "markdown",
   "id": "christian-schedule",
   "metadata": {},
   "source": [
    "1. Dada una lista de $n$ elementos, no necesariamente ordenada, defina funciones que busquen:\n",
    "- El elemento menor.\n",
    "- El elemento mayor.\n",
    "- El promedio de los elementos en la lista.\n",
    "\n",
    "Ejemplo:\n",
    "```python\n",
    "listaN = [12,4,34,1,2,52,1,54,98,5,235,76,57,87,123,32,32]\n",
    "menor = 1\n",
    "mayor = 235\n",
    "```\n",
    "\n",
    "Además, implemente un par de test que verifiquen la correctitud de las funciones.\n",
    "\n",
    "**Nota**: Idealmente se hacen tests sobre los casos bordes. ¿Qué casos bordes tendríamos aquí?\n"
   ]
  },
  {
   "cell_type": "code",
   "execution_count": null,
   "id": "finished-vietnamese",
   "metadata": {},
   "outputs": [],
   "source": []
  },
  {
   "cell_type": "markdown",
   "id": "separated-paradise",
   "metadata": {},
   "source": [
    "2. Dada una lista de n números, no ordenados, ordene la lista, utilizando iteraciones, de mayor a\n",
    "menor."
   ]
  },
  {
   "cell_type": "code",
   "execution_count": null,
   "id": "whole-purple",
   "metadata": {},
   "outputs": [],
   "source": []
  },
  {
   "cell_type": "markdown",
   "id": "encouraging-shell",
   "metadata": {},
   "source": [
    "3. Obtenga la moda de una lista. Idea: Usar diccionarios."
   ]
  },
  {
   "cell_type": "code",
   "execution_count": null,
   "id": "wound-vietnamese",
   "metadata": {},
   "outputs": [],
   "source": []
  },
  {
   "cell_type": "markdown",
   "id": "legal-sessions",
   "metadata": {},
   "source": [
    "4. Vea si un número es palíndromo o no. Los números palíndromos son aquellos que al leerlos al revés y al derecho son iguales, por ejemplo el 123321 o el 98789."
   ]
  },
  {
   "cell_type": "code",
   "execution_count": null,
   "id": "postal-documentation",
   "metadata": {},
   "outputs": [],
   "source": []
  },
  {
   "cell_type": "markdown",
   "id": "instant-sending",
   "metadata": {},
   "source": [
    "5. Dado un texto, conviértalo en estilo Camel Case, vea el siguiente ejemplo:\n",
    "\n",
    "    Texto inicial: “Este es un texto de ejemplo para mostrar el Camel Case”.\n",
    "\n",
    "    Texto final: “EsteEsUnTextoDeEjemploParaMostrarElCamelCase”."
   ]
  },
  {
   "cell_type": "code",
   "execution_count": null,
   "id": "rational-tennessee",
   "metadata": {},
   "outputs": [],
   "source": []
  },
  {
   "cell_type": "markdown",
   "id": "olympic-crime",
   "metadata": {},
   "source": [
    "6. Dado un texto y una letra indique cuantas veces se repite la letra dentro del texto, vea el\n",
    "siguiente ejemplo:\n",
    "\n",
    "Texto inicial: “Este es un texto de ejemplo para contar la cantidad de veces que aparece cierta letra”.\n",
    "\n",
    "    Letra a buscar: e\n",
    "    Respuesta: “La letra e aparece 15 veces.\n",
    "    Observación: Las mayúsculas y minúsculas deben ser contadas."
   ]
  },
  {
   "cell_type": "code",
   "execution_count": null,
   "id": "clinical-costs",
   "metadata": {},
   "outputs": [],
   "source": []
  },
  {
   "cell_type": "markdown",
   "id": "technological-tomato",
   "metadata": {},
   "source": [
    "## Problemas Varios"
   ]
  },
  {
   "cell_type": "markdown",
   "id": "neutral-mexican",
   "metadata": {
    "ExecuteTime": {
     "end_time": "2021-03-26T14:14:35.180438Z",
     "start_time": "2021-03-26T14:14:35.175467Z"
    }
   },
   "source": [
    "### P1"
   ]
  },
  {
   "cell_type": "markdown",
   "id": "million-printing",
   "metadata": {},
   "source": [
    "Un monto inicial de dinero (por ejemplo un millón de pesos) se puede depositar en un banco con un interés anual de 5%. Esto significa  que  cumplido  un  año  se  dispondrá  de  \\\\$1.050.000. Si se deposita por dos años, entonces  al  finalizar  el  2º  año se dispondrá de \\\\$1.102.500,  es  decir,  \\\\$1.050.000  reajustado  en  5%.  \n",
    "\n",
    "Al  respecto, si  se  invoca  a  la  función  `calc_capital_final(1000000, 5, 2)`  entrega  el resultado `1050000.0`. \n",
    "\n",
    "Escriba la función `calc_capital_final`\n",
    "\n",
    "$$C_f = C_i(1+i)^n$$\n",
    "\n",
    "- $C_f$ = Capital Final\n",
    "- $C_i$ = Capital Inicial\n",
    "- $i$ = Tasa de interés\n",
    "- $n$ = Periodo del ahorro\n",
    "\n",
    "Además, incluya tests que certifiquen el correcto funcionamiento de la función"
   ]
  },
  {
   "cell_type": "code",
   "execution_count": 2,
   "id": "sustained-courage",
   "metadata": {
    "ExecuteTime": {
     "end_time": "2021-03-26T12:55:33.009135Z",
     "start_time": "2021-03-26T12:55:33.004118Z"
    }
   },
   "outputs": [],
   "source": [
    "def calc_capital_final(capital_inicial, tasa_interes, años):\n",
    "    pass"
   ]
  },
  {
   "cell_type": "code",
   "execution_count": 14,
   "id": "tropical-verse",
   "metadata": {
    "ExecuteTime": {
     "end_time": "2021-03-26T13:05:49.230143Z",
     "start_time": "2021-03-26T13:05:49.214495Z"
    }
   },
   "outputs": [],
   "source": [
    "# assert calc_capital_final() == ejemplo_1\n",
    "# assert calc_capital_final() == ejemplo_2"
   ]
  },
  {
   "cell_type": "markdown",
   "id": "retained-colony",
   "metadata": {},
   "source": [
    "### P2: \n",
    "\n",
    "Escriba una función que para $x \\ne 0$, calcule  $\\frac{1}{x_0} + \\frac{1}{x_1} + \\frac{1}{x_2} + \\dots + \\frac{1}{x_n}$."
   ]
  },
  {
   "cell_type": "code",
   "execution_count": 15,
   "id": "signed-excess",
   "metadata": {
    "ExecuteTime": {
     "end_time": "2021-03-26T13:05:50.249844Z",
     "start_time": "2021-03-26T13:05:50.234220Z"
    }
   },
   "outputs": [],
   "source": [
    "def sumatoria(x,n):\n",
    "    pass"
   ]
  },
  {
   "cell_type": "markdown",
   "id": "outdoor-counter",
   "metadata": {},
   "source": [
    "Use la función anterior en un programa que determine si la suma  $\\frac{1}{x_0} + \\frac{1}{x_1} + \\frac{1}{x_2} + \\dots + \\frac{1}{x_n}$ converge o no. \n",
    "\n",
    "- Se considera que la suma converge si la diferencia entre dos sumas sucesivas resulta menor que $10^{-3}$. \n",
    "- Se considera que no converge si para $n=20$ aún no se alcanza el criterio de convergencia. \n",
    "\n",
    "\n",
    "El programa debe utilizarse para varios valores de x, estableciendo el diálogo indicado en el siguiente ejemplo:"
   ]
  },
  {
   "cell_type": "markdown",
   "id": "danish-walter",
   "metadata": {},
   "source": [
    "### P3\n",
    "\n",
    "Un anagrama es una palabra que resulta de la transposición de letras de otra palabra o frase.\n",
    "\n",
    "Por ejemplo, las palabras “caso” y “caos” sonan agramas de “saco”  y las palabras “acaso” y “ocaso” no son anagramas de “caso”. Las anagramas poseen las mismas letras, con la misma cantidad de apariciones, pero en un orden diferente\n",
    "\n",
    "Escriba la función `def anagrama(x,y)` que reciba dos palabras y entregue `True` si son anagramas y `False` si no."
   ]
  },
  {
   "cell_type": "code",
   "execution_count": 22,
   "id": "running-netscape",
   "metadata": {
    "ExecuteTime": {
     "end_time": "2021-03-26T13:16:43.152133Z",
     "start_time": "2021-03-26T13:16:43.121346Z"
    }
   },
   "outputs": [],
   "source": [
    "def anagrama(x,y):\n",
    "    pass"
   ]
  },
  {
   "cell_type": "markdown",
   "id": "alone-writing",
   "metadata": {},
   "source": [
    "Implementelo ahora con diccionarios."
   ]
  },
  {
   "cell_type": "markdown",
   "id": "selective-democracy",
   "metadata": {
    "ExecuteTime": {
     "end_time": "2021-03-26T14:17:46.644225Z",
     "start_time": "2021-03-26T14:17:46.636254Z"
    }
   },
   "source": [
    "### P4\n",
    "\n",
    "Programe el juego gato.\n",
    "Para esto:\n",
    "\n",
    "- Cree una matriz inicial (lista de listas) que contenga el estado actual del gato (al inicio).\n",
    "\n",
    "- Cree la función `es_tachable` la cual reciba un par de coordenadas `(i, j)` y que retorne si la posición ingresada se puede tachar (`True`) o ya se encuentra ocupada (`False`).\n",
    "\n",
    "- Cree una función `tachar` que modifiqua el estado del gato para reflejar la marca de uno de los jugadores. Esta debe recibir una coordenada `(i, j)` y el valor de la posicion `v` (solo `'X'` o `'O'`) y debe variar el estado del gato de tal manera que refleje una jugada.  La función debe retornar `True` si fue capaz de o `False` en caso contrario.\n",
    "\n",
    "- Cree la función `existe_ganador` que verifique si luego de una jugada existe algún ganador. Si existe, retorna `True`. `False` en caso contrario.\n",
    "\n",
    "\n",
    "\n",
    "\n",
    "- Implemente un ciclo while que en cada momento no se detenga hasta que exista un jugador ganador. En este ciclo:\n",
    "    - Informa sobre el estado actual del gato y sobre el jugador que le corresponde marcar una casilla.\n",
    "    - Se debe solicitar al jugador que ingrese la coordenada\n",
    "    - Se debe preguntar si la jugada del jugador actual es válida.\n",
    "    - Se debe actualizar el estado del gato\n",
    "    - Se debe cambiar al siguiente jugador.\n"
   ]
  },
  {
   "cell_type": "code",
   "execution_count": 27,
   "id": "pharmaceutical-prisoner",
   "metadata": {
    "ExecuteTime": {
     "end_time": "2021-03-26T14:29:58.264542Z",
     "start_time": "2021-03-26T14:29:58.256543Z"
    }
   },
   "outputs": [],
   "source": [
    "GATO = [['', '', ''], \n",
    "        ['', '', ''], \n",
    "        ['', '', '']]"
   ]
  },
  {
   "cell_type": "code",
   "execution_count": 36,
   "id": "passing-space",
   "metadata": {
    "ExecuteTime": {
     "end_time": "2021-03-26T14:31:46.042560Z",
     "start_time": "2021-03-26T14:31:46.030554Z"
    }
   },
   "outputs": [],
   "source": [
    "def print_gato(gato):\n",
    "    for l in gato:\n",
    "        print(l)"
   ]
  },
  {
   "cell_type": "code",
   "execution_count": null,
   "id": "indoor-lingerie",
   "metadata": {},
   "outputs": [],
   "source": []
  },
  {
   "cell_type": "code",
   "execution_count": null,
   "id": "independent-noise",
   "metadata": {},
   "outputs": [],
   "source": []
  }
 ],
 "metadata": {
  "kernelspec": {
   "display_name": "Python 3",
   "language": "python",
   "name": "python3"
  },
  "language_info": {
   "codemirror_mode": {
    "name": "ipython",
    "version": 3
   },
   "file_extension": ".py",
   "mimetype": "text/x-python",
   "name": "python",
   "nbconvert_exporter": "python",
   "pygments_lexer": "ipython3",
   "version": "3.9.2"
  },
  "toc": {
   "base_numbering": 1,
   "nav_menu": {},
   "number_sections": true,
   "sideBar": true,
   "skip_h1_title": true,
   "title_cell": "Tabla de Contenidos",
   "title_sidebar": "Contenidos",
   "toc_cell": false,
   "toc_position": {},
   "toc_section_display": true,
   "toc_window_display": false
  },
  "varInspector": {
   "cols": {
    "lenName": 16,
    "lenType": 16,
    "lenVar": 40
   },
   "kernels_config": {
    "python": {
     "delete_cmd_postfix": "",
     "delete_cmd_prefix": "del ",
     "library": "var_list.py",
     "varRefreshCmd": "print(var_dic_list())"
    },
    "r": {
     "delete_cmd_postfix": ") ",
     "delete_cmd_prefix": "rm(",
     "library": "var_list.r",
     "varRefreshCmd": "cat(var_dic_list()) "
    }
   },
   "types_to_exclude": [
    "module",
    "function",
    "builtin_function_or_method",
    "instance",
    "_Feature"
   ],
   "window_display": false
  }
 },
 "nbformat": 4,
 "nbformat_minor": 5
}
