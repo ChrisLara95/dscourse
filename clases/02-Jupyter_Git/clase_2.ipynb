{
 "cells": [
  {
   "cell_type": "markdown",
   "metadata": {},
   "source": [
    "# Clase 2 - Jupyter y Git\n",
    "\n",
    "**MDS7202:  Laboratorio de Programación Científica para Ciencia de Datos**\n",
    "\n",
    "Profesor: Pablo Badilla\n",
    "\n",
    "Basado en la clase 2 de Nicolas Caro.\n",
    "\n",
    "## Objetivos de la clase\n",
    "\n",
    "- Presentar el entorno de programación `Jupyter Notebook` y `Markdown`.\n",
    "- Familiarizarse con el software de control de versiones `Git` y sus metodologías asociadas (Gitflow).\n"
   ]
  },
  {
   "cell_type": "markdown",
   "metadata": {
    "ExecuteTime": {
     "end_time": "2021-03-17T12:01:05.788804Z",
     "start_time": "2021-03-17T12:01:05.773205Z"
    }
   },
   "source": [
    "## Jupyter Notebook y Markdown\n",
    "\n",
    "<img src=\"./resources/jupyterpreview.png\" alt=\"Jupyter Notebooks\" style=\"width: 600px;\"/>\n",
    "\n",
    "\n",
    "\n",
    "\n",
    "**Jupyter Notebook** es una aplicación web de código abierto.\n",
    "\n",
    "Los notebooks permiten la ejecución de celdas con código (en python y en otros lenguajes), como también ir escribiendo informes y narrando historias (como esta) a través de Markdown y latex.\n",
    "\n",
    "Características:\n",
    "\n",
    "- Pueden usar su lenguaje de programación a elección.\n",
    "- Pueden escribir informes (a través de Markdown) y ecuaciones en latex.\n",
    "- Pueden interactuar con el output."
   ]
  },
  {
   "cell_type": "markdown",
   "metadata": {},
   "source": [
    "### Atajos útiles para los Notebooks ⌨️\n",
    "\n",
    "    - Enter para entrar en una celda.\n",
    "    - Arriba/Abajo para navegar entre celdas.\n",
    "    - Control + Enter para ejecutar una celda.\n",
    "    - Escape para salir de la celda.\n",
    "    - A/B para crear celdas arriba/abajo.\n",
    "    - M para transformar una celda a Markdown.\n"
   ]
  },
  {
   "cell_type": "markdown",
   "metadata": {
    "ExecuteTime": {
     "end_time": "2021-03-17T12:12:27.489033Z",
     "start_time": "2021-03-17T12:12:27.458372Z"
    }
   },
   "source": [
    "\n",
    "### Markdown\n",
    "\n",
    "Es un lenguaje de marcado que permite escribir texto dentro de las celdas con distintos formatos.\n",
    "\n",
    "<br>\n",
    "\n",
    "#### Títulos: \n",
    "\n",
    "    # Encabezado h1 \n",
    "    ## Encabezado h2\n",
    "    ### Encabezado h3\n",
    "    #### Encabezado h4\n",
    "    ##### Encabezado h5\n",
    "    ###### Encabezado h6\n",
    "<br>\n",
    "\n",
    "#### Énfasis: \n",
    "\n",
    "    *cursiva* \n",
    "    \n",
    "*markdown*\n",
    "\n",
    "    **negritas** \n",
    "\n",
    "**markdown**\n",
    "\n",
    "<br>\n",
    "\n",
    "#### Separador\n",
    "\n",
    "    ---\n",
    "\n",
    "---\n",
    "\n",
    "<br>\n",
    "\n",
    "#### Listas: \n",
    "\n",
    "    - item 1\n",
    "    - item 2\n",
    "\n",
    "- item 1\n",
    "- item 2\n",
    "\n",
    "<br>\n",
    "\n",
    "#### Listas ordenadas:\n",
    "\n",
    "    1. Hola\n",
    "    2. Qué tal?\n",
    "    \n",
    "1. Hola\n",
    "2. Qué tal?\n",
    "\n",
    "<br>\n",
    "\n",
    "#### Código:\n",
    "\n",
    "En medio de una oración:\n",
    "\n",
    "    `variable_1`\n",
    "    \n",
    "`variable_1`\n",
    "\n",
    "Multilinea:\n",
    "\n",
    "    ```python\n",
    "    a = [1,2,3] \n",
    "    b = [2 * i for i in a]\n",
    "    ```\n",
    "    \n",
    "```python\n",
    "a = [1,2,3] \n",
    "b = [2 * i for i in a]\n",
    "```\n",
    "\n",
    "<br>\n",
    "\n",
    "#### Enlaces:\n",
    "\n",
    "    [Google](https://google.cl \"Ir a google\")\n",
    "\n",
    "\n",
    "[Google](https://google.cl \"Ir a google\")\n",
    "\n",
    "<br>\n",
    "\n",
    "#### Imágenes:\n",
    "\n",
    "    ![Texto alternativo](URL \"Título de la imagen\")\n",
    "\n",
    "\n",
    "![Gato](./resources/gato.jpg \"Gato\")\n",
    "\n",
    "<br>\n",
    "\n",
    "#### Citas:\n",
    "\n",
    "    > Esto es una cita\n",
    "    \n",
    "> Esto es una cita\n",
    "\n",
    "#### Latex: \n",
    "\n",
    "Si en un triángulo rectángulo hay catetos de longitud $a$ y $b$, y la medida de la hipotenusa es $c$, entonces se cumple la siguiente relación: \n",
    "\n",
    "$$a^2 + b^2 = c^2$$\n",
    "\n",
    "\n",
    "Una completa guía de Markdown: https://docs.github.com/es/github/writing-on-github/basic-writing-and-formatting-syntax"
   ]
  },
  {
   "cell_type": "markdown",
   "metadata": {},
   "source": [
    "### ¿Cómo instalarlo?\n",
    "\n",
    "**Anaconda 🐍**:\n",
    "\n",
    "Administrador de librerías y ambientes para python. \n",
    "Incluye una gran cantidad de las librerías que usaremos en el curso.\n",
    "\n",
    "Descargar anaconda:\n",
    "\n",
    "https://www.anaconda.com/products/individual"
   ]
  },
  {
   "cell_type": "markdown",
   "metadata": {},
   "source": [
    "### Otras opciones:\n",
    "\n",
    "**[Colab](https://colab.research.google.com/)** - Notebooks onlines provistos por google. Permiten ejecución de código en CPU y GPU.\n"
   ]
  },
  {
   "cell_type": "markdown",
   "metadata": {},
   "source": [
    "---\n",
    "\n",
    "## Control de Versiones con Git\n",
    "\n",
    "Un **sistema de control de versiones (VCS)** es una herramienta que permite registrar cambios realizados en carpetas y archivos de un proyecto. Con tal registro es posible:\n",
    "\n",
    "- Regresar a un estado anterior para deshacer errores.\n",
    "- Colaborar de manera sincronizada a través de la nube.\n",
    "\n",
    "Al trabajar en equipo, un sistema de control de versiones ayuda a identificar:\n",
    "\n",
    "- Qué cambios fueron hechos.\n",
    "- Quién/nes hicieron los cambios.\n",
    "- Cuándo fueron hechos.\n",
    "- Por qué fueron hechos.\n",
    "\n",
    "\n",
    "**Git** es una herramienta de este tipo y es la que usaremos en el curso. Es software libre y lo pueden encontrar en https://git-scm.com/. \n",
    "\n",
    "<img src=\"./resources/git_logo.png\" alt=\"Git\" style=\"width: 200px;\"/>\n",
    "\n",
    "### Formas de usar git\n",
    "\n",
    "Hay dos formas de utilizar git: \n",
    "\n",
    "1. Desde la consola de comandos (lo que usaremos en este tutorial).\n",
    "2. Desde alguna aplicación con interfaz visual (como [Github desktop](https://desktop.github.com/), [Gitkraken](https://www.gitkraken.com/) o incluso a través de plugins de su editor de código favorito).\n",
    "\n"
   ]
  },
  {
   "cell_type": "markdown",
   "metadata": {
    "ExecuteTime": {
     "end_time": "2021-03-17T12:47:07.420491Z",
     "start_time": "2021-03-17T12:47:07.404863Z"
    }
   },
   "source": [
    "---\n",
    "\n",
    "### Instalación Inicialización\n",
    "\n",
    "La instalación de Git la pueden hacer a través de:\n",
    "\n",
    "- Windows: Instalador que encuentran en la página oficial.\n",
    "- MacOS: \n",
    "\n",
    "```bash\n",
    "brew install git\n",
    "```\n",
    "\n",
    "- Linux (ubuntu): \n",
    "\n",
    "```bash\n",
    "sudo apt-get update\n",
    "sudo apt-get install git\n",
    "```\n",
    "\n",
    "\n",
    "Una vez realizada, es necesario configurar la identidad de quien lo va a utilizar.\n",
    "Esto se hace por medio de:\n",
    "    \n",
    "```https://git-scm.com/\n",
    "$ git config --global user.name \"Nombre-Usuario\"\n",
    "$ git config --global user.email mail@ejemplo.xyz\n",
    "```"
   ]
  },
  {
   "cell_type": "markdown",
   "metadata": {},
   "source": [
    "## Primeros Pasos\n",
    "\n",
    "\n",
    "### Repositorio: \n",
    "\n",
    "El repositorio es un conjunto de carpetas y archivos en el que se almacena el código del proyecto y los registros de cambios. Git administra los registros a través de archivos en una carpeta oculta llamada `.git`.\n",
    "\n",
    "<img src=\"./resources/ejemplo_proyecto.jpg\" alt=\"Ejemplo de repositorio\" style=\"width: 600px;\"/>\n",
    "\n",
    "<center>Un ejemplo de un repositorio típico de un proyecto basado en python (Fuente: https://github.com/fabiommendes/python-boilerplate)</center>\n",
    "\n",
    "\n"
   ]
  },
  {
   "cell_type": "markdown",
   "metadata": {},
   "source": [
    "#### Git es distribuido\n",
    "\n",
    "<img src=\"./resources/git_distributed.png\" alt=\"Git es distribuido\" style=\"width: 400px;\"/>\n",
    "<center>Fuente: https://www.edureka.co/blog/what-is-git/</center>\n",
    "\n",
    "El repositorio central se encuentra en algún servidor (ejemplo: Github, Bitbucket,etc...)\n",
    "\n",
    "Cada programador mantiene una copia del repositorio en su computador local. Veremos las consecuencias de esto más adelante.\n",
    "    "
   ]
  },
  {
   "cell_type": "markdown",
   "metadata": {
    "ExecuteTime": {
     "end_time": "2021-03-17T14:13:48.551335Z",
     "start_time": "2021-03-17T14:13:48.535739Z"
    }
   },
   "source": [
    "\n",
    "\n",
    "### En la práctica    \n",
    "    \n",
    "- Para inicializar un repositorio desde cero, usamos:\n",
    "\n",
    "```bash\n",
    "git init nombre-del-repo\n",
    "```\n",
    "\n",
    "- Para clonar un repositorio (es decir, copiar un repositorio a tu almacenamiento local desde algún servidor github, gitlab, bitbucket u otro servidor de git):\n",
    "\n",
    "```bash\n",
    "git clone /ruta/al/repo.git\n",
    "```\n",
    "\n",
    "\n",
    "- Para inicializar un repositorio en algún servicio.\n",
    "\n",
    "> Visitar la página del servicio."
   ]
  },
  {
   "cell_type": "markdown",
   "metadata": {},
   "source": [
    "### Estado del proyecto\n",
    "\n",
    "\n",
    "La idea general de git es ir guardando *snapshots/capturas* (**commits**) que registran y consolidan los cambios. Esto puede ser visto como un grafo en donde cada nodo es un **commit** o una captura de como se veía el repositorio en ese entonces:\n",
    "\n",
    "<img src=\"./resources/git_basico.png\" alt=\"Git básico\" style=\"width: 400px;\"/>\n",
    "\n",
    "\n",
    "\n",
    "Una operación simple de entender es el comando ```status```. Este permite tener una idea del estado actual del repositorio. Este se ejecuta por medio del comando :\n",
    "\n",
    "```bash\n",
    "git status\n",
    "```\n",
    "\n",
    "#### Git status\n",
    "\n",
    "Al clonar el repositorio, por defecto veremos el último commit.\n",
    "\n",
    "Por ejemplo, para el proyecto [ejemplo_MDS7202](https://github.com/pbadillatorrealba/ejemplo_MDS7202.git) que tiene ya varios archivos:\n",
    "\n",
    "<img src=\"./resources/ejemplo_repo_0.jpg\" alt=\"Ejemplo de un proyecto 2\" style=\"width: 400px;\"/>\n",
    "\n",
    "\n",
    "Al ejecutar `git status`, la consola imprimirá: \n",
    "\n",
    "\n",
    "<img src=\"./resources/git_status_0.jpg\" alt=\"Git status\" style=\"width: 600px;\"/>\n",
    "\n",
    "\n",
    "#### Cambios\n",
    "\n",
    "Supongamos que ahora agregamos los archivos `new_class.py` y `test_new_class.py` (recalcados en verde):\n",
    "\n",
    "\n",
    "<img src=\"./resources/ejemplo_repo_2.jpg\" alt=\"Ejemplo de un proyecto 2\" style=\"width: 400px;\"/>\n",
    "\n",
    "\n",
    "Al ejecutar `git status` nos muestra:\n",
    "\n",
    "\n",
    "<img src=\"./resources/git_status_1.jpg\" alt=\"Git status\" style=\"width: 600px;\"/>\n",
    "\n",
    "\n",
    "Como podrás haber visto, `git status` detectó cambios y los indicó en color rojo."
   ]
  },
  {
   "cell_type": "markdown",
   "metadata": {},
   "source": [
    "\n",
    "## Registro Selectivo\n",
    "\n",
    "Git permite llevar un registro selectivo de los cambios del proyecto.\n",
    "\n",
    "Visto de manera sencilla, se puede decir que existen archivos\n",
    "\n",
    "- *no seguidos* o `untracked`, \n",
    "- seguidos o `tracked` y \n",
    "- consolidados o `commited`. \n",
    "\n",
    "**Archivo consolidado**\n",
    "\n",
    "Un archivo consolidado o `commited`, es aquel que ha sido modificado y ha sido aprobado para formar parte integra del repositorio y del registro de cambios. \n",
    "\n",
    "> 🤔 **Pregunta**: ¿Este archivo ya se encuentra en el repositorio central?\n",
    "\n",
    "**Staging Area**\n",
    "\n",
    "Por otra parte, para comprender la diferencia entre archivos `untracked` y `tracked`, es necesario comprender el concepto de *area de montaje* o **staging area**. La staging area consiste en el conjunto de archivos modificados que aún no han sido aprobados para formar parte del repositorio ni de su registro de cambios. \n",
    "\n",
    "- Para que un archivo pase a ser parte de la staging area, debe estar *marcado* como `tracked`. Esto puede ser realizado a través de:\n",
    "\n",
    "```bash \n",
    "# Caso de un archivo:\n",
    "git add path/to/file.py\n",
    "\n",
    "# Caso de una carpeta:\n",
    "git add path/*\n",
    "\n",
    "# Caso de todos los cambios:\n",
    "git add --all\n",
    "```\n",
    "\n",
    "Si agregamos `src/new_class.py` ahora ejecutamos `git status`, veremos algo como esto:\n",
    "\n",
    "<img src=\"./resources/git_status_2.jpg\" alt=\"Git status\" style=\"width: 600px;\"/>\n",
    "\n",
    "\n",
    "> 🤔 **Pregunta**: ¿Qué pasa si agrego un archivo al staging area y después lo modifico?\n",
    "\n",
    "- Finalmente un archivo del repositorio puede no ser marcado como tracked, por lo que al modificarse, no pasa a ser parte del área de montaje. Este tipo de archivos de denota como **untracked**. \n",
    "\n",
    "\n",
    "\n",
    "\n",
    "**Commit o Cómo Consolidar Archivos**\n",
    "\n",
    "Realizar un commit permite es capturar una instantanea de los archivos **tracked** del repositorio y agregarlos a su registro de cambios. Esto permite consolidar dichos cambios.\n",
    "\n",
    "Para ello utilizo:\n",
    "\n",
    "```bash\n",
    "git commit\n",
    "```\n",
    "\n",
    "Esto abrira un archivo en su editor de texto prederminado donde deberán dejar un mensaje de que cambios hicimos y porque. \n",
    "\n",
    "Si desean dejar una descripción pequeña de los cambios, simplemente podemos agregar el parámetro `-m`\n",
    "\n",
    "```bash\n",
    "git commit -m \"Mi mensaje aquí\"\n",
    "```\n",
    "\n",
    "\n",
    "> 🤔 **Pregunta**: ¿Qué pasa con los archivos `untracked` hago un `commit`?"
   ]
  },
  {
   "cell_type": "markdown",
   "metadata": {},
   "source": [
    "## Comandos útiles\n",
    "\n",
    "### Git diff\n",
    "\n",
    "Una herramienta potente en el sistema Git es el comando ```diff```, este permite obtener una visualización con la cual es posible observar las diferencias entre conjuntos de archivos **en el repositorio**.\n",
    "\n",
    "Por ejemplo, al agregar una linea de código al archivo main.py\n",
    "\n",
    "\n",
    "<img src=\"./resources/main_nueva_linea.py.jpg\" alt=\"Git diff\" style=\"width: 600px;\"/>\n",
    "\n",
    "Ejecutar `git diff` mostrará:\n",
    "\n",
    "<img src=\"./resources/git_diff.jpg\" alt=\"Git diff\" style=\"width: 600px;\"/>\n"
   ]
  },
  {
   "cell_type": "markdown",
   "metadata": {},
   "source": [
    "En este caso, ```a``` y ```b``` indican la primera y segunda versión del archivo mostrado. Las lineas con ```-``` indican lineas borradas, mientras que ```+``` indica lineas agregadas. \n",
    "\n",
    "La sección demarcada con ```@@``` contiene coordenadas ```linea inicio, numero de lineas```. \n"
   ]
  },
  {
   "cell_type": "markdown",
   "metadata": {},
   "source": [
    "### Git log\n",
    "\n",
    "Para observar el rgistro de cambios se utiliza ```git log```, al ejecutar este comando se aprecia la estructura de un commit: este consta de un autor, momento de realización de la modificación y un **hash** identificador del cambio. \n",
    "\n",
    "<img src=\"./resources/git_log.jpg\" alt=\"Git log\" style=\"width: 500px;\"/>\n",
    "\n",
    "Observa que cada commit tiene su propio identificador **hash** (números y letas después de la palabra commit)."
   ]
  },
  {
   "cell_type": "markdown",
   "metadata": {},
   "source": [
    "### Git show\n",
    "\n",
    "Para analizar un commit especifico, se puede utilizar el comando ```git show n-hash``` donde ```n-hash``` son los primeros $n$ caracteres del identificador hash. Git puede reconocer un commit con 4 a 8 caracteres en función del tamaño del repositorio.\n",
    "\n",
    "```bash \n",
    "git show n-hash\n",
    "```\n",
    "\n",
    "Ejemplo al ejecutar `git show 369ad5b7`\n",
    "\n",
    "<img src=\"./resources/git_show.jpg\" alt=\"Git log\" style=\"width: 500px;\"/>\n",
    "\n",
    "\n",
    "Por otro lado,\n",
    "\n",
    "```bash\n",
    "git show HEAD~1\n",
    "```\n",
    "\n",
    "Les mostrará siempre el último commit con los últimos cambios."
   ]
  },
  {
   "cell_type": "markdown",
   "metadata": {},
   "source": [
    "Para comparar dos commits, se puede usar el operador ```..```\n",
    "\n",
    "\n",
    "```bash\n",
    "git diff hash_1..hash_2\n",
    "```"
   ]
  },
  {
   "cell_type": "markdown",
   "metadata": {},
   "source": [
    "### Git Ignore"
   ]
  },
  {
   "cell_type": "markdown",
   "metadata": {},
   "source": [
    "En algunos proyectos, como producción de archivos en LaTex, se generan archivos colaterales como logs y pdfs. Es posible ignorar este tipo de archivos en el repositorio. Para ello se genera un archivo ```.gitignore``` en la carpeta raiz listando archivos y carpetas no deseados en cada linea.\n",
    "\n",
    "<img src=\"./resources/ejemplo_gitignore.jpg\" alt=\"Git log\" style=\"width: 500px;\"/>\n",
    "\n"
   ]
  },
  {
   "cell_type": "markdown",
   "metadata": {},
   "source": [
    "## Deshacer Cambios\n",
    "\n",
    "#### Eliminar del area de montaje\n",
    "\n",
    "¿Qué ocurre si se agrega accidentalmente un archivo al área de montaje? \n",
    "\n",
    "```bash\n",
    "git reset HEAD\n",
    "```\n",
    "\n",
    "Nota: esto eliminará todos los archivos con cambios que hayan sido agregados al area de montaje.\n",
    "\n",
    "#### Deshacer cambios de un archivo:\n",
    "\n",
    "\n",
    "Si por otra parte, un archivo ```folder/file``` ya fue consolidado y se desean revertir los cambios al commit anterior, es posible usar el comando \n",
    "\n",
    "```bash\n",
    "git checkout -- folder/file\n",
    "```\n"
   ]
  },
  {
   "cell_type": "markdown",
   "metadata": {},
   "source": [
    "Al igual que ```diff```, el comando ```checkout``` puede realizar múltiples funciones. Es posible volver a una versión (commit) anterior de cierto archivo utilizando la sintaxis:\n",
    "\n",
    "```bash\n",
    "git checkout commit-hash folder/file\n",
    "```"
   ]
  },
  {
   "cell_type": "markdown",
   "metadata": {
    "ExecuteTime": {
     "end_time": "2021-03-17T16:30:52.265782Z",
     "start_time": "2021-03-17T16:30:52.234355Z"
    }
   },
   "source": [
    "Y si quieres retornar todos los archivos a un commit anterior, puedes usar:\n",
    "    \n",
    "```bash\n",
    "git checkout commit-hash\n",
    "```"
   ]
  },
  {
   "cell_type": "markdown",
   "metadata": {},
   "source": [
    "## Branches y Colaboración\n",
    "\n",
    "\n",
    "### Branches\n",
    "\n",
    "Una rama o **branch** es un mecanismo que nos permite trabajar en un ambiente independiente del código principal.\n",
    "\n",
    "\n",
    "<img src=\"./resources/branch.png\" alt=\"Branch\" style=\"width: 500px;\"/>\n",
    "\n",
    "<center>Fuente: https://www.atlassian.com/es/git/tutorials/using-branches</center>\n",
    "\n",
    "Al crear una branch, se \"replican\" los elementos de la rama desde donde se originó. Todos los commits que hagamos se harán en la branch que creamos. Luego, podemos juntar los cambios a través de un `merge`.\n",
    "\n",
    "\n",
    "> 🤔 **Pregunta**: ¿Qué beneficios nos entrega trabajar con ramas?"
   ]
  },
  {
   "cell_type": "markdown",
   "metadata": {},
   "source": [
    "#### Comandos\n",
    "\n",
    "**Ver las ramas disponibles**\n",
    "\n",
    "\n",
    "```bash\n",
    "git branch\n",
    "```\n",
    "\n",
    "Permite ver las ramas disponibles en el repositorio.\n",
    "\n",
    "**Crear ramas**\n",
    "\n",
    "```bash\n",
    "git branch new-branch\n",
    "``` \n",
    "\n",
    "permite crear una rama con nombre *new-branch*. \n",
    "\n",
    "**Cambiar de ramas**\n",
    "\n",
    "Para cambiar a la nueva rama, hacemos uso de \n",
    "\n",
    "```bash\n",
    "git checkout new-branch\n",
    "```\n",
    "\n",
    "Para cambiar en general a cualquier rama:\n",
    "\n",
    "```bash\n",
    "git checkout <nombre-rama>\n",
    "```\n",
    "\n",
    "Un atajo para crear una nueva rama y acceder inmediatamente es el comando: \n",
    "\n",
    "```bash \n",
    "git checkout -b new-branch\n",
    "```"
   ]
  },
  {
   "cell_type": "markdown",
   "metadata": {},
   "source": [
    "### Merge\n",
    "\n",
    "La gran ventaja de trabajar con ramas viene de unir posteriormente los resultados y registros, esto se denomina **merging**. Para unir dos ramas se utiliza el comando:\n",
    "\n",
    "```bash\n",
    "git merge source_branch destination_branch\n",
    "```\n",
    "\n",
    "<img src=\"./resources/merge.png\" alt=\"Gitflow\" style=\"width: 500px;\"/>\n",
    "\n",
    "<center>Fuente: https://www.atlassian.com/es/git/tutorials/using-branches/git-merge<center/>\n",
    "   \n",
    "    \n",
    "<br>\n",
    "    \n",
    "Usando esta opción, git intentará unir el trabajo de ambas branch de forma automática.    \n",
    "    \n",
    "> 🤔 **Pregunta**: ¿Qué pasa cuando dos personas trabajan en las mismas lineas de código?"
   ]
  },
  {
   "cell_type": "markdown",
   "metadata": {},
   "source": [
    "#### Conflictos 😥\n",
    "\n",
    "Finalmente, es posible que existan colisiones en el trabajo realizado dentro de distintas ramas.\n",
    "Estas ocurren cuando 2 personas trabajan en las mismas lineas de código y luego intentan unir sus cambios. Estas colisiones se denominan **conflictos** .\n",
    "\n",
    "Comunmente uno deberá resolver estos conflictos a mano y luego subir los cambios.\n",
    "\n",
    "En el siguiente ejemplo se muestra que es lo que ocurre cuando git detecta conflicto que no pudo resolver por cuenta propia:"
   ]
  },
  {
   "cell_type": "markdown",
   "metadata": {
    "ExecuteTime": {
     "end_time": "2021-03-17T23:05:45.949593Z",
     "start_time": "2021-03-17T23:05:45.937593Z"
    }
   },
   "source": [
    "<img src=\"./resources/git_conflicto.jpg\" alt=\"Gitflow\" style=\"width: 500px;\"/>\n"
   ]
  },
  {
   "cell_type": "markdown",
   "metadata": {
    "ExecuteTime": {
     "end_time": "2021-03-17T23:08:17.147875Z",
     "start_time": "2021-03-17T23:08:17.136907Z"
    }
   },
   "source": [
    "Al usar un IDE (Entorno de desarrollo integrado) como `vscode`, tenemos cuatro opciones disponibles:\n",
    "    \n",
    "- Conservar los cambios actuales (los que están en la rama que hizo el merge)\n",
    "- Conservar los cambios entrantes (los que vienen en la rama entrante)\n",
    "- Aceptar ambos cambios\n",
    "- Resolver manualmente que conservar y que descartar."
   ]
  },
  {
   "cell_type": "markdown",
   "metadata": {},
   "source": [
    "---\n",
    "\n",
    "## Repositorios Remotos\n",
    "\n",
    "Ya sabemos iniciar repositorios y clonarlos. \n",
    "En el segundo caso, Git registra el repositorio original del cual se obtuvo un clon, tal repositorio original se denota como **remoto**. Tal información se almacena con un nombre y una dirección (local o url). \n",
    "\n",
    "El comando ```git clone ruta``` permite nombrar el repositorio clonado por medio de ```git clone ruta nombre_clon```. \n"
   ]
  },
  {
   "cell_type": "markdown",
   "metadata": {},
   "source": [
    "La ventaja de este sistema de almacenamiento de rutas remotas, es que permite sincronizar el trabajo tanto en una máquina local, como en colaboraciones por medio de internet. \n",
    "\n",
    "#### Pull\n",
    "\n",
    "La comunicación entre repositorios se hace por medio de intrucciones especiales, una de ellas es ```pull```. \n",
    "\n",
    "```git pull``` permite obtener el registro de cambios de un repositorio remoto, e incluso, una rama de tal repositorio. La sintaxis es:\n",
    "\n",
    "```bash\n",
    "git pull repo_remoto rama\n",
    "```\n",
    "\n",
    "Con este comando, se toma toda la información del repositorio ```repo_remoto``` y se une directamente con el repositorio actual (*merging*)."
   ]
  },
  {
   "cell_type": "markdown",
   "metadata": {},
   "source": [
    "#### Push\n",
    "\n",
    "Por otra parte, es posible enviar cambios a un repositorio remoto, esto se hace por medio de ```git push```. La sintaxis es análoga: \n",
    "\n",
    "```bash\n",
    "git push repo_remoto rama\n",
    "```"
   ]
  },
  {
   "cell_type": "markdown",
   "metadata": {},
   "source": [
    "## Flujo de trabajo de Gitflow 🤝\n",
    " \n",
    " "
   ]
  },
  {
   "cell_type": "markdown",
   "metadata": {},
   "source": [
    "Existen varios tipos de flujos de trabajo usando branch. Uno de ellos es Gitflow.\n",
    "\n",
    "<img src=\"./resources/gitflow.png\" alt=\"Gitflow\" style=\"width: 600px;\"/>\n",
    "\n",
    "<center>Fuente: https://www.atlassian.com/git/tutorials/comparing-workflows/gitflow-workflow</center>"
   ]
  },
  {
   "cell_type": "markdown",
   "metadata": {
    "ExecuteTime": {
     "end_time": "2021-03-17T17:08:45.600508Z",
     "start_time": "2021-03-17T17:08:45.584885Z"
    }
   },
   "source": [
    "Si tienen dudas o quieren profundizar aún mas en git, pueden visitar:\n",
    "    \n",
    "[https://www.atlassian.com/es/git/tutorials](https://www.atlassian.com/es/git/tutorials)\n",
    "\n",
    "Tiene exelentes tutoriales en español."
   ]
  }
 ],
 "metadata": {
  "kernelspec": {
   "display_name": "Python 3",
   "language": "python",
   "name": "python3"
  },
  "language_info": {
   "codemirror_mode": {
    "name": "ipython",
    "version": 3
   },
   "file_extension": ".py",
   "mimetype": "text/x-python",
   "name": "python",
   "nbconvert_exporter": "python",
   "pygments_lexer": "ipython3",
   "version": "3.9.2"
  },
  "nbTranslate": {
   "displayLangs": [
    "es",
    "en"
   ],
   "hotkey": "alt-t",
   "langInMainMenu": true,
   "sourceLang": "en",
   "targetLang": "es",
   "useGoogleTranslate": true
  },
  "toc": {
   "base_numbering": 1,
   "nav_menu": {},
   "number_sections": true,
   "sideBar": true,
   "skip_h1_title": false,
   "title_cell": "Table of Contents",
   "title_sidebar": "Contents",
   "toc_cell": false,
   "toc_position": {},
   "toc_section_display": true,
   "toc_window_display": false
  },
  "varInspector": {
   "cols": {
    "lenName": 16,
    "lenType": 16,
    "lenVar": 40
   },
   "kernels_config": {
    "python": {
     "delete_cmd_postfix": "",
     "delete_cmd_prefix": "del ",
     "library": "var_list.py",
     "varRefreshCmd": "print(var_dic_list())"
    },
    "r": {
     "delete_cmd_postfix": ") ",
     "delete_cmd_prefix": "rm(",
     "library": "var_list.r",
     "varRefreshCmd": "cat(var_dic_list()) "
    }
   },
   "types_to_exclude": [
    "module",
    "function",
    "builtin_function_or_method",
    "instance",
    "_Feature"
   ],
   "window_display": false
  }
 },
 "nbformat": 4,
 "nbformat_minor": 4
}
