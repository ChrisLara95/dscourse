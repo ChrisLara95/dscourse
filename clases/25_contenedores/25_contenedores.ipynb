{
 "cells": [
  {
   "cell_type": "markdown",
   "id": "00a1809f-0c29-4540-ab4f-14d74977f5c5",
   "metadata": {},
   "source": [
    "# Clase 25: Contenedores y Otros"
   ]
  },
  {
   "cell_type": "markdown",
   "id": "225d9878-73a0-4e79-a183-987e653b8253",
   "metadata": {},
   "source": [
    "## Servidores\n",
    "\n",
    "Los servidores son aplicaciones que son capaces de responder solicitudes de un cliente. Comunmente un servidor **ofrece un servicio** a través de una `Application Programming Interface` o `API`. Las API son simplemente un conjunto de funciones que nos permiten interactuar con un servicio.\n",
    "\n",
    "Según lo que comentamos anteriormente, operan bajo la arquitectura de \"cliente-servidor\".\n",
    "\n",
    "\n",
    "<div align='center'/>\n",
    "<img src='./resources/cliente_servidor.png' width=400/>\n",
    "</div>\n",
    "\n",
    "La clase pasada:\n",
    "\n",
    "1. Creamos un pipeline en `scikit-learn` que permite predecir ejemplos del famoso dataset iris.\n",
    "2. Usamos el framework `FastAPI` para crear un servidor que a través de cierta API, permita llamar al clasificador a través del navegador.\n",
    "\n",
    "<div align='center'/>\n",
    "<img src='./resources/iris.png' width=400/>\n",
    "</div>\n",
    "\n",
    "---"
   ]
  },
  {
   "cell_type": "markdown",
   "id": "e2b0c0bb-c36f-4902-940c-ac27fb42036e",
   "metadata": {},
   "source": [
    "## Depurador o Debugger\n",
    "\n",
    "Son programas destinados a insepccionar y resolver errores en otros programas.\n",
    "Su característica fundamental es permitir detener el código en alguna linea específica mientras este se está ejecutando.\n",
    "\n",
    "\n",
    "Para ejemplificar esto, usaremos el servidor descrito antes en vscode a través del debugger.\n",
    "Aquí: \n",
    "1. Definiremos un archivo de configuración para el debugger.\n",
    "2. Ejecutaremos una llamada con algunos datos y veremos las variables que están definidas al ejecutar cierta linea de código.\n",
    "\n"
   ]
  },
  {
   "cell_type": "markdown",
   "id": "222be7cd-87ba-4743-8b6f-8356bd22de5f",
   "metadata": {},
   "source": [
    "---\n",
    "\n",
    "## Contenedores de Aplicaciones\n",
    "\n",
    "> Primero, pensemos que es un contenedor:\n",
    "\n",
    "<div align='center'/>\n",
    "<img src='./resources/contenedores.jpg' width=400/>\n",
    "</div>"
   ]
  },
  {
   "cell_type": "markdown",
   "id": "e973283c-2ade-469b-9f7b-982317637ba7",
   "metadata": {},
   "source": [
    "Un **contenedor de aplicación** permite **aislar** la aplicación y sus dependencias de el sistema operativo en donde este se ejecuta.\n",
    "Dentro de las cosas que aisla (el entorno de desarrollo) podemos nombrar:\n",
    "\n",
    "- Librerías.\n",
    "- Entorno de ejecución (Sistema operativo, interpretes o compiladores, etc...).\n",
    "- Configuración del entorno.\n",
    "- El mismo código de la aplicación.\n",
    "- etc...\n",
    "\n",
    "> **Pregunta**: ¿Qué ventaja puede implicar el aislamiento de estas variables?"
   ]
  },
  {
   "cell_type": "markdown",
   "id": "0382c04e-b126-41f7-addc-dd7b60027712",
   "metadata": {},
   "source": [
    "Una de las grandes ventajas de usar contenedores es que al aislar todas estas variables, se facilita el intercambio del código entre los desarrolladores al garantizar que todos tengan el mismo entorno en el cual se está desarrollando."
   ]
  },
  {
   "cell_type": "markdown",
   "id": "547e132f-2d89-42bf-b685-cae7b51f7c63",
   "metadata": {},
   "source": [
    "### `Docker`\n",
    "\n",
    "<div align='center'/>\n",
    "<img src='./resources/docker.png' width=400/>\n",
    "</div>\n",
    "\n",
    "[`Docker`](https://www.docker.com/) es la tecnología (por defecto) para crear, diseñar y gestionar contenedores.\n",
    "Esta basado en **imágenes**. Una imagen es simplemente una instantanea de un contenedor, es decir, algo que almacena todos los puntos que vimos anteriormente.\n"
   ]
  },
  {
   "cell_type": "markdown",
   "id": "fdfb9781-6d66-4acd-bfc5-482eef24d725",
   "metadata": {},
   "source": [
    "\n",
    "### Virtualización vs Contenedores\n",
    "\n",
    "La virtualización es un conjunto de técnicas para simular la existencia de un recurso tecnológico (como un sistema operativo) sobre otro.\n",
    "\n",
    "Para aislar aplicaciones, el enfoque antiguo era virtualizar pequeños sistemas operativos montados sobre el sistema operativo principal. Esto obviamente no es muy eficiente: ocupa una gran cantidad de RAM y CPU y en la práctica, no era cómodo para trabajar.\n",
    "\n",
    "En cambio, el enfoque moderno de `Docker` es crear ambientes aislados en Linux.\n",
    "\n",
    "<div align='center'/>\n",
    "<img src='./resources/virtualizacion_vs_contenedores.png' width=800/>\n",
    "</div>\n",
    "\n",
    "La idea de un contenedor es que se aislen los procesos a través `namespaces` que limita los archivos, recursos de red, etc... que los procesos del contenedor pueden usar y de `CGroups` que limita los recursos físicos (CPU, red, RAM, etc...) que el contenedor puede ocupar.\n",
    "\n",
    "Nota: En Windows, primero monta un nucleo Linux a través `Windows Subsystem for Linux` (`WSL`) antes de trabajar.\n",
    "\n",
    "\n"
   ]
  },
  {
   "cell_type": "markdown",
   "id": "35f91604-3d05-4735-8286-07e994094d59",
   "metadata": {},
   "source": [
    "A continuación veremos 2 ejemplos: \n",
    "    \n",
    "1. Usaremos una imagen que nos entrega rápidamente muchas herramientas simples de data science.\n",
    "2. Crearemos una imagen para nuestro servidor predictor de iris.\n"
   ]
  },
  {
   "cell_type": "markdown",
   "id": "37450e6c-d5f3-4eab-909f-4e49f9500823",
   "metadata": {},
   "source": [
    "### scipy-notebook\n",
    "\n",
    "\n",
    "\n",
    "\n",
    "Ejemplo: https://jupyter-docker-stacks.readthedocs.io/en/latest/using/selecting.html#core-stacks\n",
    "\n",
    "\n",
    "https://hub.docker.com/r/jupyter/scipy-notebook\n",
    "\n",
    "```bash\n",
    "docker pull jupyter/scipy-notebook\n",
    "```"
   ]
  }
 ],
 "metadata": {
  "kernelspec": {
   "display_name": "Python 3",
   "language": "python",
   "name": "python3"
  },
  "language_info": {
   "codemirror_mode": {
    "name": "ipython",
    "version": 3
   },
   "file_extension": ".py",
   "mimetype": "text/x-python",
   "name": "python",
   "nbconvert_exporter": "python",
   "pygments_lexer": "ipython3",
   "version": "3.8.10"
  }
 },
 "nbformat": 4,
 "nbformat_minor": 5
}
