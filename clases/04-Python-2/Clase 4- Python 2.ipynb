{
 "cells": [
  {
   "cell_type": "markdown",
   "metadata": {},
   "source": [
    "#  Clase 4: Funciones, Excepciones y Más.\n",
    "\n",
    "**MDS7202: Laboratorio de Programación Científica para Ciencia de Datos**\n",
    "\n",
    "**Profesor: Pablo Badilla**\n",
    "\n",
    "Basadas en las clases de Nicolás Caro\n",
    "\n",
    "\n",
    "## Objetivos de la Clase:\n",
    "\n",
    "Entender como se implementan en Python:\n",
    "\n",
    "- Sintaxis de Funciones en Python\n",
    "- Scopes\n",
    "- Testing\n",
    "- Funciones lambda\n",
    "- Referencias y Mutabilidad\n",
    "- Manejo de Excepciones\n",
    "- Decoradores\n"
   ]
  },
  {
   "cell_type": "markdown",
   "metadata": {},
   "source": [
    "\n",
    "## Brevísimo Repaso de la Clase Anterior"
   ]
  },
  {
   "cell_type": "markdown",
   "metadata": {
    "ExecuteTime": {
     "end_time": "2021-03-24T12:37:32.164723Z",
     "start_time": "2021-03-24T12:37:32.152721Z"
    }
   },
   "source": [
    "**Asignación de variables y tipos de datos básicos.**"
   ]
  },
  {
   "cell_type": "code",
   "execution_count": 1,
   "metadata": {
    "ExecuteTime": {
     "end_time": "2021-03-24T19:20:51.069058Z",
     "start_time": "2021-03-24T19:20:51.054059Z"
    }
   },
   "outputs": [
    {
     "name": "stdout",
     "output_type": "stream",
     "text": [
      "Empanada de queso - Ingredientes: Harina sin polvos de hornear 500 gr.\n",
      "['Empanada de queso ', ' Ingredientes: Harina sin polvos de hornear 500 gr.']\n"
     ]
    }
   ],
   "source": [
    "texto = \"Empanada de queso - Ingredientes: Harina sin polvos de hornear 500 gr.\"\n",
    "numero = 235\n",
    "numero_decimal = 100.234\n",
    "\n",
    "print(texto)\n",
    "print(texto.split('-')) "
   ]
  },
  {
   "cell_type": "code",
   "execution_count": 2,
   "metadata": {
    "ExecuteTime": {
     "end_time": "2021-03-24T19:21:46.816594Z",
     "start_time": "2021-03-24T19:21:46.797584Z"
    },
    "scrolled": true
   },
   "outputs": [
    {
     "name": "stdout",
     "output_type": "stream",
     "text": [
      "Puedo formatear un string anteponiendo una \"f\" al string usando los {variable} con una variable dentro de estos\n",
      "Ejemplo:\n",
      "\tEl valor del número en la variable \"numero\" es: 235\n"
     ]
    }
   ],
   "source": [
    "print('Puedo formatear un string anteponiendo una \"f\" al string usando los {variable} con una variable dentro de estos')\n",
    "print(f'Ejemplo:\\n\\tEl valor del número en la variable \"numero\" es: {numero}')\n",
    "\n",
    "# \\n en un string nos permite hacer saltos de linea.\n",
    "# \\t en un string nos permite hacer tabs."
   ]
  },
  {
   "cell_type": "markdown",
   "metadata": {
    "ExecuteTime": {
     "end_time": "2021-03-24T12:42:35.095287Z",
     "start_time": "2021-03-24T12:42:35.079288Z"
    }
   },
   "source": [
    "**Operaciones entre números**"
   ]
  },
  {
   "cell_type": "code",
   "execution_count": 3,
   "metadata": {
    "ExecuteTime": {
     "end_time": "2021-03-24T19:22:04.805743Z",
     "start_time": "2021-03-24T19:22:04.787776Z"
    }
   },
   "outputs": [
    {
     "name": "stdout",
     "output_type": "stream",
     "text": [
      "numero * 2 = 470 (numero multiplicado por 2)\n",
      "numero ** 2 = 55225 (numero elevado a 2)\n",
      "numero / 2 = 117.5 (numero divido en 2)\n",
      "numero // 2 117 (parte entera de la división del número por 2\n",
      "numero % 2: 1 (módulo del número dividido en 2 )\n"
     ]
    }
   ],
   "source": [
    "print(f\"numero * 2 = {numero * 2} (numero multiplicado por 2)\")\n",
    "print(f\"numero ** 2 = {numero ** 2} (numero elevado a 2)\")\n",
    "print(f\"numero / 2 = {numero / 2} (numero divido en 2)\")\n",
    "print(f\"numero // 2 {numero // 2} (parte entera de la división del número por 2\")\n",
    "print(f\"numero % 2: {numero % 2} (módulo del número dividido en 2 )\")"
   ]
  },
  {
   "cell_type": "markdown",
   "metadata": {},
   "source": [
    "**Listas**"
   ]
  },
  {
   "cell_type": "code",
   "execution_count": 5,
   "metadata": {
    "ExecuteTime": {
     "end_time": "2021-03-24T19:26:00.450958Z",
     "start_time": "2021-03-24T19:26:00.439960Z"
    }
   },
   "outputs": [
    {
     "name": "stdout",
     "output_type": "stream",
     "text": [
      "lista: [0, 10, 20, 30, 40]\n",
      "Accedo al elemento en el índice 0 de la lista: 0\n",
      "Accedo al elemento último elemento de la lista: 40\n",
      "Asigno -10 a la posición en el índice \"1\" de la lista: [0, -10, 20, 30, 40]\n"
     ]
    }
   ],
   "source": [
    "# Lista: estructura mutable que permite almacenar datos. \n",
    "# Los datos almacenados en la lista están indexados desde el 0.\n",
    "lista =   [0, 10, 20, 30, 40]\n",
    "indices = [0, 1,  2,  3,  4]\n",
    "print(f'lista: {lista}')\n",
    "\n",
    "\n",
    "elemento_0 = lista[0]\n",
    "print(f'Accedo al elemento en el índice 0 de la lista: {elemento_0}')\n",
    "\n",
    "ultimo_elemento = lista[-1]\n",
    "print(f'Accedo al elemento último elemento de la lista: {ultimo_elemento}')\n",
    "\n",
    "lista[1] = -10\n",
    "print(f'Asigno -10 a la posición en el índice \"1\" de la lista: {lista}')\n"
   ]
  },
  {
   "cell_type": "code",
   "execution_count": 6,
   "metadata": {
    "ExecuteTime": {
     "end_time": "2021-03-24T19:26:02.718055Z",
     "start_time": "2021-03-24T19:26:02.700055Z"
    }
   },
   "outputs": [
    {
     "name": "stdout",
     "output_type": "stream",
     "text": [
      "Slice de la lista en [2,3]: [20, 30]\n"
     ]
    }
   ],
   "source": [
    "#Puedo seleccionar la sublista de una lista (slice) haciendo lista[inicio:fin]\n",
    "\n",
    "print(f'Slice de la lista en [2,3]: {lista[2:4]}')"
   ]
  },
  {
   "cell_type": "code",
   "execution_count": 7,
   "metadata": {
    "ExecuteTime": {
     "end_time": "2021-03-24T19:26:23.884536Z",
     "start_time": "2021-03-24T19:26:23.863535Z"
    }
   },
   "outputs": [
    {
     "name": "stdout",
     "output_type": "stream",
     "text": [
      "lista después del append: [0, 10, 20, 30, 40, 50]\n",
      "lista después del pop: [10, 20, 30, 40, 50]\n",
      "lista.index(50) = 4\n"
     ]
    }
   ],
   "source": [
    "lista = [0, 10, 20, 30, 40]\n",
    "\n",
    "# agrego el elemento al final de la lista\n",
    "lista.append(50) \n",
    "print(f'lista después del append: {lista}')\n",
    "\n",
    "# Elimino el elemento en el índice 0 de la lista. El ínidice que elimino es parámetro de la función.\n",
    "lista.pop(0) \n",
    "print(f'lista después del pop: {lista}')\n",
    "\n",
    "# Indice en donde encontré el primer 50 (de izquierda a derecha)\n",
    "print(f'lista.index(50) = {lista.index(50)}')"
   ]
  },
  {
   "cell_type": "code",
   "execution_count": 8,
   "metadata": {
    "ExecuteTime": {
     "end_time": "2021-03-24T19:27:37.356961Z",
     "start_time": "2021-03-24T19:27:37.350959Z"
    }
   },
   "outputs": [
    {
     "name": "stdout",
     "output_type": "stream",
     "text": [
      "[100, 400, 900, 1600, 2500]\n"
     ]
    }
   ],
   "source": [
    "# Puedo iterar sobre la lista y hacer determinadas operaciones:\n",
    "    \n",
    "lista_al_cuadrado = []\n",
    "for numero in lista:\n",
    "    lista_al_cuadrado.append(numero ** 2)\n",
    "    \n",
    "print(lista_al_cuadrado)"
   ]
  },
  {
   "cell_type": "code",
   "execution_count": 9,
   "metadata": {
    "ExecuteTime": {
     "end_time": "2021-03-24T19:28:09.374164Z",
     "start_time": "2021-03-24T19:28:09.366167Z"
    }
   },
   "outputs": [
    {
     "name": "stdout",
     "output_type": "stream",
     "text": [
      "[100, 400, 900, 1600, 2500]\n"
     ]
    }
   ],
   "source": [
    "# Usando List Comprehension\n",
    "lista_al_cuadrado_2 = [numero ** 2 for numero in lista]\n",
    "print(lista_al_cuadrado_2)"
   ]
  },
  {
   "cell_type": "markdown",
   "metadata": {},
   "source": [
    "**Tuplas**"
   ]
  },
  {
   "cell_type": "code",
   "execution_count": 12,
   "metadata": {
    "ExecuteTime": {
     "end_time": "2021-03-24T19:28:28.945583Z",
     "start_time": "2021-03-24T19:28:28.930585Z"
    }
   },
   "outputs": [
    {
     "data": {
      "text/plain": [
       "2"
      ]
     },
     "execution_count": 12,
     "metadata": {},
     "output_type": "execute_result"
    }
   ],
   "source": [
    "# Coleccion inmutable\n",
    "\n",
    "t = (1,2,3,4)\n",
    "t[1]"
   ]
  },
  {
   "cell_type": "markdown",
   "metadata": {},
   "source": [
    "**Condicionales**"
   ]
  },
  {
   "cell_type": "code",
   "execution_count": 15,
   "metadata": {
    "ExecuteTime": {
     "end_time": "2021-03-24T19:29:37.344549Z",
     "start_time": "2021-03-24T19:29:37.336549Z"
    }
   },
   "outputs": [
    {
     "name": "stdout",
     "output_type": "stream",
     "text": [
      "🐄\n"
     ]
    }
   ],
   "source": [
    "animal = 'pez'\n",
    "\n",
    "if animal == 'perro':\n",
    "    print('🐶')\n",
    "elif animal == 'gato':\n",
    "    print('😺')\n",
    "else:\n",
    "    print('🐄')"
   ]
  },
  {
   "cell_type": "markdown",
   "metadata": {},
   "source": [
    "**Diccionarios**\n",
    "\n",
    "Estructura que nos permite almacenar información en forma de llave-valor.\n"
   ]
  },
  {
   "cell_type": "code",
   "execution_count": 16,
   "metadata": {
    "ExecuteTime": {
     "end_time": "2021-03-24T19:30:33.497808Z",
     "start_time": "2021-03-24T19:30:33.483792Z"
    }
   },
   "outputs": [
    {
     "name": "stdout",
     "output_type": "stream",
     "text": [
      "Llaves: dict_keys(['clase', 'patas', 'ojos', 'comunicación', 'meme'])\n",
      "\n",
      "Valores: dict_values(['mamífero', 4, 2, ['maullido', 'ronroneo'], True])\n",
      "\n",
      "Items: dict_items([('clase', 'mamífero'), ('patas', 4), ('ojos', 2), ('comunicación', ['maullido', 'ronroneo']), ('meme', True)])\n",
      "\n"
     ]
    }
   ],
   "source": [
    "gato = {\n",
    "    'clase': 'mamífero',\n",
    "    'patas': 4,\n",
    "    'ojos': 2,\n",
    "    'comunicación': ['maullido', 'ronroneo'],\n",
    "    'meme': True,\n",
    "}\n",
    "print(f'Llaves: {gato.keys()}\\n')\n",
    "print(f'Valores: {gato.values()}\\n')\n",
    "print(f'Items: {gato.items()}\\n')\n"
   ]
  },
  {
   "cell_type": "markdown",
   "metadata": {},
   "source": [
    "## Programación de Funciones en Python\n",
    "\n",
    "\n",
    "Una función es un segmento de código separado del código principal, la cual puede ser invocada desde cualquier otro punto del programa (incluyendo de si misma).\n",
    "\n",
    "### Sintaxis\n",
    "\n",
    "- En Python, una función se define por medio de la keyword ```def``` seguido por el nombre y los parámetros que recibirá de entrada la función. (i.e., `def funcion(parametro_1, ...)`)\n",
    "\n",
    "- Asociada a está orden se encuentra la orden ```return```. Esta permite que valores definidos dentro de la función puedan ser retornadas hacia el exterior.  Una función definida sin la orden ```return``` entrega como resultado el tipo de datos ```None```.\n",
    "\n",
    "- Para invocar una función (*ejecutarla*), se utiliza el nombre de la función junto a dos paréntesis que encierran los argumentos (i.e., `nombre_funcion(argumento_1, ...)` .\n",
    "\n",
    "Ya hemos estudiado funciones básicas de Python, como lo son ```print()```.\n",
    "\n",
    "**Nota**: Parametro es el nombre de la variable dentro de la función. Argumento es el valor que le pasamos a el parámetro al momento de invocar la función. Se pueden usar indistintivamente.\n",
    "\n",
    "**Ejemplo**:\n",
    "\n",
    "La función ```sumar(a, b)``` que suma dos número esta definida por:"
   ]
  },
  {
   "cell_type": "code",
   "execution_count": 17,
   "metadata": {
    "ExecuteTime": {
     "end_time": "2021-03-24T19:33:00.449286Z",
     "start_time": "2021-03-24T19:33:00.434278Z"
    }
   },
   "outputs": [],
   "source": [
    "def sumar(a, b):\n",
    "    # asigno una nueva variable con la suma de a y b\n",
    "    c = a + b\n",
    "    print(f'a : {a} | b : {b} | c : {c}')\n",
    "    # retorno la variable para que su valor pueda ser utilizado fuera de la función.\n",
    "    return c"
   ]
  },
  {
   "cell_type": "markdown",
   "metadata": {},
   "source": [
    "Para invocar la función (ejecutarla), hacemos uso de la sintáxis `nombre_funcion(arg_1, arg_2)`"
   ]
  },
  {
   "cell_type": "code",
   "execution_count": 18,
   "metadata": {
    "ExecuteTime": {
     "end_time": "2021-03-24T19:33:30.473840Z",
     "start_time": "2021-03-24T19:33:30.452812Z"
    }
   },
   "outputs": [
    {
     "name": "stdout",
     "output_type": "stream",
     "text": [
      "a : 10 | b : 20 | c : 30\n"
     ]
    },
    {
     "data": {
      "text/plain": [
       "30"
      ]
     },
     "execution_count": 18,
     "metadata": {},
     "output_type": "execute_result"
    }
   ],
   "source": [
    "sumar(10, 20)"
   ]
  },
  {
   "cell_type": "code",
   "execution_count": 19,
   "metadata": {
    "ExecuteTime": {
     "end_time": "2021-03-24T19:33:46.931701Z",
     "start_time": "2021-03-24T19:33:46.912703Z"
    },
    "scrolled": true
   },
   "outputs": [
    {
     "name": "stdout",
     "output_type": "stream",
     "text": [
      "a : 10 | b : 20 | c : 30\n"
     ]
    },
    {
     "data": {
      "text/plain": [
       "30"
      ]
     },
     "execution_count": 19,
     "metadata": {},
     "output_type": "execute_result"
    }
   ],
   "source": [
    "resultado = sumar(10, 20)\n",
    "resultado"
   ]
  },
  {
   "cell_type": "markdown",
   "metadata": {},
   "source": [
    "> **Pregunta:** ¿Qué sucede con la variable `c` definida dentro de la función?"
   ]
  },
  {
   "cell_type": "code",
   "execution_count": 20,
   "metadata": {
    "ExecuteTime": {
     "end_time": "2021-03-24T19:35:09.838952Z",
     "start_time": "2021-03-24T19:35:09.828938Z"
    }
   },
   "outputs": [
    {
     "ename": "NameError",
     "evalue": "name 'c' is not defined",
     "output_type": "error",
     "traceback": [
      "\u001b[1;31m---------------------------------------------------------------------------\u001b[0m",
      "\u001b[1;31mNameError\u001b[0m                                 Traceback (most recent call last)",
      "\u001b[1;32m<ipython-input-20-1dd5973cae19>\u001b[0m in \u001b[0;36m<module>\u001b[1;34m\u001b[0m\n\u001b[1;32m----> 1\u001b[1;33m \u001b[0mprint\u001b[0m\u001b[1;33m(\u001b[0m\u001b[0mc\u001b[0m\u001b[1;33m)\u001b[0m\u001b[1;33m\u001b[0m\u001b[1;33m\u001b[0m\u001b[0m\n\u001b[0m",
      "\u001b[1;31mNameError\u001b[0m: name 'c' is not defined"
     ]
    }
   ],
   "source": [
    "print(c)"
   ]
  },
  {
   "cell_type": "markdown",
   "metadata": {},
   "source": [
    "Las funciones de python tambíen aceptan parámetros nombrados. Es decir, al invocar la función indicarle especificamente el valor de cada parámetro por su nombre."
   ]
  },
  {
   "cell_type": "code",
   "execution_count": 21,
   "metadata": {
    "ExecuteTime": {
     "end_time": "2021-03-24T19:36:06.139377Z",
     "start_time": "2021-03-24T19:36:06.120379Z"
    }
   },
   "outputs": [
    {
     "name": "stdout",
     "output_type": "stream",
     "text": [
      "a : 10 | b : 20 | c : 30\n"
     ]
    },
    {
     "data": {
      "text/plain": [
       "30"
      ]
     },
     "execution_count": 21,
     "metadata": {},
     "output_type": "execute_result"
    }
   ],
   "source": [
    "sumar(a=10, b=20)"
   ]
  },
  {
   "cell_type": "code",
   "execution_count": 22,
   "metadata": {
    "ExecuteTime": {
     "end_time": "2021-03-24T19:36:19.661112Z",
     "start_time": "2021-03-24T19:36:19.643112Z"
    }
   },
   "outputs": [
    {
     "name": "stdout",
     "output_type": "stream",
     "text": [
      "a : 20 | b : 10 | c : 30\n"
     ]
    },
    {
     "data": {
      "text/plain": [
       "30"
      ]
     },
     "execution_count": 22,
     "metadata": {},
     "output_type": "execute_result"
    }
   ],
   "source": [
    "sumar(b=10, a=20)"
   ]
  },
  {
   "cell_type": "markdown",
   "metadata": {},
   "source": [
    "> **Pregunta**: ¿Puede tener 0 parámetros una función?¿Y pueden tener n?"
   ]
  },
  {
   "cell_type": "code",
   "execution_count": 23,
   "metadata": {
    "ExecuteTime": {
     "end_time": "2021-03-24T19:37:26.217558Z",
     "start_time": "2021-03-24T19:37:26.198563Z"
    }
   },
   "outputs": [
    {
     "name": "stdout",
     "output_type": "stream",
     "text": [
      "Hola!😊\n"
     ]
    }
   ],
   "source": [
    "def hola_mundo():\n",
    "    print('Hola!😊')\n",
    "\n",
    "hola_mundo()"
   ]
  },
  {
   "cell_type": "code",
   "execution_count": 27,
   "metadata": {
    "ExecuteTime": {
     "end_time": "2021-03-24T19:40:13.564653Z",
     "start_time": "2021-03-24T19:40:13.555653Z"
    }
   },
   "outputs": [
    {
     "name": "stdout",
     "output_type": "stream",
     "text": [
      "(1, 2, 3, 4, 5, 6, 7, 8, 9) <class 'tuple'>\n",
      "{'parametro_nombrado_1': True, 'parametro_nombrado_2': False, 'parametro_nombrado_5': False} <class 'dict'>\n"
     ]
    }
   ],
   "source": [
    "def funcion_n_parametros(*args, **kwargs):\n",
    "    # args= parámetros sin nombre\n",
    "    print(args, type(args))\n",
    "    # kwargs = parámetros nombrados.\n",
    "    print(kwargs, type(kwargs))\n",
    "\n",
    "\n",
    "funcion_n_parametros(1, 2, 3, 4, 5, 6, 7, 8, 9, parametro_nombrado_1=True,\n",
    "                     parametro_nombrado_2=False, parametro_nombrado_5=False)"
   ]
  },
  {
   "cell_type": "markdown",
   "metadata": {},
   "source": [
    "Los parámetros también pueden tener valores por defecto:\n",
    "\n",
    "\n",
    "**Obs:** Los parámetros con valores por defecto deben ser declarados a la derecha de todos aquellos parámetros sin valores predefinidos.\n"
   ]
  },
  {
   "cell_type": "code",
   "execution_count": 34,
   "metadata": {
    "ExecuteTime": {
     "end_time": "2021-03-24T19:42:01.164527Z",
     "start_time": "2021-03-24T19:42:01.146528Z"
    }
   },
   "outputs": [],
   "source": [
    "def sumar_2(a, b=100, advertencias=False):\n",
    "    if advertencias == True:\n",
    "        print('Cuidado')\n",
    "    c = a + b\n",
    "    print(f'a : {a} | b : {b} | c : {c}')\n",
    "    return c"
   ]
  },
  {
   "cell_type": "code",
   "execution_count": 31,
   "metadata": {
    "ExecuteTime": {
     "end_time": "2021-03-24T19:41:06.740132Z",
     "start_time": "2021-03-24T19:41:06.729133Z"
    }
   },
   "outputs": [
    {
     "name": "stdout",
     "output_type": "stream",
     "text": [
      "a : 10 | b : 100 | c : 110\n"
     ]
    },
    {
     "data": {
      "text/plain": [
       "110"
      ]
     },
     "execution_count": 31,
     "metadata": {},
     "output_type": "execute_result"
    }
   ],
   "source": [
    "sumar_2(10)"
   ]
  },
  {
   "cell_type": "code",
   "execution_count": 32,
   "metadata": {
    "ExecuteTime": {
     "end_time": "2021-03-24T19:41:13.816210Z",
     "start_time": "2021-03-24T19:41:13.803213Z"
    },
    "scrolled": true
   },
   "outputs": [
    {
     "name": "stdout",
     "output_type": "stream",
     "text": [
      "a : 10 | b : 2000 | c : 2010\n"
     ]
    },
    {
     "data": {
      "text/plain": [
       "2010"
      ]
     },
     "execution_count": 32,
     "metadata": {},
     "output_type": "execute_result"
    }
   ],
   "source": [
    "sumar_2(10, 2000)"
   ]
  },
  {
   "cell_type": "code",
   "execution_count": 33,
   "metadata": {
    "ExecuteTime": {
     "end_time": "2021-03-24T19:41:29.891166Z",
     "start_time": "2021-03-24T19:41:29.882167Z"
    }
   },
   "outputs": [
    {
     "name": "stdout",
     "output_type": "stream",
     "text": [
      "a : 10 | b : 5000 | c : 5010\n"
     ]
    },
    {
     "data": {
      "text/plain": [
       "5010"
      ]
     },
     "execution_count": 33,
     "metadata": {},
     "output_type": "execute_result"
    }
   ],
   "source": [
    "sumar_2(10, b=5000)"
   ]
  },
  {
   "cell_type": "markdown",
   "metadata": {},
   "source": [
    "Y también se pueden retornar múltiples valores"
   ]
  },
  {
   "cell_type": "code",
   "execution_count": 35,
   "metadata": {
    "ExecuteTime": {
     "end_time": "2021-03-24T19:42:52.488689Z",
     "start_time": "2021-03-24T19:42:52.470551Z"
    }
   },
   "outputs": [],
   "source": [
    "def operaciones(a, b):\n",
    "    suma = a+b\n",
    "    resta = a-b\n",
    "    mult = a*b\n",
    "    div = a/b\n",
    "\n",
    "    return suma, resta, mult, div"
   ]
  },
  {
   "cell_type": "markdown",
   "metadata": {},
   "source": [
    "> **Pregunta**: ¿Qué retorno cuando hay varias variables en el return?"
   ]
  },
  {
   "cell_type": "code",
   "execution_count": 36,
   "metadata": {
    "ExecuteTime": {
     "end_time": "2021-03-24T19:43:07.637016Z",
     "start_time": "2021-03-24T19:43:07.624019Z"
    }
   },
   "outputs": [
    {
     "data": {
      "text/plain": [
       "(7, 3, 10, 2.5)"
      ]
     },
     "execution_count": 36,
     "metadata": {},
     "output_type": "execute_result"
    }
   ],
   "source": [
    "operaciones(5,2)"
   ]
  },
  {
   "cell_type": "code",
   "execution_count": 37,
   "metadata": {
    "ExecuteTime": {
     "end_time": "2021-03-24T19:43:30.351313Z",
     "start_time": "2021-03-24T19:43:30.339306Z"
    },
    "scrolled": true
   },
   "outputs": [
    {
     "data": {
      "text/plain": [
       "tuple"
      ]
     },
     "execution_count": 37,
     "metadata": {},
     "output_type": "execute_result"
    }
   ],
   "source": [
    "type(operaciones(5,2))"
   ]
  },
  {
   "cell_type": "markdown",
   "metadata": {},
   "source": [
    "### Scopes \n",
    "\n",
    "En cada función se define un entorno de variables o *namespace*, esto quiere decir, que para cada función existe un conjunto de variables (o nombres) los cuales no tienen una relación *a priori* con las variables fuera de la función. \n",
    "\n",
    "Esto permite dilucidar la noción de **scope**, este concepto, se refiere al área donde son definidas las variables, por defecto en Python, aquellas variables no pueden interactuar fuera de tal área. \n",
    "\n",
    "Se pueden diferenciar 3 tipos de scopes:\n",
    "\n",
    "1. Global: variables (u objetos si se desea) definidas en el cuerpo del código.\n",
    "2. Local: variables definidas dentro de una función.\n",
    "3. Built-in: variables predefinidas por el modulo built-in's (como ```print()``` por ejemplo.)\n"
   ]
  },
  {
   "cell_type": "code",
   "execution_count": 38,
   "metadata": {
    "ExecuteTime": {
     "end_time": "2021-03-24T19:45:21.182553Z",
     "start_time": "2021-03-24T19:45:21.172556Z"
    }
   },
   "outputs": [
    {
     "name": "stdout",
     "output_type": "stream",
     "text": [
      "15\n"
     ]
    },
    {
     "data": {
      "text/plain": [
       "15"
      ]
     },
     "execution_count": 38,
     "metadata": {},
     "output_type": "execute_result"
    }
   ],
   "source": [
    "n = 5\n",
    "\n",
    "def suma_n(a):\n",
    "    c = a + n\n",
    "    print(c)\n",
    "    return c\n",
    "\n",
    "suma_n(10)"
   ]
  },
  {
   "cell_type": "markdown",
   "metadata": {},
   "source": [
    "> **Pregunta**: ¿Qué sucederá en la siguiente celda?"
   ]
  },
  {
   "cell_type": "code",
   "execution_count": 39,
   "metadata": {
    "ExecuteTime": {
     "end_time": "2021-03-24T19:45:44.129517Z",
     "start_time": "2021-03-24T19:45:44.114528Z"
    }
   },
   "outputs": [
    {
     "ename": "NameError",
     "evalue": "name 'c' is not defined",
     "output_type": "error",
     "traceback": [
      "\u001b[1;31m---------------------------------------------------------------------------\u001b[0m",
      "\u001b[1;31mNameError\u001b[0m                                 Traceback (most recent call last)",
      "\u001b[1;32m<ipython-input-39-1dd5973cae19>\u001b[0m in \u001b[0;36m<module>\u001b[1;34m\u001b[0m\n\u001b[1;32m----> 1\u001b[1;33m \u001b[0mprint\u001b[0m\u001b[1;33m(\u001b[0m\u001b[0mc\u001b[0m\u001b[1;33m)\u001b[0m\u001b[1;33m\u001b[0m\u001b[1;33m\u001b[0m\u001b[0m\n\u001b[0m",
      "\u001b[1;31mNameError\u001b[0m: name 'c' is not defined"
     ]
    }
   ],
   "source": [
    "print(c)"
   ]
  },
  {
   "cell_type": "markdown",
   "metadata": {},
   "source": [
    "> **Pregunta**: ¿Qué sucederá en la siguiente celda?"
   ]
  },
  {
   "cell_type": "code",
   "execution_count": 41,
   "metadata": {
    "ExecuteTime": {
     "end_time": "2021-03-24T19:47:02.624894Z",
     "start_time": "2021-03-24T19:47:02.608922Z"
    },
    "scrolled": true
   },
   "outputs": [
    {
     "name": "stdout",
     "output_type": "stream",
     "text": [
      "El valor de n es 10\n"
     ]
    },
    {
     "data": {
      "text/plain": [
       "20"
      ]
     },
     "execution_count": 41,
     "metadata": {},
     "output_type": "execute_result"
    }
   ],
   "source": [
    "n = 5\n",
    "def suma_n(a):\n",
    "    n = 10\n",
    "    c = a + n\n",
    "    print(f'El valor de n es {n}')\n",
    "    return c\n",
    "\n",
    "suma_n(10)"
   ]
  },
  {
   "cell_type": "code",
   "execution_count": 42,
   "metadata": {
    "ExecuteTime": {
     "end_time": "2021-03-24T19:47:06.006789Z",
     "start_time": "2021-03-24T19:47:05.996789Z"
    }
   },
   "outputs": [
    {
     "name": "stdout",
     "output_type": "stream",
     "text": [
      "El valor de n es 5\n"
     ]
    }
   ],
   "source": [
    "print(f'El valor de n es {n}')"
   ]
  },
  {
   "cell_type": "markdown",
   "metadata": {
    "ExecuteTime": {
     "end_time": "2021-03-24T14:18:00.730608Z",
     "start_time": "2021-03-24T14:18:00.721578Z"
    }
   },
   "source": [
    "#### Variables globales"
   ]
  },
  {
   "cell_type": "markdown",
   "metadata": {},
   "source": [
    "La orden ```global``` permite acceder a variables del scope global desde uno local, suponiendo que se desea acceder a la variable global ```var```, desde la función ```func()``` se sigue la sintaxis:\n",
    "\n",
    "```python\n",
    "def func(params):\n",
    "    global var\n",
    "    actions \n",
    "    return vals #opcional\n",
    "```"
   ]
  },
  {
   "cell_type": "code",
   "execution_count": 52,
   "metadata": {
    "ExecuteTime": {
     "end_time": "2021-03-24T19:49:03.557473Z",
     "start_time": "2021-03-24T19:49:03.547475Z"
    }
   },
   "outputs": [
    {
     "name": "stdout",
     "output_type": "stream",
     "text": [
      "El valor de n es 10\n"
     ]
    },
    {
     "data": {
      "text/plain": [
       "20"
      ]
     },
     "execution_count": 52,
     "metadata": {},
     "output_type": "execute_result"
    }
   ],
   "source": [
    "n = 5\n",
    "def suma_n(a):\n",
    "    global n\n",
    "    n = 10\n",
    "    c = a + n\n",
    "    print(f'El valor de n es {n}')\n",
    "    return c\n",
    "\n",
    "suma_n(10)"
   ]
  },
  {
   "cell_type": "code",
   "execution_count": 53,
   "metadata": {
    "ExecuteTime": {
     "end_time": "2021-03-24T19:49:04.140479Z",
     "start_time": "2021-03-24T19:49:04.122475Z"
    },
    "scrolled": true
   },
   "outputs": [
    {
     "name": "stdout",
     "output_type": "stream",
     "text": [
      "El valor de n es 10\n"
     ]
    }
   ],
   "source": [
    "print(f'El valor de n es {n}')"
   ]
  },
  {
   "cell_type": "markdown",
   "metadata": {
    "ExecuteTime": {
     "end_time": "2021-03-24T14:20:27.993890Z",
     "start_time": "2021-03-24T14:20:27.978885Z"
    }
   },
   "source": [
    "#### Locals\n",
    "\n",
    "Pueden ver que variables hay en el scope local usando la función `locals()`"
   ]
  },
  {
   "cell_type": "code",
   "execution_count": 54,
   "metadata": {
    "ExecuteTime": {
     "end_time": "2021-03-24T19:49:16.727056Z",
     "start_time": "2021-03-24T19:49:16.723056Z"
    }
   },
   "outputs": [],
   "source": [
    "n = 5\n",
    "\n",
    "def suma_n(a):\n",
    "    n = 10\n",
    "    c = a + n\n",
    "    print(f'Las variables locales de la función son {locals()}')\n",
    "    return c"
   ]
  },
  {
   "cell_type": "code",
   "execution_count": 55,
   "metadata": {
    "ExecuteTime": {
     "end_time": "2021-03-24T19:49:18.524853Z",
     "start_time": "2021-03-24T19:49:18.514853Z"
    }
   },
   "outputs": [
    {
     "name": "stdout",
     "output_type": "stream",
     "text": [
      "Las variables locales de la función son {'a': 10, 'n': 10, 'c': 20}\n"
     ]
    },
    {
     "data": {
      "text/plain": [
       "20"
      ]
     },
     "execution_count": 55,
     "metadata": {},
     "output_type": "execute_result"
    }
   ],
   "source": [
    "suma_n(10)"
   ]
  },
  {
   "cell_type": "markdown",
   "metadata": {},
   "source": [
    "### Unit Testing\n",
    "\n",
    "\n",
    "El *unit testing* o pruebas unitarias es un método para comprobar el correcto funcionamiento de un segmento de código o función.\n",
    "La idea es crear casos de prueba en donde sabemos que valores debería retornar una función y luego comprobar que la función efectivamente los retorne. \n",
    "\n",
    "Para esto, los test que creemos deben ser determinísticos (no aleatorios) y repetibles. \n",
    "\n",
    "\n",
    "Python provee la *keyword* `assert` la cual verifica el valor de una condición: \n",
    "\n",
    "- Si es `True` continua la ejecución. \n",
    "- Si es `False`, lanza la excepción `AssertionError` y detiene la ejecución."
   ]
  },
  {
   "cell_type": "code",
   "execution_count": 59,
   "metadata": {
    "ExecuteTime": {
     "end_time": "2021-03-24T19:52:21.820347Z",
     "start_time": "2021-03-24T19:52:21.802304Z"
    }
   },
   "outputs": [
    {
     "data": {
      "text/plain": [
       "False"
      ]
     },
     "execution_count": 59,
     "metadata": {},
     "output_type": "execute_result"
    }
   ],
   "source": [
    "def suma(a, b):\n",
    "    return a+b"
   ]
  },
  {
   "cell_type": "code",
   "execution_count": 60,
   "metadata": {
    "ExecuteTime": {
     "end_time": "2021-03-24T19:52:39.018445Z",
     "start_time": "2021-03-24T19:52:39.011446Z"
    }
   },
   "outputs": [],
   "source": [
    "def suma(a, b):\n",
    "    return a+b\n",
    "\n",
    "assert suma(2,3) == 5"
   ]
  },
  {
   "cell_type": "code",
   "execution_count": 61,
   "metadata": {
    "ExecuteTime": {
     "end_time": "2021-03-24T19:53:28.730146Z",
     "start_time": "2021-03-24T19:53:28.721136Z"
    }
   },
   "outputs": [],
   "source": [
    "# La idea es hacer varios casos de prueba unitarios.\n",
    "assert suma(2,-3) == -1\n",
    "assert suma(99999,1) == 100000\n",
    "assert suma(3,3) != 5"
   ]
  },
  {
   "cell_type": "markdown",
   "metadata": {
    "ExecuteTime": {
     "end_time": "2021-03-24T15:34:18.662574Z",
     "start_time": "2021-03-24T15:34:18.647544Z"
    }
   },
   "source": [
    "Si por ejemplo, ahora modifico la función suma y multiplico a y b, el test debería fallar."
   ]
  },
  {
   "cell_type": "code",
   "execution_count": 62,
   "metadata": {
    "ExecuteTime": {
     "end_time": "2021-03-24T19:53:49.277547Z",
     "start_time": "2021-03-24T19:53:49.249539Z"
    }
   },
   "outputs": [
    {
     "ename": "AssertionError",
     "evalue": "",
     "output_type": "error",
     "traceback": [
      "\u001b[1;31m---------------------------------------------------------------------------\u001b[0m",
      "\u001b[1;31mAssertionError\u001b[0m                            Traceback (most recent call last)",
      "\u001b[1;32m<ipython-input-62-d82b81d8f3ba>\u001b[0m in \u001b[0;36m<module>\u001b[1;34m\u001b[0m\n\u001b[0;32m      2\u001b[0m     \u001b[1;32mreturn\u001b[0m \u001b[0ma\u001b[0m\u001b[1;33m*\u001b[0m\u001b[0mb\u001b[0m\u001b[1;33m\u001b[0m\u001b[1;33m\u001b[0m\u001b[0m\n\u001b[0;32m      3\u001b[0m \u001b[1;33m\u001b[0m\u001b[0m\n\u001b[1;32m----> 4\u001b[1;33m \u001b[1;32massert\u001b[0m \u001b[0msuma\u001b[0m\u001b[1;33m(\u001b[0m\u001b[1;36m2\u001b[0m\u001b[1;33m,\u001b[0m\u001b[1;36m3\u001b[0m\u001b[1;33m)\u001b[0m \u001b[1;33m==\u001b[0m \u001b[1;36m5\u001b[0m\u001b[1;33m\u001b[0m\u001b[1;33m\u001b[0m\u001b[0m\n\u001b[0m",
      "\u001b[1;31mAssertionError\u001b[0m: "
     ]
    }
   ],
   "source": [
    "def suma(a, b):\n",
    "    return a*b\n",
    "\n",
    "assert suma(2,3) == 5"
   ]
  },
  {
   "cell_type": "code",
   "execution_count": 63,
   "metadata": {
    "ExecuteTime": {
     "end_time": "2021-03-24T19:54:07.915018Z",
     "start_time": "2021-03-24T19:54:07.900019Z"
    }
   },
   "outputs": [
    {
     "ename": "AssertionError",
     "evalue": "Error al sumar",
     "output_type": "error",
     "traceback": [
      "\u001b[1;31m---------------------------------------------------------------------------\u001b[0m",
      "\u001b[1;31mAssertionError\u001b[0m                            Traceback (most recent call last)",
      "\u001b[1;32m<ipython-input-63-257d8f1bec24>\u001b[0m in \u001b[0;36m<module>\u001b[1;34m\u001b[0m\n\u001b[0;32m      1\u001b[0m \u001b[1;31m# Le podemos indicar que nos entregue un mensaje de error\u001b[0m\u001b[1;33m\u001b[0m\u001b[1;33m\u001b[0m\u001b[1;33m\u001b[0m\u001b[0m\n\u001b[0;32m      2\u001b[0m \u001b[1;33m\u001b[0m\u001b[0m\n\u001b[1;32m----> 3\u001b[1;33m \u001b[1;32massert\u001b[0m \u001b[0msuma\u001b[0m\u001b[1;33m(\u001b[0m\u001b[1;36m3\u001b[0m\u001b[1;33m,\u001b[0m\u001b[1;36m2\u001b[0m\u001b[1;33m)\u001b[0m \u001b[1;33m==\u001b[0m \u001b[1;36m5\u001b[0m\u001b[1;33m,\u001b[0m \u001b[1;34m'Error al sumar'\u001b[0m\u001b[1;33m\u001b[0m\u001b[1;33m\u001b[0m\u001b[0m\n\u001b[0m",
      "\u001b[1;31mAssertionError\u001b[0m: Error al sumar"
     ]
    }
   ],
   "source": [
    "# Le podemos indicar que nos entregue un mensaje de error\n",
    "\n",
    "assert suma(3,2) == 5, 'Error al sumar'"
   ]
  },
  {
   "cell_type": "markdown",
   "metadata": {
    "ExecuteTime": {
     "end_time": "2021-03-24T15:35:22.876002Z",
     "start_time": "2021-03-24T15:35:22.855969Z"
    }
   },
   "source": [
    "Nota interesante:\n",
    "\n",
    "    \"Program testing can be used to show the presence of bugs, but never to show their absence!\"\n",
    "    \n",
    "                                                                         —Edsger Dijkstra, 1970"
   ]
  },
  {
   "cell_type": "markdown",
   "metadata": {},
   "source": [
    "**Paréntesis: TDD y pruebas unitarias**\n",
    "\n",
    "El test driven development (TDD) o desarrollo guiado por pruebas implica desarrollar las pruebas unitarias a las que se va a someter el software antes de escribirlo.\n",
    "De esta manera, el desarrollo se realiza atendiendo a los requisitos que se han establecido en la prueba que deberá pasar.\n",
    "\n",
    "(Fuente: https://www.yeeply.com/blog/que-son-pruebas-unitarias/)"
   ]
  },
  {
   "cell_type": "markdown",
   "metadata": {},
   "source": [
    "---\n",
    "> **Ejercicio**\n",
    "\n",
    "Programe la función `promedio(lista)` que calcule el promedio de una lista y luego haga una serie de test unitarios que comprueben su funcionamiento. \n",
    "¿Qué pasa cuando el promedio es float?\n"
   ]
  },
  {
   "cell_type": "code",
   "execution_count": null,
   "metadata": {
    "ExecuteTime": {
     "end_time": "2021-03-24T19:20:37.332510Z",
     "start_time": "2021-03-24T19:20:37.172Z"
    }
   },
   "outputs": [],
   "source": [
    "def promedio(lista):\n",
    "    pass"
   ]
  },
  {
   "cell_type": "markdown",
   "metadata": {},
   "source": [
    "---"
   ]
  },
  {
   "cell_type": "markdown",
   "metadata": {},
   "source": [
    "### Funciones lambda\n",
    "\n",
    "Cuando se trabaja con funciones simples, la notación ```def``` puede ser \n",
    "lenta e innecesaria. En este contexto, Python posee las funciones **lambda**. Estas se pueden considerar como un análogo de las funciones, como *list comprehension* en relación a los ciclos. \n",
    "\n",
    "La sintaxis es bastante sencilla. Por ejemplo si se quiere definir la función:"
   ]
  },
  {
   "cell_type": "code",
   "execution_count": 64,
   "metadata": {
    "ExecuteTime": {
     "end_time": "2021-03-24T19:57:28.684940Z",
     "start_time": "2021-03-24T19:57:28.663933Z"
    },
    "scrolled": true
   },
   "outputs": [
    {
     "data": {
      "text/plain": [
       "50"
      ]
     },
     "execution_count": 64,
     "metadata": {},
     "output_type": "execute_result"
    }
   ],
   "source": [
    "def mult_5(x):\n",
    "    return x*5\n",
    "\n",
    "mult_5(10)"
   ]
  },
  {
   "cell_type": "markdown",
   "metadata": {},
   "source": [
    "Esta se puede reemplazar por\n"
   ]
  },
  {
   "cell_type": "code",
   "execution_count": 66,
   "metadata": {
    "ExecuteTime": {
     "end_time": "2021-03-24T19:58:33.315275Z",
     "start_time": "2021-03-24T19:58:33.306276Z"
    }
   },
   "outputs": [
    {
     "data": {
      "text/plain": [
       "50"
      ]
     },
     "execution_count": 66,
     "metadata": {},
     "output_type": "execute_result"
    }
   ],
   "source": [
    "lambda_mult_5 = lambda x: x*5\n",
    "\n",
    "lambda_mult_5(10)"
   ]
  },
  {
   "cell_type": "markdown",
   "metadata": {},
   "source": [
    "Es decir, se sigue la sintaxis:\n",
    "\n",
    "```python\n",
    "func_name = lambda arg_1, arg_2: action\n",
    "```\n"
   ]
  },
  {
   "cell_type": "markdown",
   "metadata": {},
   "source": [
    "#### Map, Filter y Reduce"
   ]
  },
  {
   "cell_type": "markdown",
   "metadata": {},
   "source": [
    "En ciencia de datos, la utilidad de las funciones ```lambda``` generalmente se asocia a las operaciones ```map()```, ```filter()``` y ```reduce()``` usando usando el modulo functools). Estás operaciones se denotan como **funciones de orden superior** pues reciben otra función como argumento. "
   ]
  },
  {
   "cell_type": "markdown",
   "metadata": {},
   "source": [
    "**Map**\n",
    "\n",
    "```map()``` permite aplicar la función objetivo sobre un contenedor (como una lista) elemento por elemento, el resultado es un objeto tipo ```map``` que entre sus características es un iterable.\n"
   ]
  },
  {
   "cell_type": "code",
   "execution_count": 1,
   "metadata": {
    "ExecuteTime": {
     "end_time": "2021-03-25T12:09:31.264131Z",
     "start_time": "2021-03-25T12:09:31.243101Z"
    }
   },
   "outputs": [
    {
     "data": {
      "text/plain": [
       "[1, 4, 9, 16, 25]"
      ]
     },
     "execution_count": 1,
     "metadata": {},
     "output_type": "execute_result"
    }
   ],
   "source": [
    "# Ejemplo iterativo usando for\n",
    "l_r = []\n",
    "for elemento in range(1, 6):\n",
    "    l_r.append(elemento ** 2)\n",
    "l_r"
   ]
  },
  {
   "cell_type": "code",
   "execution_count": 2,
   "metadata": {
    "ExecuteTime": {
     "end_time": "2021-03-25T12:09:33.167608Z",
     "start_time": "2021-03-25T12:09:33.146621Z"
    }
   },
   "outputs": [
    {
     "data": {
      "text/plain": [
       "<map at 0x157e8a131c0>"
      ]
     },
     "execution_count": 2,
     "metadata": {},
     "output_type": "execute_result"
    }
   ],
   "source": [
    "elevar_al_cuadrado = lambda x: x**2\n",
    "lista = [1, 2, 3, 4, 5, 6]\n",
    "\n",
    "map(elevar_al_cuadrado, lista) # Retorna un iterable"
   ]
  },
  {
   "cell_type": "code",
   "execution_count": 3,
   "metadata": {
    "ExecuteTime": {
     "end_time": "2021-03-25T12:09:33.970383Z",
     "start_time": "2021-03-25T12:09:33.953344Z"
    }
   },
   "outputs": [
    {
     "data": {
      "text/plain": [
       "[1, 4, 9, 16, 25, 36]"
      ]
     },
     "execution_count": 3,
     "metadata": {},
     "output_type": "execute_result"
    }
   ],
   "source": [
    " # Retorna un iterable. Para evaluarlo, usar list(map)\n",
    "list(map(elevar_al_cuadrado, lista))"
   ]
  },
  {
   "cell_type": "markdown",
   "metadata": {},
   "source": [
    "Por lo general, la función lambda se define dentro del map:"
   ]
  },
  {
   "cell_type": "code",
   "execution_count": 4,
   "metadata": {
    "ExecuteTime": {
     "end_time": "2021-03-25T12:09:35.672766Z",
     "start_time": "2021-03-25T12:09:35.658759Z"
    }
   },
   "outputs": [
    {
     "data": {
      "text/plain": [
       "[1, 4, 9, 16, 25, 36]"
      ]
     },
     "execution_count": 4,
     "metadata": {},
     "output_type": "execute_result"
    }
   ],
   "source": [
    "lista = [1, 2, 3, 4, 5, 6]\n",
    "\n",
    "list(map(lambda x: x**2, lista))"
   ]
  },
  {
   "cell_type": "markdown",
   "metadata": {},
   "source": [
    "**Filter**\n",
    "\n",
    "```filter()``` permite mantener elementos de un arreglo según el valor de verdad asociado a cada uno por la función objetivo.\n"
   ]
  },
  {
   "cell_type": "code",
   "execution_count": 5,
   "metadata": {
    "ExecuteTime": {
     "end_time": "2021-03-25T12:09:39.968542Z",
     "start_time": "2021-03-25T12:09:39.962541Z"
    }
   },
   "outputs": [
    {
     "data": {
      "text/plain": [
       "[2, 4, 6]"
      ]
     },
     "execution_count": 5,
     "metadata": {},
     "output_type": "execute_result"
    }
   ],
   "source": [
    "lista = [1, 2, 3, 4, 5, 6]\n",
    "\n",
    "# Mantener solo numeros pares\n",
    "list(filter(lambda x: x % 2 == 0, lista))"
   ]
  },
  {
   "cell_type": "markdown",
   "metadata": {},
   "source": [
    "**Reduce**\n",
    "\n",
    "`reduce()` permite acumular valores de izquierda a derecha según una función sobre lista. La idea es reducir la lista a un solo valor según la función estipulada.\n",
    "\n",
    "Nota: Hay que importarla desde `functools`"
   ]
  },
  {
   "cell_type": "code",
   "execution_count": 6,
   "metadata": {
    "ExecuteTime": {
     "end_time": "2021-03-25T12:09:41.245354Z",
     "start_time": "2021-03-25T12:09:41.226383Z"
    }
   },
   "outputs": [
    {
     "data": {
      "text/plain": [
       "21"
      ]
     },
     "execution_count": 6,
     "metadata": {},
     "output_type": "execute_result"
    }
   ],
   "source": [
    "from functools import reduce\n",
    "\n",
    "lista = [1, 2, 3, 4, 5, 6]\n",
    "\n",
    "# Sumar todos los elementos\n",
    "reduce(lambda a, b: a + b, lista)"
   ]
  },
  {
   "cell_type": "code",
   "execution_count": 7,
   "metadata": {
    "ExecuteTime": {
     "end_time": "2021-03-25T12:09:41.918643Z",
     "start_time": "2021-03-25T12:09:41.898614Z"
    }
   },
   "outputs": [
    {
     "data": {
      "text/plain": [
       "6"
      ]
     },
     "execution_count": 7,
     "metadata": {},
     "output_type": "execute_result"
    }
   ],
   "source": [
    "# Encontrar el máximo\n",
    "reduce(lambda a, b: a if a > b else b, lista)"
   ]
  },
  {
   "cell_type": "markdown",
   "metadata": {},
   "source": [
    "---\n",
    "> **Ejercicio**\n",
    "\n",
    "1. En strings el método ```.upper()``` permite transformar el contenido en mayúsculas. Cree la función ```to_upper(texto)``` que toma un string y retorna una versión en mayúsculas. Utilice la función `map()` sobre cada caracter.\n",
    "\n",
    "\n",
    "2. El método ```.split()```permite obtener todas las palabras de un string. Por otra parte, la función ```len()``` permite obtener el largo de un arreglo o cantidad de letras en una palabra. Cree la función `separador()` que separe un texto por espacios (`' '`) y quite todas aquellas palabras de tamaño 3 o menos usando `filter()`. \n",
    "\n",
    "3. Cree la función `mayus_r()` la cual transforme a mayúsculas todas las palabras que terminen en 'r'. Considere  además cada palabra como una lista y acceda la última letra con el slice correspondiente. Utilice ```map()``` con if-else y list comprehensions.\n",
    "\n",
    "4. Cree la función `promedio(lista)` la cual calcule el promedio usando solo las funciones `reduce()` y `len()`\n",
    "\n",
    "4. Crea test unitarios independientes que prueben estas funciones.\n",
    "\n",
    "---"
   ]
  },
  {
   "cell_type": "code",
   "execution_count": null,
   "metadata": {
    "ExecuteTime": {
     "end_time": "2021-03-24T19:20:37.349511Z",
     "start_time": "2021-03-24T19:20:37.271Z"
    }
   },
   "outputs": [],
   "source": [
    "# Pueden usar este texto de ejemplo para hacer los ejercicios\n",
    "\n",
    "texto_ejemplo = \"\"\"Budín de zapallos italianos\n",
    "Una tradicional receta chilena, que siempre me ha gustado mucho.\n",
    "Acá estamos en plena temporada de zapallos italianos y aunque aún no he cosechado ninguno en casa, \n",
    "si lo he estado haciendo en una de las huertas donde trabajo de voluntaria. \n",
    "Esta receta ya estaba en el blog, pero la estoy re-publicando con fotos nuevas y mas lindas. \n",
    "¿Cuál es tu manera favorita de preparar los zapallos italianos?\n",
    "Recuerden siempre probar los zapallos crudos y descartarlos si están amargos, \n",
    "no hay nada peor que cocinarlos y descubrir al momento de servir que había uno malo.\n",
    "Fuente: https://www.enmicocinahoy.cl/pastel-zapallos-italianos/\"\"\""
   ]
  },
  {
   "cell_type": "code",
   "execution_count": null,
   "metadata": {
    "ExecuteTime": {
     "end_time": "2021-03-24T19:20:37.351510Z",
     "start_time": "2021-03-24T19:20:37.277Z"
    }
   },
   "outputs": [],
   "source": [
    "def to_upper():\n",
    "    pass\n",
    "\n",
    "def separador():\n",
    "    pass\n",
    "\n",
    "def mayus_r():\n",
    "    pass"
   ]
  },
  {
   "cell_type": "markdown",
   "metadata": {},
   "source": [
    "---"
   ]
  },
  {
   "cell_type": "markdown",
   "metadata": {},
   "source": [
    "### Docstrings\n",
    "\n",
    "\n",
    "Cuando creamos funciones, lo hacemos principalmente por su funcionalidad, si trabajamos con otros desarrolladores, hacemos uso de comentarios por medio de la sintaxis  \n",
    "```python\n",
    "# Comentario\n",
    "\n",
    "```\n",
    "para comentarios de una linea, o\n",
    "\n",
    "```python\n",
    "\"\"\"\n",
    "Para \n",
    "     comentarios \n",
    "                 multilinea\n",
    "\"\"\"\n",
    "\n",
    "```\n",
    "\n",
    "Sin embargo, hay que tener en cuenta, que en general, se leerá el código durante más tiempo (por uno mismo o los desarrolladores) del que pasará escribiéndolo. \n",
    "\n",
    "El sistema de comentarios puede funcionar de manera perfecta al trabajar con desarrolladores con acceso al código fuente, pero al momento de que un usuario desee entender el significado de una función o trozo de código, no podrá necesariamente acceder al código de fuente cada vez que necesite utilizar sus funciones. \n",
    "\n",
    "El término *Docstring* en Python se refiere a la documentación de tipo string asociada a una función, clase, modulo o método. Esta documentación se accede por medio de la función ```help(funcion)``` sobre el objeto que se desea consultar. \n",
    "\n",
    "Esta función permite comprender la funcionalidad de trozos de código a un nivel general y transversal (tanto para desarrolladores como para usuarios). Debido a que un *Docstring* es en esencia un texto producido por el programador para ser entendido por el público general (en especial el programador mismo), es que aparecen distintos tipos de estándar para generar estas documentaciones. "
   ]
  },
  {
   "cell_type": "code",
   "execution_count": 78,
   "metadata": {
    "ExecuteTime": {
     "end_time": "2021-03-24T20:10:29.985337Z",
     "start_time": "2021-03-24T20:10:29.964350Z"
    },
    "scrolled": false
   },
   "outputs": [
    {
     "name": "stdout",
     "output_type": "stream",
     "text": [
      "Help on class map in module builtins:\n",
      "\n",
      "class map(object)\n",
      " |  map(func, *iterables) --> map object\n",
      " |  \n",
      " |  Make an iterator that computes the function using arguments from\n",
      " |  each of the iterables.  Stops when the shortest iterable is exhausted.\n",
      " |  \n",
      " |  Methods defined here:\n",
      " |  \n",
      " |  __getattribute__(self, name, /)\n",
      " |      Return getattr(self, name).\n",
      " |  \n",
      " |  __iter__(self, /)\n",
      " |      Implement iter(self).\n",
      " |  \n",
      " |  __next__(self, /)\n",
      " |      Implement next(self).\n",
      " |  \n",
      " |  __reduce__(...)\n",
      " |      Return state information for pickling.\n",
      " |  \n",
      " |  ----------------------------------------------------------------------\n",
      " |  Static methods defined here:\n",
      " |  \n",
      " |  __new__(*args, **kwargs) from builtins.type\n",
      " |      Create and return a new object.  See help(type) for accurate signature.\n",
      "\n"
     ]
    }
   ],
   "source": [
    "help(map)"
   ]
  },
  {
   "cell_type": "markdown",
   "metadata": {},
   "source": [
    "A continuación veremos algunos lineamientos a la hora de construir docstrings:\n",
    "\n",
    "Para Docstrings de una linea:\n",
    "\n",
    "* Se usa ```\"\"\" \"\"\"``` inclusive si se puede escribir todo en una linea.\n",
    "* Las comillas que inicial la documentación están en la misma linea que aquellas que la cierran.\n",
    "* El docstring es una frase que termina en punto, describe el objeto al cual se hace referencia y su efecto en la forma (accion,resultado).\n",
    "* La documentación no debe tener la \"firma\" (signature) del objeto subyacente: \n",
    "\n",
    "```python\n",
    "# Mala practica:\n",
    "def funcion_suma(a,b):\n",
    "    \"\"\" funcion(a,b) -> int \"\"\"\n",
    "    return a+b\n",
    "    \n",
    "# Buena practica:\n",
    "def funcion_suma(a,b):\n",
    "    \"\"\"Suma (`a`+`b`) retorna un entero \"\"\"\n",
    "    return a+b\n",
    "```\n",
    "\n",
    "Docstrings multilinea:\n",
    "\n",
    "* La documentación debe estar indentada completamente.\n",
    "\n",
    "* La primera linea debe ser siempre un resumen corto y conciso de el propósito del objeto que se documenta.\n",
    "\n",
    "* Debe haber una linea en blanco luego del resumen corto. Se puede agregar una explicación más profunda posterior al espacio.\n",
    "\n",
    "En general existen cualidades comunes al momento de crear un docstring, estas incluyen, argumentos, atributos y resultados (returns). Los distintos estándares de creación de documentos abordan esto, dentro de los estándares más comunes se encuentran:\n",
    "\n",
    "[Estándar google](https://github.com/google/styleguide/blob/gh-pages/pyguide.md#38-comments-and-docstrings)\n",
    "\n",
    "[Estándar Numpy/Scipy](https://numpydoc.readthedocs.io/en/latest/format.html)\n",
    "\n",
    "Una buena guia de manejo de docstrings se puede encontrar en la [documentación oficial](https://www.python.org/dev/peps/pep-0257/) de Python.\n"
   ]
  },
  {
   "cell_type": "markdown",
   "metadata": {},
   "source": [
    "---\n",
    "> **Ejercicio**\n",
    "\n",
    "El estándar a seguir en este curso será el de Numpy/Scipy.\n",
    "\n",
    "1. Estudia los lineamientos que tal estándar supone.\n",
    "\n",
    "2. Aplica tales lineamientos a a los ejercicios con map/filter/reduce.\n",
    "\n",
    "3. Elija una de las funciones, para una de las cuales confeccionó un docstring y acceda a tal documentación por medio del atributo ```help(function)```. (Desde un entorno jupyter notebook: ¿Qué ocurre se presiona las teclas ```shift+tab``` con el cursor dentro de la función? ejemplo: sum(|) ```shift+tab``` donde \"|\" es el cursor)\n",
    "\n",
    "\n",
    "---"
   ]
  },
  {
   "cell_type": "markdown",
   "metadata": {},
   "source": [
    "Para construir código \"pythonico\" vale decir, de fácil lectura y no redundante, se recomienda seguir la guía de estilo [PEP8](https://www.python.org/dev/peps/pep-0008/), su uso es transversal y se considera una buena práctica utilizarlo."
   ]
  },
  {
   "cell_type": "markdown",
   "metadata": {},
   "source": [
    "## Referencias\n",
    "\n",
    "Consideremos el siguiente ejemplo:"
   ]
  },
  {
   "cell_type": "code",
   "execution_count": 79,
   "metadata": {
    "ExecuteTime": {
     "end_time": "2021-03-24T20:13:12.073503Z",
     "start_time": "2021-03-24T20:13:12.069502Z"
    }
   },
   "outputs": [],
   "source": [
    "lista_1 = [1,2,3,4,5]\n",
    "lista_2 = lista_1"
   ]
  },
  {
   "cell_type": "code",
   "execution_count": 80,
   "metadata": {
    "ExecuteTime": {
     "end_time": "2021-03-24T20:13:12.747512Z",
     "start_time": "2021-03-24T20:13:12.736503Z"
    }
   },
   "outputs": [
    {
     "data": {
      "text/plain": [
       "[1, 2, 3, 4, 5, 10]"
      ]
     },
     "execution_count": 80,
     "metadata": {},
     "output_type": "execute_result"
    }
   ],
   "source": [
    "lista_1.append(10)\n",
    "lista_1"
   ]
  },
  {
   "cell_type": "code",
   "execution_count": 81,
   "metadata": {
    "ExecuteTime": {
     "end_time": "2021-03-24T20:13:17.974439Z",
     "start_time": "2021-03-24T20:13:17.955440Z"
    }
   },
   "outputs": [
    {
     "data": {
      "text/plain": [
       "[1, 2, 3, 4, 5, 10]"
      ]
     },
     "execution_count": 81,
     "metadata": {},
     "output_type": "execute_result"
    }
   ],
   "source": [
    "lista_2"
   ]
  },
  {
   "cell_type": "markdown",
   "metadata": {},
   "source": [
    "> Pregunta: ¿Por qué al modificar `lista_1`, los cambios también se ven reflejados en `lista_2`?"
   ]
  },
  {
   "cell_type": "markdown",
   "metadata": {},
   "source": [
    "Cuando asignamos una lista a una variable, lo que guardamos en la misma es en realidad una referencia a la lista y no la lista en sí. \n",
    "\n",
    "Por lo tanto, al copiar la variable a otra lo que hicimos fue copiar la referencia y no sus valores. Podemos analizar las referencias de cada variable (lugar en la dirección de memoria donde se encuentran los datos) a través de la función `id`:"
   ]
  },
  {
   "cell_type": "code",
   "execution_count": 82,
   "metadata": {
    "ExecuteTime": {
     "end_time": "2021-03-24T20:14:08.735748Z",
     "start_time": "2021-03-24T20:14:08.716745Z"
    }
   },
   "outputs": [
    {
     "name": "stdout",
     "output_type": "stream",
     "text": [
      "Identificador lista_1: 2571646041024\n",
      "Identificador lista_2: 2571646041024\n"
     ]
    }
   ],
   "source": [
    "print(f'Identificador lista_1: {id(lista_1)}\\nIdentificador lista_2: {id(lista_2)}')"
   ]
  },
  {
   "cell_type": "markdown",
   "metadata": {
    "ExecuteTime": {
     "end_time": "2021-03-24T17:38:07.640881Z",
     "start_time": "2021-03-24T17:38:07.631840Z"
    }
   },
   "source": [
    "Nota: Si realmente queremos copiar un arreglo, debemos utilizar la función `deepcopy()`"
   ]
  },
  {
   "cell_type": "code",
   "execution_count": 94,
   "metadata": {
    "ExecuteTime": {
     "end_time": "2021-03-24T20:17:00.249507Z",
     "start_time": "2021-03-24T20:17:00.243507Z"
    }
   },
   "outputs": [
    {
     "data": {
      "text/plain": [
       "[1, 2, 3, 4, 5, 10]"
      ]
     },
     "execution_count": 94,
     "metadata": {},
     "output_type": "execute_result"
    }
   ],
   "source": [
    "from copy import deepcopy\n",
    "\n",
    "lista_1 = [1, 2, 3, 4, 5]\n",
    "\n",
    "lista_3 = deepcopy(lista_1)\n",
    "lista_1.append(10)\n",
    "lista_1"
   ]
  },
  {
   "cell_type": "code",
   "execution_count": 85,
   "metadata": {
    "ExecuteTime": {
     "end_time": "2021-03-24T20:15:05.738891Z",
     "start_time": "2021-03-24T20:15:05.729897Z"
    }
   },
   "outputs": [
    {
     "data": {
      "text/plain": [
       "[1, 2, 3, 4, 5]"
      ]
     },
     "execution_count": 85,
     "metadata": {},
     "output_type": "execute_result"
    }
   ],
   "source": [
    "lista_3"
   ]
  },
  {
   "cell_type": "code",
   "execution_count": 86,
   "metadata": {
    "ExecuteTime": {
     "end_time": "2021-03-24T20:15:13.563792Z",
     "start_time": "2021-03-24T20:15:13.547797Z"
    }
   },
   "outputs": [
    {
     "name": "stdout",
     "output_type": "stream",
     "text": [
      "Identificador lista_1: 2571662764672\n",
      "Identificador lista_2: 2571662763968\n"
     ]
    }
   ],
   "source": [
    "print(f'Identificador lista_1: {id(lista_1)}\\nIdentificador lista_2: {id(lista_3)}')"
   ]
  },
  {
   "cell_type": "markdown",
   "metadata": {},
   "source": [
    "En general, Python asignará identificadores distintos cuando creemos listas y diccionarios:"
   ]
  },
  {
   "cell_type": "code",
   "execution_count": 98,
   "metadata": {
    "ExecuteTime": {
     "end_time": "2021-03-24T20:18:45.314653Z",
     "start_time": "2021-03-24T20:18:45.302653Z"
    }
   },
   "outputs": [
    {
     "name": "stdout",
     "output_type": "stream",
     "text": [
      "Identificador dict_1: 2571663406080\n",
      "Identificador dict_2: 2571647287680\n"
     ]
    }
   ],
   "source": [
    "d_1 = {'key_1': 'Hola'}\n",
    "d_2 = {'key_1': 'Hola'}\n",
    "\n",
    "print(f'Identificador dict_1: {id(d_1)}\\nIdentificador dict_2: {id(d_2)}')"
   ]
  },
  {
   "cell_type": "markdown",
   "metadata": {
    "ExecuteTime": {
     "end_time": "2021-03-24T17:51:53.481728Z",
     "start_time": "2021-03-24T17:51:53.472726Z"
    }
   },
   "source": [
    "¿Qué pasa ahora con los elementos inmutables como los strings?"
   ]
  },
  {
   "cell_type": "code",
   "execution_count": 96,
   "metadata": {
    "ExecuteTime": {
     "end_time": "2021-03-24T20:18:04.170052Z",
     "start_time": "2021-03-24T20:18:04.163053Z"
    }
   },
   "outputs": [
    {
     "data": {
      "text/plain": [
       "2571647240112"
      ]
     },
     "execution_count": 96,
     "metadata": {},
     "output_type": "execute_result"
    }
   ],
   "source": [
    "s1 = 'Hola'\n",
    "id(s1)"
   ]
  },
  {
   "cell_type": "code",
   "execution_count": 97,
   "metadata": {
    "ExecuteTime": {
     "end_time": "2021-03-24T20:18:04.916052Z",
     "start_time": "2021-03-24T20:18:04.898118Z"
    }
   },
   "outputs": [
    {
     "data": {
      "text/plain": [
       "2571647240112"
      ]
     },
     "execution_count": 97,
     "metadata": {},
     "output_type": "execute_result"
    }
   ],
   "source": [
    "s2 = 'Hola'\n",
    "id(s2)"
   ]
  },
  {
   "cell_type": "code",
   "execution_count": 99,
   "metadata": {
    "ExecuteTime": {
     "end_time": "2021-03-24T20:18:46.450652Z",
     "start_time": "2021-03-24T20:18:46.441655Z"
    },
    "scrolled": true
   },
   "outputs": [
    {
     "data": {
      "text/plain": [
       "2571647240112"
      ]
     },
     "execution_count": 99,
     "metadata": {},
     "output_type": "execute_result"
    }
   ],
   "source": [
    "id(d_1['key_1'])"
   ]
  },
  {
   "cell_type": "markdown",
   "metadata": {},
   "source": [
    "¿Y si le concatenamos otro string (similar al `append` del inicio)?"
   ]
  },
  {
   "cell_type": "code",
   "execution_count": null,
   "metadata": {
    "ExecuteTime": {
     "end_time": "2021-03-24T19:20:37.482510Z",
     "start_time": "2021-03-24T19:20:37.480Z"
    }
   },
   "outputs": [],
   "source": [
    "s3 = s1 + ', qué tal?'\n",
    "id(s3)"
   ]
  },
  {
   "cell_type": "markdown",
   "metadata": {},
   "source": [
    "> **Pregunta**: ¿Por qué no se conserva el id?"
   ]
  },
  {
   "cell_type": "markdown",
   "metadata": {},
   "source": [
    "## Mutabilidad e Inmutabilidad Revisitada\n",
    "\n",
    "Recuerdo: Cada entidad (u objeto) en python puede ser catalogada como **mutables** o **inmutables**. \n",
    "- Los objetos **mutables** son aquellos que pueden ser modificados luego de ser creados (o asignados), \n",
    "- Los objetos **inmutables** son objetos con valores fijos que no pueden ser modificados.\n"
   ]
  },
  {
   "cell_type": "markdown",
   "metadata": {},
   "source": [
    "> **Pregunta**: Hasta ahora, ¿qué tipos de datos son mutables y que tipo de datos son inmutables?"
   ]
  },
  {
   "cell_type": "markdown",
   "metadata": {},
   "source": [
    "Python maneja los objetos mutables e inmutables de manera distinta.\n",
    "\n",
    "- Se utilizan objetos inmutables si se desea acceder e iterar de manera eficiente en estructuras que no cambian frecuentemente en el código. Sin embargo, **son estáticos**. Esto se evidencia al querer modificar un valor, **proceso que conlleva la creación de una copia del inmutable original.** \n",
    "\n",
    "- Los objetos mutables **se utilizan cuando se desea cambiar el tamaño o atributos de un objeto a medida que es procesado por un código**. "
   ]
  },
  {
   "cell_type": "markdown",
   "metadata": {},
   "source": [
    "### ¿Inmutables que mutan?\n",
    "\n",
    "\n",
    "> **Pregunta**: ¿Qué sucede en el siguiente código?"
   ]
  },
  {
   "cell_type": "code",
   "execution_count": 100,
   "metadata": {
    "ExecuteTime": {
     "end_time": "2021-03-24T20:20:09.983944Z",
     "start_time": "2021-03-24T20:20:09.978944Z"
    }
   },
   "outputs": [
    {
     "data": {
      "text/plain": [
       "('texto', [0, 1])"
      ]
     },
     "execution_count": 100,
     "metadata": {},
     "output_type": "execute_result"
    }
   ],
   "source": [
    "tupla = ('texto', [0,1])\n",
    "tupla"
   ]
  },
  {
   "cell_type": "code",
   "execution_count": 101,
   "metadata": {
    "ExecuteTime": {
     "end_time": "2021-03-24T20:20:15.646244Z",
     "start_time": "2021-03-24T20:20:15.627246Z"
    },
    "scrolled": false
   },
   "outputs": [
    {
     "ename": "TypeError",
     "evalue": "'tuple' object does not support item assignment",
     "output_type": "error",
     "traceback": [
      "\u001b[1;31m---------------------------------------------------------------------------\u001b[0m",
      "\u001b[1;31mTypeError\u001b[0m                                 Traceback (most recent call last)",
      "\u001b[1;32m<ipython-input-101-e9f41e213e78>\u001b[0m in \u001b[0;36m<module>\u001b[1;34m\u001b[0m\n\u001b[1;32m----> 1\u001b[1;33m \u001b[0mtupla\u001b[0m\u001b[1;33m[\u001b[0m\u001b[1;36m1\u001b[0m\u001b[1;33m]\u001b[0m \u001b[1;33m=\u001b[0m \u001b[1;33m[\u001b[0m\u001b[1;36m0\u001b[0m\u001b[1;33m,\u001b[0m\u001b[1;36m1\u001b[0m\u001b[1;33m,\u001b[0m\u001b[1;36m2\u001b[0m\u001b[1;33m]\u001b[0m\u001b[1;33m\u001b[0m\u001b[1;33m\u001b[0m\u001b[0m\n\u001b[0m",
      "\u001b[1;31mTypeError\u001b[0m: 'tuple' object does not support item assignment"
     ]
    }
   ],
   "source": [
    "tupla[1] = [0,1,2]"
   ]
  },
  {
   "cell_type": "code",
   "execution_count": 102,
   "metadata": {
    "ExecuteTime": {
     "end_time": "2021-03-24T20:20:27.266619Z",
     "start_time": "2021-03-24T20:20:27.250607Z"
    }
   },
   "outputs": [
    {
     "data": {
      "text/plain": [
       "[0, 1]"
      ]
     },
     "execution_count": 102,
     "metadata": {},
     "output_type": "execute_result"
    }
   ],
   "source": [
    "tupla[1]"
   ]
  },
  {
   "cell_type": "code",
   "execution_count": 103,
   "metadata": {
    "ExecuteTime": {
     "end_time": "2021-03-24T20:20:53.456034Z",
     "start_time": "2021-03-24T20:20:53.442026Z"
    }
   },
   "outputs": [
    {
     "data": {
      "text/plain": [
       "('texto', [0, 1, 2])"
      ]
     },
     "execution_count": 103,
     "metadata": {},
     "output_type": "execute_result"
    }
   ],
   "source": [
    "tupla[1].append(2)\n",
    "tupla"
   ]
  },
  {
   "cell_type": "markdown",
   "metadata": {},
   "source": [
    "### Argumentos de las Funciones\n",
    "\n",
    "Las referencias a objetos mutables e inmutables tienen un papel importante en la **evaluación de funciones**. \n",
    "\n",
    "Pensemos por ejemplo en la siguiente función:"
   ]
  },
  {
   "cell_type": "code",
   "execution_count": 104,
   "metadata": {
    "ExecuteTime": {
     "end_time": "2021-03-24T20:21:35.166076Z",
     "start_time": "2021-03-24T20:21:35.157083Z"
    }
   },
   "outputs": [],
   "source": [
    "def cambia_elemento_0(x):\n",
    "    ''' Cambia el primer indice de una lista. '''\n",
    "    c = 0\n",
    "    x[0] = 'cambiado'"
   ]
  },
  {
   "cell_type": "markdown",
   "metadata": {},
   "source": [
    "Si se define la lista:"
   ]
  },
  {
   "cell_type": "code",
   "execution_count": 105,
   "metadata": {
    "ExecuteTime": {
     "end_time": "2021-03-24T20:21:39.441106Z",
     "start_time": "2021-03-24T20:21:39.430107Z"
    }
   },
   "outputs": [],
   "source": [
    "lista = ['no_cambiar', 2, 3, 4, 5]"
   ]
  },
  {
   "cell_type": "code",
   "execution_count": 106,
   "metadata": {
    "ExecuteTime": {
     "end_time": "2021-03-24T20:22:42.069305Z",
     "start_time": "2021-03-24T20:22:42.050308Z"
    },
    "scrolled": true
   },
   "outputs": [
    {
     "data": {
      "text/plain": [
       "['cambiado', 2, 3]"
      ]
     },
     "execution_count": 106,
     "metadata": {},
     "output_type": "execute_result"
    }
   ],
   "source": [
    "cambia_elemento_0(lista)\n",
    "lista"
   ]
  },
  {
   "cell_type": "markdown",
   "metadata": {},
   "source": [
    "El elemento cambió porque le pasamos una referencia de la lista a la función. NO una copia de esta."
   ]
  },
  {
   "cell_type": "markdown",
   "metadata": {},
   "source": [
    "---\n",
    "\n",
    "**Ejercicio** \n",
    "\n",
    "Sea la siguiente función:\n",
    "\n",
    "```python\n",
    "def add_key(value, d = dict()):\n",
    "    \"\"\"Agrega una llave al diccionario `d`.\n",
    "  \n",
    "    La llave se denota por \"key_<n>\" donde \"n\" es\n",
    "    un indice numerico dado por el total de llaves.\n",
    "    \n",
    "    Args\n",
    "    ----\n",
    "    value \n",
    "        Valor a agregar en la nueva llave.\n",
    "    d : dict\n",
    "        Diccionario a actualizar (opcional), si no se \n",
    "        entrega, se asume un diccionario vacio.\n",
    "           \n",
    "    Returns:\n",
    "        dict\n",
    "    \"\"\"\n",
    "    llave = 'col_'+str(len(d.keys()))\n",
    "    d[llave] = value\n",
    "    return d\n",
    "```\n",
    "1. Comprueba que es una mala práctica definir mutables como parámetros default. Para ello ejecute ```print(add_key(1))``` y luego ```print(add_key(2))``` ¿qué resultado espera en la segunda impresión?\n",
    "\n",
    "2. Corriga el error de la función, para ello haga uso del tipo de datos ```None``` y un control de flujo ```if```.\n"
   ]
  },
  {
   "cell_type": "markdown",
   "metadata": {},
   "source": [
    "## Manejo de Excepciones\n",
    "\n",
    "El manejo de excepciones en Python sigue una estructura similar a la de otros lenguajes de programación. Aquí, se hace uso de bloques```try``` seguidos de uno o más bloques ```except```.\n",
    "\n",
    "El contenido del bloque ```try``` se ejecuta en primera instancia y con normalidad, hasta que aparece un error o excepción de cierto tipo (```KeyError``` por ejemplo). En tal punto, se pasa al bloque `except` identificado con el tipo de excepción que se presente. "
   ]
  },
  {
   "cell_type": "markdown",
   "metadata": {},
   "source": [
    "**Ejemplo**: Recorramos una lista hasta un indice que no existe:\n"
   ]
  },
  {
   "cell_type": "code",
   "execution_count": null,
   "metadata": {
    "ExecuteTime": {
     "end_time": "2021-03-24T19:20:37.590510Z",
     "start_time": "2021-03-24T19:20:37.573Z"
    }
   },
   "outputs": [],
   "source": [
    "lista = [1, 2, 3, 4, 5]\n",
    "\n",
    "for i in range(10):\n",
    "    print(lista[i])"
   ]
  },
  {
   "cell_type": "markdown",
   "metadata": {},
   "source": [
    "En algún punto nos lanza una excepción y detiene la ejecución del programa.\n",
    "\n",
    "Podemos manjear esto a través de la estructura try-except:"
   ]
  },
  {
   "cell_type": "code",
   "execution_count": null,
   "metadata": {
    "ExecuteTime": {
     "end_time": "2021-03-24T19:20:37.592509Z",
     "start_time": "2021-03-24T19:20:37.583Z"
    }
   },
   "outputs": [],
   "source": [
    "lista = [1, 2, 3, 4, 5]\n",
    "\n",
    "try:\n",
    "    for i in range(10):\n",
    "        print(lista[i])\n",
    "except:\n",
    "    print(f'Error!, indice {i} fuera de la lista\\n')\n",
    "\n",
    "print('El programa continua')"
   ]
  },
  {
   "cell_type": "markdown",
   "metadata": {
    "ExecuteTime": {
     "end_time": "2021-03-24T18:32:00.065763Z",
     "start_time": "2021-03-24T18:32:00.050735Z"
    }
   },
   "source": [
    "Podemos acceder incluso al error usando `except Exception as e:`\n",
    "    "
   ]
  },
  {
   "cell_type": "code",
   "execution_count": null,
   "metadata": {
    "ExecuteTime": {
     "end_time": "2021-03-24T19:20:37.599510Z",
     "start_time": "2021-03-24T19:20:37.592Z"
    }
   },
   "outputs": [],
   "source": [
    "lista = [1, 2, 3, 4, 5]\n",
    "\n",
    "try:\n",
    "    for i in range(10):\n",
    "        print(lista[i])\n",
    "except Exception as e:\n",
    "    print(f'Error!:, {e}')\n",
    "\n",
    "print('El programa continua')"
   ]
  },
  {
   "cell_type": "markdown",
   "metadata": {},
   "source": [
    "### Tipos de Excepciones en Python\n",
    "\n",
    "---\n",
    "\n",
    "**Ejercicio**\n",
    "\n",
    "Para entender que tipos de excepciones pueden existir en Python:\n",
    "\n",
    "1. Nombre al menos 6 tipos de excepciones en Python. (*hint:https://docs.python.org/3/library/exceptions.html#bltin-exceptions* )\n",
    "2. Genere un código que produzca exepciones del tipo: ```NameError```,```ZeroDivisionError``` y ```TypeError```.\n",
    "\n",
    "---"
   ]
  },
  {
   "cell_type": "markdown",
   "metadata": {},
   "source": [
    "Un bloque ```try``` puede tener más de un bloque ```except``` asociado, cada ```except``` explicita acciones a realizarse según el tipo de excepción aparecida en el código. A lo más, se podrá ejecutar un ```except``` (de los posiblemente múltiples). El código que maneja la excepción, asociada a un bloque ```except``` se le denomina *handler*. \n",
    "\n",
    "Las excepciones (del ejercicio anterior por ejemplo) pueden ser utilizadas para definir distintos handlers según la sintaxis: \n",
    "\n",
    "```python\n",
    "try:\n",
    "    # Accion que se desea ejecutar\n",
    "    code_to_try\n",
    "    \n",
    "# Ejemplos de handlers y su sintaxis\n",
    "except RuntimeError:\n",
    "    handler_RuntimeError\n",
    "\n",
    "except ZeroDivisionError:\n",
    "    handler_ZeroDivisionError\n",
    "    \n",
    "except TypeError:\n",
    "     handler_TypeError\n",
    "...\n",
    "```\n",
    "\n",
    "Una manera más compacta viene dada por el uso de tuplas:\n",
    "\n",
    "\n",
    "```python\n",
    "try:\n",
    "    # Accion que se desea ejecutar\n",
    "    code_to_try\n",
    "    \n",
    "# Ejemplos de handlers y su sintaxis\n",
    "except (RuntimeError,ZeroDivisionError,TypeError):\n",
    "    handler_multi_exception\n",
    "...\n",
    "```\n",
    "\n",
    "Finalmente, es posible tratar una excepción como una variable dentro de la scope que genera, para ello se utiliza la orden ```in``` según la sintaxis:\n",
    "\n",
    "```python\n",
    "try:\n",
    "    # Accion que se desea ejecutar\n",
    "    code_to_try\n",
    "    \n",
    "# Ejemplo de handler usando la variable err\n",
    "except RuntimeError as err:\n",
    "    handler_RuntimeError(err) #el handler usa la variable err\n",
    "\n",
    "```"
   ]
  },
  {
   "cell_type": "markdown",
   "metadata": {},
   "source": [
    "### Atributos de las Excepciones\n",
    "\n",
    "Supongamos que queremos tener acceso a un archivo, pero no se escribe el nombre correcto. Esto es equivalente a acceder a un archivo que para el sistema es inexistente. La excepción asociada es del tipo ```FileNotFoundError```. Vale destacar que las excepción son objetos de la clase ```Exception``` y que por lo tanto tienen métodos (funciones) y atributos asociados. En este caso la variable ```err``` \n",
    "tiene el atributo ```.filename``` que hace referencia al archivo que se desea acceder:"
   ]
  },
  {
   "cell_type": "code",
   "execution_count": null,
   "metadata": {
    "ExecuteTime": {
     "end_time": "2021-03-24T19:20:37.612509Z",
     "start_time": "2021-03-24T19:20:37.611Z"
    },
    "scrolled": true
   },
   "outputs": [],
   "source": [
    "try:\n",
    "    '''\n",
    "    La funcion open permite leer y excribir archivos de manera nativa\n",
    "    '''\n",
    "    f = open('archivo_inexistente.txt')\n",
    "    s = f.readline()\n",
    "    i = int(s.strip())\n",
    "\n",
    "except FileNotFoundError as err:\n",
    "    print(\"Error! archivo no encontrado:\", err.filename)"
   ]
  },
  {
   "cell_type": "markdown",
   "metadata": {},
   "source": [
    "**Ejercicio**\n",
    "\n",
    "1. Considere un conjunto de bloques ```try```-```except``` donde cada ```except``` tiene especificado su comportamiento según una excepción especifica. ¿Es posible declarar un último bloque ```except``` al final, sin tener este, ninguna excepción asociada?"
   ]
  },
  {
   "cell_type": "markdown",
   "metadata": {},
   "source": [
    "La estructura de los bloques ```try``` es similar a la de los bloques ```if```, estos, de hecho, comparten el uso de la orden ```else```. Cuando se utiliza esta última, el flujo comienza por la clausula ```try``` para luego pasar por cada bloque ```except```, si no se levanta ninguna excepción, se ejecuta el bloque ```else```.\n",
    "\n",
    "**Ejemplo**\n",
    "\n",
    "El siguiente ciclo, intenta acceder a los archivos ```files = [archivo_inexistente_1, archivo_inexistente_2, ejemplo_2.txt]```"
   ]
  },
  {
   "cell_type": "code",
   "execution_count": null,
   "metadata": {
    "ExecuteTime": {
     "end_time": "2021-03-24T19:20:37.623510Z",
     "start_time": "2021-03-24T19:20:37.621Z"
    }
   },
   "outputs": [],
   "source": [
    "files = ['archivo_inexistente_1', 'archivo_inexistente_2', 'ejemplo_2.txt']\n",
    "for fi in files:\n",
    "    try:\n",
    "        '''\n",
    "        Intenta abrir los archivos de la lista\n",
    "        '''\n",
    "        text = open(fi, 'r')\n",
    "    except FileNotFoundError:\n",
    "        '''\n",
    "        Si no se encuentra el archivo, lo imprime en pantalla\n",
    "        '''\n",
    "        print('No se encuentra:', fi, '\\n')\n",
    "    else:\n",
    "        '''\n",
    "        Si no aparecen excepciones, aplica el código siguiente\n",
    "        '''\n",
    "        print('Archivo:', text.name, '\\n')\n",
    "        print(text.read())\n",
    "        text.close()"
   ]
  },
  {
   "cell_type": "markdown",
   "metadata": {},
   "source": [
    "Como se puede ver, los archivos inexistentes 1 y 2 arrojan el mensaje de error correspondiente. Por su parte, dado que ejemplo_2.txt existe en entorno de trabajo, no levanta ninguna excepción y ejecuta el código correspondiente:\n",
    "\n",
    "1. Mostrar el nombre del archivo con el atributo ```.name```.\n",
    "2. Mostrar el contenido en pantalla con el método ```.read()```\n",
    "3. Finalmente, cerrar la conexión al archivo de texto por medio del método ```.close()```."
   ]
  },
  {
   "cell_type": "markdown",
   "metadata": {},
   "source": [
    "Por otra parte, la orden ```raise``` permite forzar la aparición de una excepción.\n",
    "\n",
    "**Ejemplo**\n",
    "\n",
    "A continuación se levanta el error ```ValueError```, sin algún contexto especifico."
   ]
  },
  {
   "cell_type": "code",
   "execution_count": null,
   "metadata": {
    "ExecuteTime": {
     "end_time": "2021-03-24T19:20:37.637514Z",
     "start_time": "2021-03-24T19:20:37.636Z"
    }
   },
   "outputs": [],
   "source": [
    "raise ValueError "
   ]
  },
  {
   "cell_type": "markdown",
   "metadata": {},
   "source": [
    "Esta herramienta permite mayor control sobre los errores y el comportamiento que puede manejar nuestro código. "
   ]
  },
  {
   "cell_type": "markdown",
   "metadata": {},
   "source": [
    "\n",
    "\n",
    "**Ejercicio**\n",
    "\n",
    "1. Levante una excepción del tipo ```OSError``` con el mensaje: ```msj = 'Esta excepción actuá sobre errores producidos en el sistema, se relaciona comúnmente a fallas de input - output como lo es \"disk full\"'```. Para ello, deberá llamar el objeto ```OSError(msj)``` en conjunto con una orden ```raise```.\n",
    "\n",
    "2. Supongamos que tenemos una porción del código que arroja una excepción del tipo ```OSError(msj)```, tal porción la manejamos por medio de bloques ```try```-```except``` según el siguiente código:"
   ]
  },
  {
   "cell_type": "code",
   "execution_count": null,
   "metadata": {
    "ExecuteTime": {
     "end_time": "2021-03-24T19:20:37.647508Z",
     "start_time": "2021-03-24T19:20:37.645Z"
    }
   },
   "outputs": [],
   "source": [
    "msj  = 'Esta excepción actúa sobre errores producidos en el sistema, se ' \n",
    "msj += 'realciona comúnmente a fallas de input - output como lo es \"disk full\"'"
   ]
  },
  {
   "cell_type": "code",
   "execution_count": null,
   "metadata": {
    "ExecuteTime": {
     "end_time": "2021-03-24T19:20:37.659510Z",
     "start_time": "2021-03-24T19:20:37.658Z"
    }
   },
   "outputs": [],
   "source": [
    "try:\n",
    "    # Codigo simulado que arroja un error OSError(msj)\n",
    "    _ _ _ _ # Completar 1\n",
    "    \n",
    "except _ _ _ _: # Completar 2\n",
    "    \n",
    "    print('Texto 1')\n",
    "    \n",
    "    _ _ _ _ # Completar 3\n",
    "else: \n",
    ".    print('Texto 2')"
   ]
  },
  {
   "cell_type": "markdown",
   "metadata": {},
   "source": [
    "---\n",
    "\n",
    "Complete el código de manera tal que imprima en pantalla:\n",
    "   + Solamente ```Texto 1```.\n",
    "   + Solamente ```Texto 2```.\n",
    "   + ```OSError: Esta excepción actúa sobre errores producidos en el sistema, se relaciona comúnmente a fallas de input - output como lo es \"disk full\"```\n",
    "\n",
    "    Finalmente, complete el código anterior, de manera tal que se imprima en pantalla ```Texto 1``` y ```OSError: Esta excepción actúa sobre errores producidos en el sistema, se relaciona comúnmente a fallas de input - output como lo es \"disk full\"```simultáneamente. \n",
    "\n",
    "    Para este ejercicio, sólo podrá modificar las lineas de la forma ```_ _ _ _ # Completar N```, puede elegir no escribir en aquellas lineas si lo amerita. \n",
    "\n",
    "    (*hint:* Al imprimir  ```Texto 1``` y ```OSError: Esta ex ...``` en la última parte del ejercicio, debe además esperar un texto de la forma ```  Traceback (most recent call last) ```)\n",
    "\n",
    "3. Otra manera de manejar excepciones es por medio de ```assert()```, esta función es similar a un bloque ```try```-```except``` pero se ejecuta en una linea. Sigue la sintaxis ```assert(accion_logica)``` donde si ```accion_logica``` tiene valor de verdad ```True```, se continua con la ejecución normal del código. En caso contrario se muestra en pantalla una excepción del tipo ```AssertionError```. Verifique si en la variable ```msj``` del ejercicio 1 se encuentra la oración ```'file not found'```, en caso contrario imprima en pantalla el mensaje ```'Se debe agregar el tipo de error!'```. Utilice ```try```, ```except``` y ```assert```. (*Hint:* se puede hacer en 4 lineas)\n",
    "\n",
    "\n",
    "---"
   ]
  },
  {
   "cell_type": "markdown",
   "metadata": {},
   "source": [
    "Por último, se puede agrear una orden de *limpieza* a un bloque ```try```, para ello se utiliza el comando ```finally```, este tipo de código se ejecuta sin importar la aparición de errores, su uso más común conlleva cerrar archivos antes abiertos, cerrar conexiones, borrar objetos de la memoria, etc...\n",
    "\n",
    "La sintaxis para este tipo de orden es:\n",
    "\n",
    "```python\n",
    "try:\n",
    "    accion\n",
    "except: \n",
    "    manejo_de_excepcion\n",
    "else: \n",
    "    accion_alternativa_sin_error\n",
    "finally:\n",
    "    accion_limpieza\n",
    "```\n",
    "\n",
    "**Ejemplo** \n",
    "\n",
    "A continuación se muestra un bloque en el que aparece un error y se realiza un acción de limpieza."
   ]
  },
  {
   "cell_type": "code",
   "execution_count": null,
   "metadata": {
    "ExecuteTime": {
     "end_time": "2021-03-24T19:20:37.676509Z",
     "start_time": "2021-03-24T19:20:37.675Z"
    }
   },
   "outputs": [],
   "source": [
    "try:\n",
    "    b = 5\n",
    "    a = 0/0\n",
    "    b += a\n",
    "except:\n",
    "    print('Con errores \\n')\n",
    "else: \n",
    "    print('Sin errores \\n')\n",
    "finally:\n",
    "    print('Limpieza \\n')\n",
    "    del b"
   ]
  },
  {
   "cell_type": "markdown",
   "metadata": {},
   "source": [
    "**Ejercicio**\n",
    "\n",
    "1. ¿Qué tipo de excepción aparece en el ejemplo anterior?¿qué diferencia hay entre ```else``` y ```finally```?"
   ]
  },
  {
   "cell_type": "markdown",
   "metadata": {},
   "source": [
    "## Decoradores"
   ]
  },
  {
   "cell_type": "markdown",
   "metadata": {},
   "source": [
    "En Python las funciones son objetos de **primera clase**. Esto significa que pueden ser usadas como argumentos (por objetos o funciones de orden superior) y a la vez tener otros objetos como argumentos. Como se estudió con los scopes, es posible definir funciones anidadas, otra posibilidad es definir funciones que retornan otras funciones como resultado.\n",
    "\n",
    "**Ejemplo**\n",
    "\n",
    "Definimos una función que entrega como resultado otra función."
   ]
  },
  {
   "cell_type": "code",
   "execution_count": null,
   "metadata": {
    "ExecuteTime": {
     "end_time": "2021-03-24T19:20:37.691516Z",
     "start_time": "2021-03-24T19:20:37.689Z"
    }
   },
   "outputs": [],
   "source": [
    "def retorna_funciones(n):\n",
    "    '''Recibe un entero y retorna una funcion dependiendo de este.\n",
    "\n",
    "    Se genera una funcion de la forma F_n() donde F_n(f) = f(x), es\n",
    "    decir, un funcional de evaluacion.\n",
    "    \n",
    "    Args\n",
    "    ----\n",
    "    n : int\n",
    "        Numero a evaluar.\n",
    "    Returns\n",
    "    -------\n",
    "    function\n",
    "        Funcional de evaluacion en `n`\n",
    "    '''\n",
    "    def F_n(f):\n",
    "        return(f(n))\n",
    "    \n",
    "    return F_n"
   ]
  },
  {
   "cell_type": "markdown",
   "metadata": {},
   "source": [
    "Se observa que en efecto el resultado es una función"
   ]
  },
  {
   "cell_type": "code",
   "execution_count": null,
   "metadata": {
    "ExecuteTime": {
     "end_time": "2021-03-24T19:20:37.729509Z",
     "start_time": "2021-03-24T19:20:37.705510Z"
    }
   },
   "outputs": [],
   "source": [
    "F = retorna_funciones(2)\n",
    "print(type(F))"
   ]
  },
  {
   "cell_type": "markdown",
   "metadata": {},
   "source": [
    "finalmente se confirma el funcionamiento esperado:"
   ]
  },
  {
   "cell_type": "code",
   "execution_count": null,
   "metadata": {
    "ExecuteTime": {
     "end_time": "2021-03-24T19:20:37.731510Z",
     "start_time": "2021-03-24T19:20:37.718Z"
    }
   },
   "outputs": [],
   "source": [
    "print('Resultado de F_2 aplicado a f(x) = x+2: ',F(lambda x : x + 10))"
   ]
  },
  {
   "cell_type": "markdown",
   "metadata": {},
   "source": [
    "\n",
    "\n",
    "> **Pregunta**: Si  ```f(x,arg_1 = 1)``` es una función en Python ¿qué diferencia hay entre asignar ```y=f``` e ```y = f()```? ¿son ambas formas de asignar correctas? explique."
   ]
  },
  {
   "cell_type": "markdown",
   "metadata": {},
   "source": [
    "Al trabajar con funciones anidadas, aparece de manera natural el scope ```nonlocal```. Un termino muy relacionado es el de **clausura**, estudiemos la siguiente función para comprender su significado:"
   ]
  },
  {
   "cell_type": "code",
   "execution_count": null,
   "metadata": {
    "ExecuteTime": {
     "end_time": "2021-03-24T19:20:37.735529Z",
     "start_time": "2021-03-24T19:20:37.729Z"
    }
   },
   "outputs": [],
   "source": [
    "def F_msg(msg):\n",
    "    '''Genera una función que imprime el string msg.'''\n",
    "    \n",
    "    mensaje = 'Generando ... \\n'\n",
    "    \n",
    "    def msg_print():\n",
    "        '''Función anidada que imprime el mensaje'''\n",
    "        print(mensaje)\n",
    "        print(msg,'\\n')\n",
    "\n",
    "    return msg_print # entrega una función como resultado"
   ]
  },
  {
   "cell_type": "markdown",
   "metadata": {},
   "source": [
    "Definamos un mensaje test:"
   ]
  },
  {
   "cell_type": "code",
   "execution_count": null,
   "metadata": {
    "ExecuteTime": {
     "end_time": "2021-03-24T19:20:37.752509Z",
     "start_time": "2021-03-24T19:20:37.751Z"
    }
   },
   "outputs": [],
   "source": [
    "mensaje_test = 'Mensaje generado'\n",
    "func = F_msg(mensaje_test)"
   ]
  },
  {
   "cell_type": "markdown",
   "metadata": {},
   "source": [
    "El resultado es una función, esta función interactúa con el scope no local definido por la función ```F_msg```. Considerando que la variable ```mensaje``` está definida en ```F_msg``` y que luego se asignó ```func = F_msg(mensaje_test)``` ¿Qué comportamiento se espera al ejecutar ```func()```? ¿tiene ```func()``` acceso al scope de ```F_msg```?\n",
    "\n",
    "Primero se ejecuta ```func()```:"
   ]
  },
  {
   "cell_type": "code",
   "execution_count": null,
   "metadata": {
    "ExecuteTime": {
     "end_time": "2021-03-24T19:20:37.763510Z",
     "start_time": "2021-03-24T19:20:37.768Z"
    },
    "scrolled": true
   },
   "outputs": [],
   "source": [
    "func()"
   ]
  },
  {
   "cell_type": "markdown",
   "metadata": {},
   "source": [
    "En efecto, se ve que la ```func()``` si puede imprimir el valor de ```mensaje```, más aún, es capaz de imprimir el valor de ```mensaje_test```."
   ]
  },
  {
   "cell_type": "markdown",
   "metadata": {},
   "source": [
    "Con los conceptos anteriores es posible comprender el concepto de **decorator** (o decorador). Un decorador es una función de orden superior, que por tanto, permite modificar el comportamiento de otras funciones. Para un decorator, una función es un objeto que trata como un argumento. Para hacer uso de decoradores, es posible utilizar la sintaxis: \n",
    "\n",
    "\n",
    "```python\n",
    "@decorator\n",
    "def func(args):\n",
    "    accion\n",
    "    return res\n",
    "```\n",
    "En este caso ```@decorator``` hace referencia a una función de orden superior previamente definida y que opera sobre ```func```. Veamos el siguiente ejemplo:\n",
    "\n",
    "**Ejemplo**\n",
    "\n",
    "Se define la función ```amp_n``` que amplifica el resultado de una fucnión $n$ veces."
   ]
  },
  {
   "cell_type": "code",
   "execution_count": null,
   "metadata": {
    "ExecuteTime": {
     "end_time": "2021-03-24T19:20:37.779508Z",
     "start_time": "2021-03-24T19:20:37.778Z"
    }
   },
   "outputs": [],
   "source": [
    "def amp_n(f, n=2):\n",
    "    '''Amplifica el resultado de un funcion n veces.\n",
    "\n",
    "    Toma una funcion f y un numero n opcional, aplifica las evaluaciones \n",
    "    de la función f(x) segun f(x)*n,\n",
    "    Args\n",
    "    ----\n",
    "    f : function\n",
    "        Funcion cuyo resultado sera amplificado en `n`\n",
    "    n : int, opcional,\n",
    "        Valor numerico con el cual amplicar la \n",
    "        evaluacion de f. Su valor por defecto es n=2.\n",
    "\n",
    "    Returns\n",
    "    -------\n",
    "    function\n",
    "    '''\n",
    "    def funcion_modificadora(*args, **kwargs):\n",
    "        '''Permite cambiar el comportamiento de f.'''\n",
    "        return f(*args, **kwargs)*n\n",
    "\n",
    "    return funcion_modificadora"
   ]
  },
  {
   "cell_type": "markdown",
   "metadata": {},
   "source": [
    "Se define la función identidad como ```función_inicial``` para probar el correcto funcionamiento de ```amp_n```."
   ]
  },
  {
   "cell_type": "code",
   "execution_count": null,
   "metadata": {
    "ExecuteTime": {
     "end_time": "2021-03-24T19:20:37.792510Z",
     "start_time": "2021-03-24T19:20:37.791Z"
    }
   },
   "outputs": [],
   "source": [
    "def funcion_inicial(x):\n",
    "    '''Funcion identidad.'''\n",
    "    return x\n",
    "    \n",
    "funcion_amplificada = amp_n(funcion_inicial)\n",
    "funcion_amplificada(1)"
   ]
  },
  {
   "cell_type": "markdown",
   "metadata": {},
   "source": [
    "El comportamiento de un decorador pasa a ser equivalente a reasignar el valor de la función inicial al nuevo valor modificado por la función de orden superior. En este caso es:"
   ]
  },
  {
   "cell_type": "code",
   "execution_count": null,
   "metadata": {
    "ExecuteTime": {
     "end_time": "2021-03-24T19:20:37.802509Z",
     "start_time": "2021-03-24T19:20:37.801Z"
    }
   },
   "outputs": [],
   "source": [
    "'''\n",
    "Obs: ejecutar esta celda m veces lleva a amplicar el \n",
    "comportamiento de funcion_inical por un factor de 2^m.\n",
    "'''\n",
    "\n",
    "funcion_inicial = amp_n(funcion_inicial)\n",
    "funcion_inicial(1)"
   ]
  },
  {
   "cell_type": "markdown",
   "metadata": {},
   "source": [
    "Tal resultado se confirma usando la sintaxis pythonica ```@amp_n```."
   ]
  },
  {
   "cell_type": "code",
   "execution_count": null,
   "metadata": {
    "ExecuteTime": {
     "end_time": "2021-03-24T19:20:37.812509Z",
     "start_time": "2021-03-24T19:20:37.811Z"
    }
   },
   "outputs": [],
   "source": [
    "@amp_n\n",
    "def funcion_inicial(x):\n",
    "    '''Funcion identidad.'''\n",
    "    return x\n",
    "\n",
    "#Se llama la función\n",
    "funcion_inicial(1)"
   ]
  },
  {
   "cell_type": "markdown",
   "metadata": {},
   "source": [
    "---\n",
    "\n",
    "**Ejercicios**\n",
    "\n",
    "En este ejercicio consistirá en definir un decorador que imprime el tipo de dato que retorna la función objetivo. \n",
    "\n",
    "\n",
    "1. Defina una función de orden superior `return_type()`, en la cual se declara una función auxiliar que juega el papel de la función a decorar, esta debe además imprimir el tipo de resultado asociado a operar por la función decorada. (_hint:_ recuerde los operadores `*` y `**` al definir funciones. Recuerde que este decorador debe operar sobre funciones de inputs arbitrarios. Use `type`). Esta función debe retornar la función auxiliar.\n",
    "\n",
    "2. Pruebe con funciones de control creadas por usted.\n",
    "\n",
    "---"
   ]
  },
  {
   "cell_type": "markdown",
   "metadata": {},
   "source": [
    "Observe que al ejecutar:\n",
    "\n"
   ]
  },
  {
   "cell_type": "code",
   "execution_count": null,
   "metadata": {
    "ExecuteTime": {
     "end_time": "2021-03-24T19:20:37.826509Z",
     "start_time": "2021-03-24T19:20:37.824Z"
    }
   },
   "outputs": [],
   "source": [
    "@amp_n(5)\n",
    "def funcion_inicial(x):\n",
    "    '''Funcion identidad.'''\n",
    "    return x\n",
    "\n",
    "#Se llama la función\n",
    "funcion_inicial(1)"
   ]
  },
  {
   "cell_type": "markdown",
   "metadata": {},
   "source": [
    "Se obtiene un excepción del tipo ```TypeError```. Esto, pues aunque ```amp_n``` está definida para recibir una función y un entero, que por defecto es ```n = 2```, la notación de decorador ```@decorator```, no permite pasar el segundo argumento. "
   ]
  },
  {
   "cell_type": "markdown",
   "metadata": {},
   "source": [
    "**Decoradores con parámetros**\n",
    "\n",
    "Se desea crear un decorador que si pueda recibir argumentos, esto implica implementar una función que opera sobre tales argumentos y entrega como resultado un decorador. En el caso de ```amp_n```, creamos el la función ```amp_n_gen``` que recibe un número ```n``` y retorna un decorador, de esta forma es posible llamar, si queremos amplificar un resultado 7 veces esto se debería implementar según:\n",
    "\n",
    "```python\n",
    "@amp_n_gen(7)\n",
    "def func(*args,**kwargs):\n",
    "    res = do_stuff()\n",
    "    return res\n",
    "```\n",
    "En este caso no es problema acceder a ```@amp_n_gen(7)``` pues este objeto pasa a ser un decorador como tal. Se pasa a implementar tal decorador:\n",
    "\n",
    "Primero se define ```amp_n_gen``` de manera que reciba valores numéricos y retorne un decorador:"
   ]
  },
  {
   "cell_type": "code",
   "execution_count": null,
   "metadata": {
    "ExecuteTime": {
     "end_time": "2021-03-24T19:20:37.854510Z",
     "start_time": "2021-03-24T19:20:37.837508Z"
    }
   },
   "outputs": [],
   "source": [
    "def amp_n_gen(n):\n",
    "    '''Recibe un entero n y entrega el decorador asociado a amplicar n'''\n",
    "    \n",
    "    return decorator"
   ]
  },
  {
   "cell_type": "markdown",
   "metadata": {},
   "source": [
    "Luego se define el decorador que se desea modificar, este segundo objeto hace uso de la clausura de ```amp_n_gen```:"
   ]
  },
  {
   "cell_type": "code",
   "execution_count": null,
   "metadata": {
    "ExecuteTime": {
     "end_time": "2021-03-24T19:20:37.870507Z",
     "start_time": "2021-03-24T19:20:37.857509Z"
    }
   },
   "outputs": [],
   "source": [
    "def amp_n_gen(m):\n",
    "    '''Recibe un entero n y entrega el decorador asociado a amplicar n'''\n",
    "    def amp_n(f):\n",
    "        \n",
    "        return funcion_modificadora\n",
    "    \n",
    "    return decorator"
   ]
  },
  {
   "cell_type": "markdown",
   "metadata": {},
   "source": [
    "Dentro del decorador ```amp_n```, definimos su acción sobre las funciones que opera."
   ]
  },
  {
   "cell_type": "code",
   "execution_count": null,
   "metadata": {
    "ExecuteTime": {
     "end_time": "2021-03-24T19:20:37.886511Z",
     "start_time": "2021-03-24T19:20:37.873510Z"
    }
   },
   "outputs": [],
   "source": [
    "def amp_n_gen(m):\n",
    "    '''Recibe un entero m y entrega el decorador asociado a amplicar n'''\n",
    "    \n",
    "    def amp_n(f):\n",
    "        '''Amplifica el resultado de un funcion n veces.\n",
    "    \n",
    "        Toma una funcion f y un numero n opcional, aplifica las evaluaciones \n",
    "        de la función f(x) segun f(x)*n,\n",
    "        Args\n",
    "        ----\n",
    "        f : function\n",
    "            Funcion cuyo resultado sera amplificado en `n`\n",
    "        n : int, opcional,\n",
    "            Valor numerico con el cual amplicar la \n",
    "            evaluacion de f. Su valor por defecto es n=2.\n",
    "\n",
    "        Returns\n",
    "        -------\n",
    "        function\n",
    "        '''\n",
    "        def funcion_modificadora(*args,**kwargs):\n",
    "            '''Permite cambiar el comportamiento de f.'''\n",
    "            return f(*args,**kwargs)*m\n",
    "        \n",
    "        return funcion_modificadora\n",
    "\n",
    "    return amp_n"
   ]
  },
  {
   "cell_type": "markdown",
   "metadata": {},
   "source": [
    "Hay que observar detenidamente, que ```funcion_modificadora``` hace uso de la clausura de ```amp_n_gen``` que se hace accesible al definir ```amp_n``` en su scope. Esto se observa en la linea ``` return f(*args,**kwargs)*m```. Finalmente comprobamos el resultado:"
   ]
  },
  {
   "cell_type": "code",
   "execution_count": null,
   "metadata": {
    "ExecuteTime": {
     "end_time": "2021-03-24T19:20:37.901509Z",
     "start_time": "2021-03-24T19:20:37.889509Z"
    }
   },
   "outputs": [],
   "source": [
    "@amp_n_gen(7)\n",
    "def funcion_inicial(x):\n",
    "    '''Funcion identidad.'''\n",
    "    return x\n",
    "\n",
    "funcion_inicial(1)"
   ]
  },
  {
   "cell_type": "markdown",
   "metadata": {},
   "source": [
    "**Ejercicio**\n",
    "\n",
    "1. Defina el decorador ```run_n``` que recibe un argumento ```n```. Este decorador opera sobre funciones de cualquier tipo de input y su propósito es ejecutar tales funciones ```n``` veces, imprimiendo en pantalla en que número de ejecución se encuentra el interprete de ordenes."
   ]
  }
 ],
 "metadata": {
  "kernelspec": {
   "display_name": "Python 3",
   "language": "python",
   "name": "python3"
  },
  "language_info": {
   "codemirror_mode": {
    "name": "ipython",
    "version": 3
   },
   "file_extension": ".py",
   "mimetype": "text/x-python",
   "name": "python",
   "nbconvert_exporter": "python",
   "pygments_lexer": "ipython3",
   "version": "3.9.2"
  },
  "nbTranslate": {
   "displayLangs": [
    "es",
    "en"
   ],
   "hotkey": "alt-t",
   "langInMainMenu": true,
   "sourceLang": "en",
   "targetLang": "es",
   "useGoogleTranslate": true
  },
  "toc": {
   "base_numbering": 1,
   "nav_menu": {},
   "number_sections": true,
   "sideBar": true,
   "skip_h1_title": false,
   "title_cell": "Table of Contents",
   "title_sidebar": "Contents",
   "toc_cell": false,
   "toc_position": {
    "height": "calc(100% - 180px)",
    "left": "10px",
    "top": "150px",
    "width": "269.717px"
   },
   "toc_section_display": true,
   "toc_window_display": false
  },
  "varInspector": {
   "cols": {
    "lenName": 16,
    "lenType": 16,
    "lenVar": 40
   },
   "kernels_config": {
    "python": {
     "delete_cmd_postfix": "",
     "delete_cmd_prefix": "del ",
     "library": "var_list.py",
     "varRefreshCmd": "print(var_dic_list())"
    },
    "r": {
     "delete_cmd_postfix": ") ",
     "delete_cmd_prefix": "rm(",
     "library": "var_list.r",
     "varRefreshCmd": "cat(var_dic_list()) "
    }
   },
   "types_to_exclude": [
    "module",
    "function",
    "builtin_function_or_method",
    "instance",
    "_Feature"
   ],
   "window_display": false
  }
 },
 "nbformat": 4,
 "nbformat_minor": 4
}
